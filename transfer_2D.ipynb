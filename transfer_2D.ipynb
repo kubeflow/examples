{
 "cells": [
  {
   "cell_type": "code",
   "execution_count": 2,
   "id": "6422ae61",
   "metadata": {},
   "outputs": [],
   "source": [
    "import numpy as np  \n",
    "import pandas as pd  \n",
    "from keras.utils import np_utils\n",
    "import os\n",
    "import matplotlib.pyplot as plt\n",
    "import seaborn as sns\n",
    "import cv2\n",
    "import tensorflow\n",
    "from tensorflow.keras.models import Sequential  \n",
    "from tensorflow.keras.layers import Dense,Dropout,Flatten,Conv2D,MaxPooling2D,BatchNormalization\n",
    "import time\n",
    "import keras\n",
    "from sklearn.metrics import confusion_matrix\n",
    "from sklearn.metrics import classification_report"
   ]
  },
  {
   "cell_type": "code",
   "execution_count": 3,
   "id": "c6454acc",
   "metadata": {},
   "outputs": [],
   "source": [
    "dirdata1='forehand_train_img/'\n",
    "dirdata2='backhand_train_img/'"
   ]
  },
  {
   "cell_type": "code",
   "execution_count": 4,
   "id": "6ff43c29",
   "metadata": {},
   "outputs": [],
   "source": [
    "def data_img(dirdata1,dirdata2):\n",
    "    data = [] # 1 step\n",
    "    label = []\n",
    "    height=120\n",
    "    BLACK = [0,0,0]\n",
    "    for i in os.listdir(dirdata1): # 2 step\n",
    "        img = cv2.imread(dirdata1+i)\n",
    "        x,y,z = img.shape\n",
    "        if x<=height:\n",
    "            constant = cv2.copyMakeBorder(img,0,height-x,0,0,cv2.BORDER_CONSTANT,value=BLACK)\n",
    "        data.append(constant) # 2-2 \n",
    "        label.append(0) # 2-3\n",
    "    for i in os.listdir(dirdata2):\n",
    "        img = cv2.imread(dirdata2+i)\n",
    "        x,y,z = img.shape\n",
    "        if x<=height:\n",
    "            constant = cv2.copyMakeBorder(img,0,height-x,0,0,cv2.BORDER_CONSTANT,value=BLACK)\n",
    "        data.append(constant) # 2-2 \n",
    "        label.append(1) # 2-3\n",
    "        \n",
    "    data = np.array(data) # 3\n",
    "    label = np.array(label) #3\n",
    "\n",
    "    label_one_hot = np.eye(2)[label] # 4 one-hot encoding\n",
    "\n",
    "    data_norm = data / 255 #5\n",
    "    return data_norm,label_one_hot"
   ]
  },
  {
   "cell_type": "code",
   "execution_count": 5,
   "id": "76111fd6",
   "metadata": {},
   "outputs": [],
   "source": [
    "data, label=data_img(dirdata1,dirdata2)"
   ]
  },
  {
   "cell_type": "code",
   "execution_count": 6,
   "id": "523d7787",
   "metadata": {},
   "outputs": [],
   "source": [
    "from sklearn.model_selection import train_test_split\n",
    "X_train, X_test, Y_train, Y_test = train_test_split(data, label, test_size=0.5, random_state=42)"
   ]
  },
  {
   "cell_type": "code",
   "execution_count": 7,
   "id": "e2862dfb",
   "metadata": {},
   "outputs": [],
   "source": [
    "from keras.applications import vgg16"
   ]
  },
  {
   "cell_type": "code",
   "execution_count": 16,
   "id": "8ae8ee55",
   "metadata": {},
   "outputs": [],
   "source": [
    "#讀取vgg16模型並重設輸入層\n",
    "vgg16=vgg16.VGG16(weights='imagenet', include_top=False, input_shape=(120,50,3))"
   ]
  },
  {
   "cell_type": "code",
   "execution_count": 17,
   "id": "e5391f07",
   "metadata": {},
   "outputs": [
    {
     "name": "stdout",
     "output_type": "stream",
     "text": [
      "Model: \"vgg16\"\n",
      "_________________________________________________________________\n",
      " Layer (type)                Output Shape              Param #   \n",
      "=================================================================\n",
      " input_4 (InputLayer)        [(None, 120, 50, 3)]      0         \n",
      "                                                                 \n",
      " block1_conv1 (Conv2D)       (None, 120, 50, 64)       1792      \n",
      "                                                                 \n",
      " block1_conv2 (Conv2D)       (None, 120, 50, 64)       36928     \n",
      "                                                                 \n",
      " block1_pool (MaxPooling2D)  (None, 60, 25, 64)        0         \n",
      "                                                                 \n",
      " block2_conv1 (Conv2D)       (None, 60, 25, 128)       73856     \n",
      "                                                                 \n",
      " block2_conv2 (Conv2D)       (None, 60, 25, 128)       147584    \n",
      "                                                                 \n",
      " block2_pool (MaxPooling2D)  (None, 30, 12, 128)       0         \n",
      "                                                                 \n",
      " block3_conv1 (Conv2D)       (None, 30, 12, 256)       295168    \n",
      "                                                                 \n",
      " block3_conv2 (Conv2D)       (None, 30, 12, 256)       590080    \n",
      "                                                                 \n",
      " block3_conv3 (Conv2D)       (None, 30, 12, 256)       590080    \n",
      "                                                                 \n",
      " block3_pool (MaxPooling2D)  (None, 15, 6, 256)        0         \n",
      "                                                                 \n",
      " block4_conv1 (Conv2D)       (None, 15, 6, 512)        1180160   \n",
      "                                                                 \n",
      " block4_conv2 (Conv2D)       (None, 15, 6, 512)        2359808   \n",
      "                                                                 \n",
      " block4_conv3 (Conv2D)       (None, 15, 6, 512)        2359808   \n",
      "                                                                 \n",
      " block4_pool (MaxPooling2D)  (None, 7, 3, 512)         0         \n",
      "                                                                 \n",
      " block5_conv1 (Conv2D)       (None, 7, 3, 512)         2359808   \n",
      "                                                                 \n",
      " block5_conv2 (Conv2D)       (None, 7, 3, 512)         2359808   \n",
      "                                                                 \n",
      " block5_conv3 (Conv2D)       (None, 7, 3, 512)         2359808   \n",
      "                                                                 \n",
      " block5_pool (MaxPooling2D)  (None, 3, 1, 512)         0         \n",
      "                                                                 \n",
      "=================================================================\n",
      "Total params: 14,714,688\n",
      "Trainable params: 14,714,688\n",
      "Non-trainable params: 0\n",
      "_________________________________________________________________\n"
     ]
    }
   ],
   "source": [
    "vgg16.summary()"
   ]
  },
  {
   "cell_type": "code",
   "execution_count": 23,
   "id": "fc64c4d0",
   "metadata": {},
   "outputs": [],
   "source": [
    "#建立新的模型\n",
    "model = Sequential()"
   ]
  },
  {
   "cell_type": "code",
   "execution_count": 24,
   "id": "ae871cdf",
   "metadata": {},
   "outputs": [
    {
     "name": "stdout",
     "output_type": "stream",
     "text": [
      "Model: \"sequential_1\"\n",
      "_________________________________________________________________\n",
      " Layer (type)                Output Shape              Param #   \n",
      "=================================================================\n",
      " block1_conv1 (Conv2D)       (None, 120, 50, 64)       1792      \n",
      "                                                                 \n",
      " block1_conv2 (Conv2D)       (None, 120, 50, 64)       36928     \n",
      "                                                                 \n",
      " block1_pool (MaxPooling2D)  (None, 60, 25, 64)        0         \n",
      "                                                                 \n",
      " block2_conv1 (Conv2D)       (None, 60, 25, 128)       73856     \n",
      "                                                                 \n",
      " block2_conv2 (Conv2D)       (None, 60, 25, 128)       147584    \n",
      "                                                                 \n",
      " block2_pool (MaxPooling2D)  (None, 30, 12, 128)       0         \n",
      "                                                                 \n",
      " block3_conv1 (Conv2D)       (None, 30, 12, 256)       295168    \n",
      "                                                                 \n",
      " block3_conv2 (Conv2D)       (None, 30, 12, 256)       590080    \n",
      "                                                                 \n",
      " block3_conv3 (Conv2D)       (None, 30, 12, 256)       590080    \n",
      "                                                                 \n",
      " block3_pool (MaxPooling2D)  (None, 15, 6, 256)        0         \n",
      "                                                                 \n",
      " block4_conv1 (Conv2D)       (None, 15, 6, 512)        1180160   \n",
      "                                                                 \n",
      " block4_conv2 (Conv2D)       (None, 15, 6, 512)        2359808   \n",
      "                                                                 \n",
      " block4_conv3 (Conv2D)       (None, 15, 6, 512)        2359808   \n",
      "                                                                 \n",
      " block4_pool (MaxPooling2D)  (None, 7, 3, 512)         0         \n",
      "                                                                 \n",
      " block5_conv1 (Conv2D)       (None, 7, 3, 512)         2359808   \n",
      "                                                                 \n",
      " block5_conv2 (Conv2D)       (None, 7, 3, 512)         2359808   \n",
      "                                                                 \n",
      " block5_conv3 (Conv2D)       (None, 7, 3, 512)         2359808   \n",
      "                                                                 \n",
      " block5_pool (MaxPooling2D)  (None, 3, 1, 512)         0         \n",
      "                                                                 \n",
      "=================================================================\n",
      "Total params: 14,714,688\n",
      "Trainable params: 14,714,688\n",
      "Non-trainable params: 0\n",
      "_________________________________________________________________\n"
     ]
    }
   ],
   "source": [
    "#將vgg16的訓練層讀進新模型\n",
    "for layer in vgg16.layers:\n",
    "    model.add(layer)\n",
    "model.summary()"
   ]
  },
  {
   "cell_type": "code",
   "execution_count": 25,
   "id": "ce87a9c9",
   "metadata": {},
   "outputs": [],
   "source": [
    "#將vgg16的訓練層參數凍結\n",
    "for layer in model.layers:\n",
    "    layer.trainable = False"
   ]
  },
  {
   "cell_type": "code",
   "execution_count": 26,
   "id": "b643eb08",
   "metadata": {},
   "outputs": [],
   "source": [
    "#在新模型後加入新的輸出\n",
    "model.add(Flatten())\n",
    "model.add(Dense(128, activation='relu'))\n",
    "model.add(Dropout(0.25))\n",
    "model.add(Dense(2, activation='softmax'))"
   ]
  },
  {
   "cell_type": "code",
   "execution_count": 27,
   "id": "b6174084",
   "metadata": {},
   "outputs": [
    {
     "name": "stdout",
     "output_type": "stream",
     "text": [
      "Model: \"sequential_1\"\n",
      "_________________________________________________________________\n",
      " Layer (type)                Output Shape              Param #   \n",
      "=================================================================\n",
      " block1_conv1 (Conv2D)       (None, 120, 50, 64)       1792      \n",
      "                                                                 \n",
      " block1_conv2 (Conv2D)       (None, 120, 50, 64)       36928     \n",
      "                                                                 \n",
      " block1_pool (MaxPooling2D)  (None, 60, 25, 64)        0         \n",
      "                                                                 \n",
      " block2_conv1 (Conv2D)       (None, 60, 25, 128)       73856     \n",
      "                                                                 \n",
      " block2_conv2 (Conv2D)       (None, 60, 25, 128)       147584    \n",
      "                                                                 \n",
      " block2_pool (MaxPooling2D)  (None, 30, 12, 128)       0         \n",
      "                                                                 \n",
      " block3_conv1 (Conv2D)       (None, 30, 12, 256)       295168    \n",
      "                                                                 \n",
      " block3_conv2 (Conv2D)       (None, 30, 12, 256)       590080    \n",
      "                                                                 \n",
      " block3_conv3 (Conv2D)       (None, 30, 12, 256)       590080    \n",
      "                                                                 \n",
      " block3_pool (MaxPooling2D)  (None, 15, 6, 256)        0         \n",
      "                                                                 \n",
      " block4_conv1 (Conv2D)       (None, 15, 6, 512)        1180160   \n",
      "                                                                 \n",
      " block4_conv2 (Conv2D)       (None, 15, 6, 512)        2359808   \n",
      "                                                                 \n",
      " block4_conv3 (Conv2D)       (None, 15, 6, 512)        2359808   \n",
      "                                                                 \n",
      " block4_pool (MaxPooling2D)  (None, 7, 3, 512)         0         \n",
      "                                                                 \n",
      " block5_conv1 (Conv2D)       (None, 7, 3, 512)         2359808   \n",
      "                                                                 \n",
      " block5_conv2 (Conv2D)       (None, 7, 3, 512)         2359808   \n",
      "                                                                 \n",
      " block5_conv3 (Conv2D)       (None, 7, 3, 512)         2359808   \n",
      "                                                                 \n",
      " block5_pool (MaxPooling2D)  (None, 3, 1, 512)         0         \n",
      "                                                                 \n",
      " flatten_1 (Flatten)         (None, 1536)              0         \n",
      "                                                                 \n",
      " dense_2 (Dense)             (None, 128)               196736    \n",
      "                                                                 \n",
      " dropout_1 (Dropout)         (None, 128)               0         \n",
      "                                                                 \n",
      " dense_3 (Dense)             (None, 2)                 258       \n",
      "                                                                 \n",
      "=================================================================\n",
      "Total params: 14,911,682\n",
      "Trainable params: 196,994\n",
      "Non-trainable params: 14,714,688\n",
      "_________________________________________________________________\n"
     ]
    }
   ],
   "source": [
    "model.summary()"
   ]
  },
  {
   "cell_type": "code",
   "execution_count": 28,
   "id": "938773a7",
   "metadata": {},
   "outputs": [
    {
     "name": "stdout",
     "output_type": "stream",
     "text": [
      "Epoch 1/100\n",
      "6/6 [==============================] - 6s 267ms/step - loss: 0.8170 - accuracy: 0.5284 - val_loss: 0.6635 - val_accuracy: 0.5455\n",
      "Epoch 2/100\n",
      "6/6 [==============================] - 0s 19ms/step - loss: 0.5665 - accuracy: 0.6818 - val_loss: 0.6265 - val_accuracy: 0.5000\n",
      "Epoch 3/100\n",
      "6/6 [==============================] - 0s 19ms/step - loss: 0.5324 - accuracy: 0.7102 - val_loss: 0.3957 - val_accuracy: 0.7955\n",
      "Epoch 4/100\n",
      "6/6 [==============================] - 0s 19ms/step - loss: 0.4490 - accuracy: 0.7841 - val_loss: 0.2707 - val_accuracy: 0.9545\n",
      "Epoch 5/100\n",
      "6/6 [==============================] - 0s 19ms/step - loss: 0.4119 - accuracy: 0.8239 - val_loss: 0.2182 - val_accuracy: 0.9545\n",
      "Epoch 6/100\n",
      "6/6 [==============================] - 0s 19ms/step - loss: 0.3458 - accuracy: 0.8466 - val_loss: 0.1921 - val_accuracy: 0.9773\n",
      "Epoch 7/100\n",
      "6/6 [==============================] - 0s 19ms/step - loss: 0.3050 - accuracy: 0.8864 - val_loss: 0.1746 - val_accuracy: 0.9545\n",
      "Epoch 8/100\n",
      "6/6 [==============================] - 0s 19ms/step - loss: 0.2750 - accuracy: 0.8864 - val_loss: 0.1561 - val_accuracy: 0.9773\n",
      "Epoch 9/100\n",
      "6/6 [==============================] - 0s 19ms/step - loss: 0.2413 - accuracy: 0.9261 - val_loss: 0.1345 - val_accuracy: 0.9773\n",
      "Epoch 10/100\n",
      "6/6 [==============================] - 0s 19ms/step - loss: 0.2188 - accuracy: 0.9205 - val_loss: 0.1223 - val_accuracy: 0.9773\n",
      "Epoch 11/100\n",
      "6/6 [==============================] - 0s 19ms/step - loss: 0.2031 - accuracy: 0.9318 - val_loss: 0.1149 - val_accuracy: 0.9773\n",
      "Epoch 12/100\n",
      "6/6 [==============================] - 0s 19ms/step - loss: 0.2069 - accuracy: 0.9261 - val_loss: 0.1087 - val_accuracy: 0.9773\n",
      "Epoch 13/100\n",
      "6/6 [==============================] - 0s 19ms/step - loss: 0.1934 - accuracy: 0.9261 - val_loss: 0.1067 - val_accuracy: 0.9773\n",
      "Epoch 14/100\n",
      "6/6 [==============================] - 0s 19ms/step - loss: 0.1670 - accuracy: 0.9375 - val_loss: 0.1020 - val_accuracy: 0.9773\n",
      "Epoch 15/100\n",
      "6/6 [==============================] - 0s 20ms/step - loss: 0.1579 - accuracy: 0.9375 - val_loss: 0.1049 - val_accuracy: 0.9773\n",
      "Epoch 16/100\n",
      "6/6 [==============================] - 0s 20ms/step - loss: 0.1677 - accuracy: 0.9432 - val_loss: 0.0943 - val_accuracy: 0.9773\n",
      "Epoch 17/100\n",
      "6/6 [==============================] - 0s 20ms/step - loss: 0.1533 - accuracy: 0.9545 - val_loss: 0.0937 - val_accuracy: 0.9773\n",
      "Epoch 18/100\n",
      "6/6 [==============================] - 0s 20ms/step - loss: 0.1318 - accuracy: 0.9659 - val_loss: 0.0914 - val_accuracy: 0.9773\n",
      "Epoch 19/100\n",
      "6/6 [==============================] - 0s 20ms/step - loss: 0.1310 - accuracy: 0.9602 - val_loss: 0.0877 - val_accuracy: 0.9773\n",
      "Epoch 20/100\n",
      "6/6 [==============================] - 0s 20ms/step - loss: 0.1224 - accuracy: 0.9716 - val_loss: 0.0837 - val_accuracy: 0.9773\n",
      "Epoch 21/100\n",
      "6/6 [==============================] - 0s 20ms/step - loss: 0.1105 - accuracy: 0.9602 - val_loss: 0.0803 - val_accuracy: 0.9773\n",
      "Epoch 22/100\n",
      "6/6 [==============================] - 0s 19ms/step - loss: 0.1091 - accuracy: 0.9716 - val_loss: 0.0769 - val_accuracy: 0.9545\n",
      "Epoch 23/100\n",
      "6/6 [==============================] - 0s 19ms/step - loss: 0.1055 - accuracy: 0.9773 - val_loss: 0.0765 - val_accuracy: 0.9773\n",
      "Epoch 24/100\n",
      "6/6 [==============================] - 0s 20ms/step - loss: 0.0993 - accuracy: 0.9716 - val_loss: 0.0725 - val_accuracy: 0.9545\n",
      "Epoch 25/100\n",
      "6/6 [==============================] - 0s 20ms/step - loss: 0.0854 - accuracy: 0.9886 - val_loss: 0.0717 - val_accuracy: 0.9773\n",
      "Epoch 26/100\n",
      "6/6 [==============================] - 0s 19ms/step - loss: 0.0819 - accuracy: 0.9886 - val_loss: 0.0683 - val_accuracy: 0.9545\n",
      "Epoch 27/100\n",
      "6/6 [==============================] - 0s 20ms/step - loss: 0.0887 - accuracy: 0.9773 - val_loss: 0.0672 - val_accuracy: 0.9773\n",
      "Epoch 28/100\n",
      "6/6 [==============================] - 0s 19ms/step - loss: 0.0854 - accuracy: 0.9886 - val_loss: 0.0683 - val_accuracy: 0.9545\n",
      "Epoch 29/100\n",
      "6/6 [==============================] - 0s 19ms/step - loss: 0.0845 - accuracy: 0.9659 - val_loss: 0.0701 - val_accuracy: 0.9773\n",
      "Epoch 30/100\n",
      "6/6 [==============================] - 0s 19ms/step - loss: 0.0800 - accuracy: 0.9943 - val_loss: 0.0701 - val_accuracy: 0.9545\n",
      "Epoch 31/100\n",
      "6/6 [==============================] - 0s 19ms/step - loss: 0.0677 - accuracy: 0.9830 - val_loss: 0.0702 - val_accuracy: 0.9773\n",
      "Epoch 32/100\n",
      "6/6 [==============================] - 0s 19ms/step - loss: 0.0646 - accuracy: 0.9943 - val_loss: 0.0677 - val_accuracy: 0.9773\n",
      "Epoch 33/100\n",
      "6/6 [==============================] - 0s 19ms/step - loss: 0.0681 - accuracy: 0.9773 - val_loss: 0.0700 - val_accuracy: 0.9773\n",
      "Epoch 34/100\n",
      "6/6 [==============================] - 0s 19ms/step - loss: 0.0598 - accuracy: 1.0000 - val_loss: 0.0687 - val_accuracy: 0.9545\n",
      "Epoch 35/100\n",
      "6/6 [==============================] - 0s 19ms/step - loss: 0.0515 - accuracy: 1.0000 - val_loss: 0.0683 - val_accuracy: 0.9545\n",
      "Epoch 36/100\n",
      "6/6 [==============================] - 0s 20ms/step - loss: 0.0599 - accuracy: 0.9943 - val_loss: 0.0737 - val_accuracy: 0.9773\n",
      "Epoch 37/100\n",
      "6/6 [==============================] - 0s 20ms/step - loss: 0.0442 - accuracy: 1.0000 - val_loss: 0.0697 - val_accuracy: 0.9545\n",
      "Epoch 38/100\n",
      "6/6 [==============================] - 0s 20ms/step - loss: 0.0484 - accuracy: 0.9943 - val_loss: 0.0668 - val_accuracy: 0.9773\n",
      "Epoch 39/100\n",
      "6/6 [==============================] - 0s 19ms/step - loss: 0.0509 - accuracy: 0.9943 - val_loss: 0.0642 - val_accuracy: 0.9545\n",
      "Epoch 40/100\n",
      "6/6 [==============================] - 0s 19ms/step - loss: 0.0474 - accuracy: 0.9943 - val_loss: 0.0654 - val_accuracy: 0.9545\n",
      "Epoch 41/100\n",
      "6/6 [==============================] - 0s 20ms/step - loss: 0.0368 - accuracy: 1.0000 - val_loss: 0.0672 - val_accuracy: 0.9773\n",
      "Epoch 42/100\n",
      "6/6 [==============================] - 0s 19ms/step - loss: 0.0363 - accuracy: 1.0000 - val_loss: 0.0640 - val_accuracy: 0.9545\n",
      "Epoch 43/100\n",
      "6/6 [==============================] - 0s 19ms/step - loss: 0.0368 - accuracy: 1.0000 - val_loss: 0.0651 - val_accuracy: 0.9773\n",
      "Epoch 44/100\n",
      "6/6 [==============================] - 0s 19ms/step - loss: 0.0375 - accuracy: 1.0000 - val_loss: 0.0640 - val_accuracy: 0.9773\n",
      "Epoch 45/100\n",
      "6/6 [==============================] - 0s 20ms/step - loss: 0.0349 - accuracy: 1.0000 - val_loss: 0.0685 - val_accuracy: 0.9773\n",
      "Epoch 46/100\n",
      "6/6 [==============================] - 0s 20ms/step - loss: 0.0381 - accuracy: 1.0000 - val_loss: 0.0674 - val_accuracy: 0.9773\n",
      "Epoch 47/100\n",
      "6/6 [==============================] - 0s 20ms/step - loss: 0.0414 - accuracy: 0.9886 - val_loss: 0.0658 - val_accuracy: 0.9773\n",
      "Epoch 48/100\n",
      "6/6 [==============================] - 0s 20ms/step - loss: 0.0268 - accuracy: 1.0000 - val_loss: 0.0666 - val_accuracy: 0.9773\n",
      "Epoch 49/100\n",
      "6/6 [==============================] - 0s 20ms/step - loss: 0.0259 - accuracy: 1.0000 - val_loss: 0.0652 - val_accuracy: 0.9545\n",
      "Epoch 50/100\n",
      "6/6 [==============================] - 0s 19ms/step - loss: 0.0276 - accuracy: 1.0000 - val_loss: 0.0676 - val_accuracy: 0.9773\n",
      "Epoch 51/100\n",
      "6/6 [==============================] - 0s 19ms/step - loss: 0.0247 - accuracy: 1.0000 - val_loss: 0.0648 - val_accuracy: 0.9545\n",
      "Epoch 52/100\n",
      "6/6 [==============================] - 0s 20ms/step - loss: 0.0261 - accuracy: 1.0000 - val_loss: 0.0671 - val_accuracy: 0.9773\n",
      "Epoch 53/100\n",
      "6/6 [==============================] - 0s 20ms/step - loss: 0.0272 - accuracy: 1.0000 - val_loss: 0.0672 - val_accuracy: 0.9773\n",
      "Epoch 54/100\n",
      "6/6 [==============================] - 0s 19ms/step - loss: 0.0232 - accuracy: 1.0000 - val_loss: 0.0703 - val_accuracy: 0.9773\n",
      "Epoch 55/100\n",
      "6/6 [==============================] - 0s 20ms/step - loss: 0.0250 - accuracy: 1.0000 - val_loss: 0.0719 - val_accuracy: 0.9773\n",
      "Epoch 56/100\n",
      "6/6 [==============================] - 0s 19ms/step - loss: 0.0231 - accuracy: 1.0000 - val_loss: 0.0719 - val_accuracy: 0.9773\n",
      "Epoch 57/100\n",
      "6/6 [==============================] - 0s 19ms/step - loss: 0.0287 - accuracy: 1.0000 - val_loss: 0.0751 - val_accuracy: 0.9773\n",
      "Epoch 58/100\n",
      "6/6 [==============================] - 0s 19ms/step - loss: 0.0190 - accuracy: 1.0000 - val_loss: 0.0729 - val_accuracy: 0.9545\n",
      "Epoch 59/100\n",
      "6/6 [==============================] - 0s 20ms/step - loss: 0.0218 - accuracy: 1.0000 - val_loss: 0.0761 - val_accuracy: 0.9773\n",
      "Epoch 60/100\n",
      "6/6 [==============================] - 0s 20ms/step - loss: 0.0197 - accuracy: 1.0000 - val_loss: 0.0733 - val_accuracy: 0.9773\n",
      "Epoch 61/100\n",
      "6/6 [==============================] - 0s 20ms/step - loss: 0.0181 - accuracy: 1.0000 - val_loss: 0.0733 - val_accuracy: 0.9773\n",
      "Epoch 62/100\n",
      "6/6 [==============================] - 0s 20ms/step - loss: 0.0134 - accuracy: 1.0000 - val_loss: 0.0772 - val_accuracy: 0.9773\n",
      "Epoch 63/100\n",
      "6/6 [==============================] - 0s 20ms/step - loss: 0.0168 - accuracy: 1.0000 - val_loss: 0.0772 - val_accuracy: 0.9773\n",
      "Epoch 64/100\n",
      "6/6 [==============================] - 0s 20ms/step - loss: 0.0168 - accuracy: 1.0000 - val_loss: 0.0779 - val_accuracy: 0.9773\n",
      "Epoch 65/100\n",
      "6/6 [==============================] - 0s 20ms/step - loss: 0.0150 - accuracy: 1.0000 - val_loss: 0.0782 - val_accuracy: 0.9545\n",
      "Epoch 66/100\n",
      "6/6 [==============================] - 0s 20ms/step - loss: 0.0146 - accuracy: 1.0000 - val_loss: 0.0815 - val_accuracy: 0.9773\n",
      "Epoch 67/100\n",
      "6/6 [==============================] - 0s 20ms/step - loss: 0.0132 - accuracy: 1.0000 - val_loss: 0.0809 - val_accuracy: 0.9773\n",
      "Epoch 68/100\n",
      "6/6 [==============================] - 0s 20ms/step - loss: 0.0136 - accuracy: 1.0000 - val_loss: 0.0802 - val_accuracy: 0.9773\n",
      "Epoch 69/100\n",
      "6/6 [==============================] - 0s 20ms/step - loss: 0.0131 - accuracy: 1.0000 - val_loss: 0.0798 - val_accuracy: 0.9773\n",
      "Epoch 70/100\n",
      "6/6 [==============================] - 0s 19ms/step - loss: 0.0142 - accuracy: 1.0000 - val_loss: 0.0834 - val_accuracy: 0.9773\n",
      "Epoch 71/100\n",
      "6/6 [==============================] - 0s 20ms/step - loss: 0.0109 - accuracy: 1.0000 - val_loss: 0.0786 - val_accuracy: 0.9773\n",
      "Epoch 72/100\n",
      "6/6 [==============================] - 0s 20ms/step - loss: 0.0139 - accuracy: 1.0000 - val_loss: 0.0844 - val_accuracy: 0.9773\n",
      "Epoch 73/100\n",
      "6/6 [==============================] - 0s 19ms/step - loss: 0.0121 - accuracy: 1.0000 - val_loss: 0.0792 - val_accuracy: 0.9773\n",
      "Epoch 74/100\n",
      "6/6 [==============================] - 0s 19ms/step - loss: 0.0112 - accuracy: 1.0000 - val_loss: 0.0825 - val_accuracy: 0.9773\n",
      "Epoch 75/100\n",
      "6/6 [==============================] - 0s 20ms/step - loss: 0.0129 - accuracy: 1.0000 - val_loss: 0.0831 - val_accuracy: 0.9773\n",
      "Epoch 76/100\n",
      "6/6 [==============================] - 0s 19ms/step - loss: 0.0113 - accuracy: 1.0000 - val_loss: 0.0819 - val_accuracy: 0.9773\n",
      "Epoch 77/100\n",
      "6/6 [==============================] - 0s 20ms/step - loss: 0.0117 - accuracy: 1.0000 - val_loss: 0.0852 - val_accuracy: 0.9773\n",
      "Epoch 78/100\n",
      "6/6 [==============================] - 0s 19ms/step - loss: 0.0112 - accuracy: 1.0000 - val_loss: 0.0840 - val_accuracy: 0.9545\n",
      "Epoch 79/100\n",
      "6/6 [==============================] - 0s 19ms/step - loss: 0.0113 - accuracy: 1.0000 - val_loss: 0.0920 - val_accuracy: 0.9773\n",
      "Epoch 80/100\n",
      "6/6 [==============================] - 0s 19ms/step - loss: 0.0099 - accuracy: 1.0000 - val_loss: 0.0848 - val_accuracy: 0.9773\n",
      "Epoch 81/100\n",
      "6/6 [==============================] - 0s 19ms/step - loss: 0.0116 - accuracy: 1.0000 - val_loss: 0.0854 - val_accuracy: 0.9773\n",
      "Epoch 82/100\n",
      "6/6 [==============================] - 0s 19ms/step - loss: 0.0090 - accuracy: 1.0000 - val_loss: 0.0923 - val_accuracy: 0.9773\n",
      "Epoch 83/100\n",
      "6/6 [==============================] - 0s 19ms/step - loss: 0.0089 - accuracy: 1.0000 - val_loss: 0.0891 - val_accuracy: 0.9773\n",
      "Epoch 84/100\n",
      "6/6 [==============================] - 0s 19ms/step - loss: 0.0078 - accuracy: 1.0000 - val_loss: 0.0933 - val_accuracy: 0.9773\n",
      "Epoch 85/100\n",
      "6/6 [==============================] - 0s 19ms/step - loss: 0.0067 - accuracy: 1.0000 - val_loss: 0.0939 - val_accuracy: 0.9773\n",
      "Epoch 86/100\n",
      "6/6 [==============================] - 0s 19ms/step - loss: 0.0074 - accuracy: 1.0000 - val_loss: 0.0917 - val_accuracy: 0.9773\n",
      "Epoch 87/100\n",
      "6/6 [==============================] - 0s 19ms/step - loss: 0.0077 - accuracy: 1.0000 - val_loss: 0.0960 - val_accuracy: 0.9773\n",
      "Epoch 88/100\n",
      "6/6 [==============================] - 0s 19ms/step - loss: 0.0081 - accuracy: 1.0000 - val_loss: 0.0915 - val_accuracy: 0.9773\n",
      "Epoch 89/100\n",
      "6/6 [==============================] - 0s 19ms/step - loss: 0.0070 - accuracy: 1.0000 - val_loss: 0.0903 - val_accuracy: 0.9773\n",
      "Epoch 90/100\n",
      "6/6 [==============================] - 0s 19ms/step - loss: 0.0072 - accuracy: 1.0000 - val_loss: 0.0898 - val_accuracy: 0.9773\n",
      "Epoch 91/100\n",
      "6/6 [==============================] - 0s 19ms/step - loss: 0.0063 - accuracy: 1.0000 - val_loss: 0.0956 - val_accuracy: 0.9773\n",
      "Epoch 92/100\n",
      "6/6 [==============================] - 0s 19ms/step - loss: 0.0052 - accuracy: 1.0000 - val_loss: 0.0891 - val_accuracy: 0.9773\n",
      "Epoch 93/100\n",
      "6/6 [==============================] - 0s 19ms/step - loss: 0.0069 - accuracy: 1.0000 - val_loss: 0.0904 - val_accuracy: 0.9545\n",
      "Epoch 94/100\n",
      "6/6 [==============================] - 0s 19ms/step - loss: 0.0065 - accuracy: 1.0000 - val_loss: 0.0926 - val_accuracy: 0.9773\n",
      "Epoch 95/100\n",
      "6/6 [==============================] - 0s 19ms/step - loss: 0.0085 - accuracy: 1.0000 - val_loss: 0.0913 - val_accuracy: 0.9773\n",
      "Epoch 96/100\n",
      "6/6 [==============================] - 0s 20ms/step - loss: 0.0056 - accuracy: 1.0000 - val_loss: 0.0904 - val_accuracy: 0.9773\n",
      "Epoch 97/100\n",
      "6/6 [==============================] - 0s 20ms/step - loss: 0.0068 - accuracy: 1.0000 - val_loss: 0.0957 - val_accuracy: 0.9773\n",
      "Epoch 98/100\n",
      "6/6 [==============================] - 0s 19ms/step - loss: 0.0054 - accuracy: 1.0000 - val_loss: 0.0930 - val_accuracy: 0.9545\n",
      "Epoch 99/100\n",
      "6/6 [==============================] - 0s 19ms/step - loss: 0.0073 - accuracy: 1.0000 - val_loss: 0.0957 - val_accuracy: 0.9773\n",
      "Epoch 100/100\n",
      "6/6 [==============================] - 0s 19ms/step - loss: 0.0064 - accuracy: 1.0000 - val_loss: 0.1012 - val_accuracy: 0.9773\n"
     ]
    }
   ],
   "source": [
    "model.compile(loss='categorical_crossentropy', optimizer='adam', metrics=['accuracy'])  \n",
    "\n",
    "start_time = time.time()\n",
    "# 開始訓練  \n",
    "train_history = model.fit(X_train,Y_train,validation_split=0.2,epochs=100, batch_size=30, verbose=1)\n",
    "end_time = time.time()"
   ]
  },
  {
   "cell_type": "code",
   "execution_count": 29,
   "id": "e31c10ea",
   "metadata": {},
   "outputs": [
    {
     "name": "stdout",
     "output_type": "stream",
     "text": [
      "執行時間:  16.917825937271118 s\n"
     ]
    }
   ],
   "source": [
    "execution_time = (end_time - start_time)\n",
    "print(\"執行時間: \",execution_time,\"s\")"
   ]
  },
  {
   "cell_type": "code",
   "execution_count": 30,
   "id": "1564b01f",
   "metadata": {},
   "outputs": [
    {
     "data": {
      "image/png": "[encoded data removed]",
      "text/plain": [
       "<Figure size 864x288 with 2 Axes>"
      ]
     },
     "metadata": {
      "needs_background": "light"
     },
     "output_type": "display_data"
    }
   ],
   "source": [
    "f, (ax1, ax2) = plt.subplots(1, 2, figsize=(12, 4))\n",
    "t = f.suptitle('class model evaluate', fontsize=12)\n",
    "f.subplots_adjust(top=0.85, wspace=0.3)\n",
    "\n",
    "class_epoch_list = list(range(1,101))\n",
    "ax1.plot(class_epoch_list, train_history.history['accuracy'], label='class_Train Accuracy')\n",
    "ax1.plot(class_epoch_list, train_history.history['val_accuracy'], label='class_Validation Accuracy')\n",
    "ax1.set_xticks(np.arange(0, 101, 5))\n",
    "ax1.set_ylabel('class_Accuracy Value')\n",
    "ax1.set_xlabel('class_Epoch')\n",
    "ax1.set_title('class_Accuracy')\n",
    "l1 = ax1.legend(loc=\"best\")\n",
    "\n",
    "ax2.plot(class_epoch_list, train_history.history['loss'], label='class_Train Loss')\n",
    "ax2.plot(class_epoch_list, train_history.history['val_loss'], label='class_Validation Loss')\n",
    "ax2.set_xticks(np.arange(0, 101, 5))\n",
    "ax2.set_ylabel('class_Loss Value')\n",
    "ax2.set_xlabel('class_Epoch')\n",
    "ax2.set_title('class_Loss')\n",
    "l2 = ax2.legend(loc=\"best\")"
   ]
  },
  {
   "cell_type": "code",
   "execution_count": 31,
   "id": "21bd63de",
   "metadata": {},
   "outputs": [],
   "source": [
    "#model.save('2d_cnn_transfer_vgg16.h5')"
   ]
  },
  {
   "cell_type": "code",
   "execution_count": 32,
   "id": "becd3763",
   "metadata": {},
   "outputs": [],
   "source": [
    "modello = keras.models.load_model('2d_cnn_transfer_vgg16.h5')"
   ]
  },
  {
   "cell_type": "code",
   "execution_count": 33,
   "id": "fc43945a",
   "metadata": {},
   "outputs": [],
   "source": [
    "test_dirdata1='forehand_test_img/'\n",
    "test_dirdata2='backhand_test_img/'"
   ]
  },
  {
   "cell_type": "code",
   "execution_count": 34,
   "id": "121b3fc7",
   "metadata": {},
   "outputs": [],
   "source": [
    "test_data, test_label=data_img(test_dirdata1,test_dirdata2)"
   ]
  },
  {
   "cell_type": "code",
   "execution_count": 35,
   "id": "5e71e896",
   "metadata": {},
   "outputs": [
    {
     "name": "stdout",
     "output_type": "stream",
     "text": [
      "9/9 - 1s - 1s/epoch - 130ms/step\n"
     ]
    }
   ],
   "source": [
    "time_pre=modello.predict(test_data,verbose=2)"
   ]
  },
  {
   "cell_type": "code",
   "execution_count": 36,
   "id": "f011ddce",
   "metadata": {},
   "outputs": [],
   "source": [
    "Y_test = np.argmax(test_label,axis=1)\n",
    "Y_pred = np.argmax(time_pre,axis=1)"
   ]
  },
  {
   "cell_type": "code",
   "execution_count": 37,
   "id": "2d61fc07",
   "metadata": {},
   "outputs": [
    {
     "name": "stdout",
     "output_type": "stream",
     "text": [
      "              precision    recall  f1-score   support\n",
      "\n",
      "    forehand       0.96      0.91      0.94       115\n",
      "    backhand       0.93      0.97      0.95       145\n",
      "\n",
      "    accuracy                           0.95       260\n",
      "   macro avg       0.95      0.94      0.95       260\n",
      "weighted avg       0.95      0.95      0.95       260\n",
      "\n"
     ]
    },
    {
     "data": {
      "image/png": "[encoded data removed]",
      "text/plain": [
       "<Figure size 432x288 with 1 Axes>"
      ]
     },
     "metadata": {},
     "output_type": "display_data"
    }
   ],
   "source": [
    "mat = confusion_matrix(Y_test,Y_pred)\n",
    "\n",
    "sns.set(font_scale=1.5)\n",
    "plt.subplot(1,2,1)\n",
    "sns.heatmap(mat, square=True, annot=True, fmt='d', cbar=False)\n",
    "plt.xticks(fontsize=20)\n",
    "plt.yticks(fontsize=20)\n",
    "\n",
    "plt.ylabel('true label')\n",
    "plt.xlabel('predicted label');\n",
    "\n",
    "target_names = [\"forehand\",\"backhand\"]\n",
    "print(classification_report(Y_test,Y_pred,target_names=target_names))"
   ]
  },
  {
   "cell_type": "code",
   "execution_count": null,
   "id": "fc389c7a",
   "metadata": {},
   "outputs": [],
   "source": []
  }
 ],
 "metadata": {
  "kernelspec": {
   "display_name": "Python 3 (ipykernel)",
   "language": "python",
   "name": "python3"
  },
  "language_info": {
   "codemirror_mode": {
    "name": "ipython",
    "version": 3
   },
   "file_extension": ".py",
   "mimetype": "text/x-python",
   "name": "python",
   "nbconvert_exporter": "python",
   "pygments_lexer": "ipython3",
   "version": "3.8.11"
  }
 },
 "nbformat": 4,
 "nbformat_minor": 5
}
