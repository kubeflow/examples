{
 "cells": [
  {
   "cell_type": "code",
   "execution_count": 1,
   "metadata": {},
   "outputs": [],
   "source": [
    "# Copyright 2018 Google LLC. All Rights Reserved.\n",
    "#\n",
    "# Licensed under the Apache License, Version 2.0 (the \"License\");\n",
    "# you may not use this file except in compliance with the License.\n",
    "# You may obtain a copy of the License at\n",
    "#\n",
    "#     http://www.apache.org/licenses/LICENSE-2.0\n",
    "#\n",
    "# Unless required by applicable law or agreed to in writing, software\n",
    "# distributed under the License is distributed on an \"AS IS\" BASIS,\n",
    "# WITHOUT WARRANTIES OR CONDITIONS OF ANY KIND, either express or implied.\n",
    "# See the License for the specific language governing permissions and\n",
    "# limitations under the License.\n",
    "# =============================================================================="
   ]
  },
  {
   "cell_type": "markdown",
   "metadata": {},
   "source": [
    "## Precanned VGG16 Architecture in Keras\n",
    "\n"
   ]
  },
  {
   "cell_type": "markdown",
   "metadata": {},
   "source": [
    "## Prerequistes\n",
    "\n",
    "The following needs to be pre-installed:\n",
    "\n",
    "        ipynb  : pip install import-ipynb"
   ]
  },
  {
   "cell_type": "code",
   "execution_count": 2,
   "metadata": {},
   "outputs": [],
   "source": [
    "import import_ipynb"
   ]
  },
  {
   "cell_type": "markdown",
   "metadata": {},
   "source": [
    "## ML Pipeline Chain\n",
    "\n",
    "The following ML Pipelines will be chained together:\n",
    "\n",
    "        VGG16 -> model_keras"
   ]
  },
  {
   "cell_type": "markdown",
   "metadata": {},
   "source": [
    "### Construct VGG16 using Keras\n",
    "\n",
    "The CNN below is constructed according to TODO"
   ]
  },
  {
   "cell_type": "code",
   "execution_count": 3,
   "metadata": {},
   "outputs": [
    {
     "name": "stdout",
     "output_type": "stream",
     "text": [
      "importing Jupyter notebook from model_keras.ipynb\n"
     ]
    },
    {
     "name": "stderr",
     "output_type": "stream",
     "text": [
      "Using TensorFlow backend.\n"
     ]
    }
   ],
   "source": [
    "# Import the Keras CNN Model ML pipeline\n",
    "import model_keras"
   ]
  },
  {
   "cell_type": "code",
   "execution_count": 5,
   "metadata": {},
   "outputs": [],
   "source": [
    "# Construct a CNN with input layer of NN of:\n",
    "# Convolutional Layer of 64 filters with input vector (224, 224, 3)\n",
    "# Convolutional Layer of 64 filters\n",
    "# Max Pooling Layer\n",
    "# Convolutional Layer of 128 filters\n",
    "# Convolutional Layer of 128 filters\n",
    "# Max Pooling Layer\n",
    "# Convolutional Layer of 256 filters\n",
    "# Convolutional Layer of 256 filters\n",
    "# Convolutional Layer of 256 filters\n",
    "# Max Pooling Layer\n",
    "# Convolutional Layer of 512 filters\n",
    "# Convolutional Layer of 512 filters\n",
    "# Convolutional Layer of 512 filters\n",
    "# Max Pooling Layer\n",
    "# Convolutional Layer of 512 filters\n",
    "# Convolutional Layer of 512 filters\n",
    "# Convolutional Layer of 512 filters\n",
    "# Max Pooling Layer\n",
    "# Neural Network Layer of 4096 nodes\n",
    "# Neural Network Layer of 4096 nodes\n",
    "# Output Layer with 1000 nodes (classes)\n",
    "model = model_keras.construct_cnn( (224, 224, 3), 1000, n_filters=(64, 64, True, 128, 128, True, 256, 256, 256, True, 512, 512, 512, True, 512, 512, 512), n_nodes=(4096, 4096))"
   ]
  },
  {
   "cell_type": "code",
   "execution_count": null,
   "metadata": {},
   "outputs": [],
   "source": [
    "# Save the model\n",
    "model.save('vgg16.model.h5')"
   ]
  }
 ],
 "metadata": {
  "kernelspec": {
   "display_name": "Python 3",
   "language": "python",
   "name": "python3"
  },
  "language_info": {
   "codemirror_mode": {
    "name": "ipython",
    "version": 3
   },
   "file_extension": ".py",
   "mimetype": "text/x-python",
   "name": "python",
   "nbconvert_exporter": "python",
   "pygments_lexer": "ipython3",
   "version": "3.5.3"
  }
 },
 "nbformat": 4,
 "nbformat_minor": 2
}
