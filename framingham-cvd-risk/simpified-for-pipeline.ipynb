{
 "cells": [
  {
   "cell_type": "code",
   "execution_count": 1,
   "metadata": {},
   "outputs": [
    {
     "name": "stdout",
     "output_type": "stream",
     "text": [
      "Downloading personal-key-indicators-of-heart-disease.zip to archive\n"
     ]
    },
    {
     "name": "stderr",
     "output_type": "stream",
     "text": [
      "100%|██████████| 21.4M/21.4M [00:04<00:00, 5.39MB/s]\n"
     ]
    },
    {
     "name": "stdout",
     "output_type": "stream",
     "text": [
      "\n"
     ]
    }
   ],
   "source": [
    "import os\n",
    "os.environ['KAGGLE_USERNAME'] = '<replace-with-your-username>'\n",
    "os.environ['KAGGLE_KEY'] = '<replace-with-your-key>'\n",
    "from kaggle.api.kaggle_api_extended import KaggleApi\n",
    "kaggle = KaggleApi()\n",
    "kaggle.authenticate()\n",
    "kaggle.dataset_download_files(dataset='kamilpytlak/personal-key-indicators-of-heart-disease',\n",
    "    path='archive/',\n",
    "    force=True,\n",
    "    quiet=False,\n",
    "    unzip=True\n",
    ")"
   ]
  },
  {
   "cell_type": "code",
   "execution_count": 2,
   "metadata": {},
   "outputs": [],
   "source": [
    "import pandas as pd\n",
    "import numpy as np\n",
    "\n",
    "train = pd.read_csv('archive/2020/heart_2020_cleaned.csv')\n",
    "\n",
    "numeric_features=['BMI', 'PhysicalHealth', 'MentalHealth', 'SleepTime']\n",
    "categorical_features=['HeartDisease', 'Smoking', 'AlcoholDrinking', 'Stroke', 'DiffWalking', 'Sex', 'AgeCategory',\n",
    "       'Race', 'Diabetic', 'PhysicalActivity', 'GenHealth','Asthma', 'KidneyDisease', 'SkinCancer']\n",
    "\n",
    "from sklearn.preprocessing import OrdinalEncoder\n",
    "enc = OrdinalEncoder()\n",
    "enc.fit(train[categorical_features])\n",
    "train[categorical_features] = enc.transform(train[categorical_features])\n",
    "\n",
    "y=train['HeartDisease']\n",
    "train.drop('HeartDisease',axis=1,inplace=True)\n",
    "\n",
    "from sklearn.model_selection import train_test_split\n",
    "X_train, X_test, y_train, y_test=train_test_split(train,y,test_size=0.1,random_state=42)"
   ]
  },
  {
   "cell_type": "code",
   "execution_count": 3,
   "metadata": {},
   "outputs": [
    {
     "name": "stdout",
     "output_type": "stream",
     "text": [
      "model: KNeighborsClassifier()\n",
      "Accuracy_score: 0.9027517198248906\n",
      "Precission_score: 0.3271428571428571\n",
      "Recall_score: 0.0798465829846583\n",
      "F1-score: 0.12836322869955158\n",
      "------------------------------ \n",
      "\n"
     ]
    },
    {
     "name": "stderr",
     "output_type": "stream",
     "text": [
      "/Users/mmortari/git/demo20240120-cvd-risk/venv/lib/python3.11/site-packages/sklearn/linear_model/_logistic.py:469: ConvergenceWarning: lbfgs failed to converge (status=1):\n",
      "STOP: TOTAL NO. of ITERATIONS REACHED LIMIT.\n",
      "\n",
      "Increase the number of iterations (max_iter) or scale the data as shown in:\n",
      "    https://scikit-learn.org/stable/modules/preprocessing.html\n",
      "Please also refer to the documentation for alternative solver options:\n",
      "    https://scikit-learn.org/stable/modules/linear_model.html#logistic-regression\n",
      "  n_iter_i = _check_optimize_result(\n"
     ]
    },
    {
     "name": "stdout",
     "output_type": "stream",
     "text": [
      "model: LogisticRegression()\n",
      "Accuracy_score: 0.9115697310819262\n",
      "Precission_score: 0.5423728813559322\n",
      "Recall_score: 0.08926080892608089\n",
      "F1-score: 0.1532934131736527\n",
      "------------------------------ \n",
      "\n",
      "model: XGBClassifier(base_score=None, booster=None, callbacks=None,\n",
      "              colsample_bylevel=None, colsample_bynode=None,\n",
      "              colsample_bytree=None, device=None, early_stopping_rounds=None,\n",
      "              enable_categorical=False, eval_metric=None, feature_types=None,\n",
      "              gamma=None, grow_policy=None, importance_type=None,\n",
      "              interaction_constraints=None, learning_rate=None, max_bin=None,\n",
      "              max_cat_threshold=None, max_cat_to_onehot=None,\n",
      "              max_delta_step=None, max_depth=None, max_leaves=None,\n",
      "              min_child_weight=None, missing=nan, monotone_constraints=None,\n",
      "              multi_strategy=None, n_estimators=None, n_jobs=None,\n",
      "              num_parallel_tree=None, random_state=None, ...)\n",
      "Accuracy_score: 0.9114133833646029\n",
      "Precission_score: 0.5337186897880539\n",
      "Recall_score: 0.09658298465829847\n",
      "F1-score: 0.16356657809270742\n",
      "------------------------------ \n",
      "\n",
      "model: ExtraTreesClassifier()\n",
      "Accuracy_score: 0.8925578486554097\n",
      "Precission_score: 0.3046767537826685\n",
      "Recall_score: 0.15446304044630405\n",
      "F1-score: 0.2049976862563628\n",
      "------------------------------ \n",
      "\n",
      "model: RandomForestClassifier()\n",
      "Accuracy_score: 0.9024702939337086\n",
      "Precission_score: 0.3660618996798292\n",
      "Recall_score: 0.1195955369595537\n",
      "F1-score: 0.1802890932982917\n",
      "------------------------------ \n",
      "\n",
      "model: GradientBoostingClassifier()\n",
      "Accuracy_score: 0.9126328955597248\n",
      "Precission_score: 0.5876777251184834\n",
      "Recall_score: 0.08647140864714087\n",
      "F1-score: 0.15075987841945288\n",
      "------------------------------ \n",
      "\n"
     ]
    }
   ],
   "source": [
    "from sklearn.ensemble import RandomForestClassifier\n",
    "from sklearn.ensemble import ExtraTreesClassifier\n",
    "from sklearn.neighbors import KNeighborsClassifier\n",
    "from sklearn.linear_model import LogisticRegression\n",
    "from sklearn.ensemble import GradientBoostingClassifier\n",
    "from sklearn.metrics import accuracy_score\n",
    "from xgboost import XGBClassifier\n",
    "from sklearn.metrics import precision_score,recall_score\n",
    "from sklearn.metrics import f1_score\n",
    "\n",
    "models = [KNeighborsClassifier(), LogisticRegression(), XGBClassifier(), ExtraTreesClassifier(),\n",
    "          RandomForestClassifier(), GradientBoostingClassifier()]\n",
    "\n",
    "from collections import namedtuple\n",
    "import importlib\n",
    "\n",
    "ClassInfo = namedtuple(\"ClassInfo\", [\"module_name\", \"class_name\"])\n",
    "models = [\n",
    "    ClassInfo(module_name=\"sklearn.neighbors\", class_name=\"KNeighborsClassifier\"),\n",
    "    ClassInfo(module_name=\"sklearn.linear_model\", class_name=\"LogisticRegression\"),\n",
    "    ClassInfo(module_name=\"xgboost\", class_name=\"XGBClassifier\"),\n",
    "    ClassInfo(module_name=\"sklearn.ensemble\", class_name=\"ExtraTreesClassifier\"),\n",
    "    ClassInfo(module_name=\"sklearn.ensemble\", class_name=\"RandomForestClassifier\"),\n",
    "    ClassInfo(module_name=\"sklearn.ensemble\", class_name=\"GradientBoostingClassifier\")\n",
    "]\n",
    "models = {class_info.class_name: class_info for class_info in models}\n",
    "\n",
    "def instantiate_class(class_info, *args, **kwargs):\n",
    "    try:\n",
    "        module = importlib.import_module(class_info.module_name)\n",
    "        class_ = getattr(module, class_info.class_name)\n",
    "        instance = class_(*args, **kwargs)\n",
    "        return instance\n",
    "    except ImportError as e:\n",
    "        print(f\"Error importing module {class_info.module_name}: {e}\")\n",
    "    except AttributeError as e:\n",
    "        print(f\"Error getting class {class_info.class_name} from module {class_info.module_name}: {e}\")\n",
    "    except Exception as e:\n",
    "        print(f\"Error instantiating class {class_info.class_name} from module {class_info.module_name}: {e}\")\n",
    "\n",
    "for v in models.values():\n",
    "    m = instantiate_class(v)\n",
    "    m.fit(X_train, y_train)\n",
    "    y_pred = m.predict(X_test)\n",
    "\n",
    "    print(f'model: {str(m)}')\n",
    "    print(f'Accuracy_score: {accuracy_score(y_test,y_pred)}')\n",
    "    print(f'Precission_score: {precision_score(y_test,y_pred)}')\n",
    "    print(f'Recall_score: {recall_score(y_test,y_pred)}')\n",
    "    print(f'F1-score: {f1_score(y_test,y_pred)}')\n",
    "    print('-'*30, '\\n')"
   ]
  }
 ],
 "metadata": {
  "kernelspec": {
   "display_name": "venv",
   "language": "python",
   "name": "python3"
  },
  "language_info": {
   "codemirror_mode": {
    "name": "ipython",
    "version": 3
   },
   "file_extension": ".py",
   "mimetype": "text/x-python",
   "name": "python",
   "nbconvert_exporter": "python",
   "pygments_lexer": "ipython3",
   "version": "3.11.6"
  }
 },
 "nbformat": 4,
 "nbformat_minor": 2
}
