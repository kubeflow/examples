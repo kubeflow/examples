{
 "cells": [
  {
   "cell_type": "code",
   "execution_count": 1,
   "metadata": {},
   "outputs": [],
   "source": [
    "#匯入訓練、驗證、測試圖像\n",
    "import os,shutil\n",
    "\n",
    "base_dir = 'Rec'\n",
    "if not os.path.isdir(base_dir):\n",
    "    os.mkdir(base_dir)\n",
    "    \n",
    "train_dir = os.path.join(base_dir, 'train')\n",
    "os.mkdir(train_dir)\n",
    "validation_dir = os.path.join(base_dir, 'validation')\n",
    "os.mkdir(validation_dir)\n",
    "test_dir = os.path.join(base_dir, 'test')\n",
    "os.mkdir(test_dir)"
   ]
  },
  {
   "cell_type": "code",
   "execution_count": 2,
   "metadata": {},
   "outputs": [],
   "source": [
    "#建立訓練集資料夾\n",
    "train_b_dir = os.path.join(train_dir, 'be')\n",
    "os.mkdir(train_b_dir)\n",
    "\n",
    "train_h_dir = os.path.join(train_dir, 'ho')\n",
    "os.mkdir(train_h_dir)\n",
    "\n",
    "\n",
    "train_y_dir = os.path.join(train_dir, 'yun')\n",
    "os.mkdir(train_y_dir)"
   ]
  },
  {
   "cell_type": "code",
   "execution_count": 3,
   "metadata": {},
   "outputs": [],
   "source": [
    "#建立驗證集資料夾\n",
    "validation_b_dir = os.path.join(validation_dir, 'be')\n",
    "os.mkdir(validation_b_dir)\n",
    "\n",
    "validation_h_dir = os.path.join(validation_dir, 'ho')\n",
    "os.mkdir(validation_h_dir)\n",
    "\n",
    "validation_y_dir = os.path.join(validation_dir, 'yun')\n",
    "os.mkdir(validation_y_dir)\n"
   ]
  },
  {
   "cell_type": "code",
   "execution_count": 4,
   "metadata": {},
   "outputs": [],
   "source": [
    "#建立測試集資料夾\n",
    "test_b_dir = os.path.join(test_dir, 'be')\n",
    "os.mkdir(test_b_dir)\n",
    "\n",
    "test_h_dir = os.path.join(test_dir, 'ho')\n",
    "os.mkdir(test_h_dir)\n",
    "\n",
    "test_y_dir = os.path.join(test_dir, 'yun')\n",
    "os.mkdir(test_y_dir)\n"
   ]
  },
  {
   "cell_type": "code",
   "execution_count": 5,
   "metadata": {},
   "outputs": [],
   "source": [
    "#擷取be資料集的圖片範圍\n",
    "original_0dataset_dir = 'be'\n",
    "fnames = ['be.{}.png'.format(i) for i in range(20)]\n",
    "for fname in fnames:\n",
    "    src = os.path.join(original_0dataset_dir, fname)\n",
    "    dst = os.path.join(train_b_dir, fname)\n",
    "    shutil.copyfile(src, dst)\n",
    "\n",
    "fnames = ['be.{}.png'.format(i) for i in range(45, 54)]\n",
    "for fname in fnames:\n",
    "    src = os.path.join(original_0dataset_dir, fname)\n",
    "    dst = os.path.join(validation_b_dir, fname)\n",
    "    shutil.copyfile(src, dst)\n",
    "\n",
    "fnames = ['be.{}.png'.format(i) for i in range(54, 59)]\n",
    "for fname in fnames:\n",
    "    src = os.path.join(original_0dataset_dir, fname)\n",
    "    dst = os.path.join(test_b_dir, fname)\n",
    "    shutil.copyfile(src, dst)"
   ]
  },
  {
   "cell_type": "code",
   "execution_count": 6,
   "metadata": {},
   "outputs": [],
   "source": [
    "#擷取ho資料集的圖片範圍\n",
    "original_0dataset_dir = 'ho'\n",
    "fnames = ['ho.{}.png'.format(i) for i in range(20)]\n",
    "for fname in fnames:\n",
    "    src = os.path.join(original_0dataset_dir, fname)\n",
    "    dst = os.path.join(train_h_dir, fname)\n",
    "    shutil.copyfile(src, dst)\n",
    "\n",
    "fnames = ['ho.{}.png'.format(i) for i in range(45, 54)]\n",
    "for fname in fnames:\n",
    "    src = os.path.join(original_0dataset_dir, fname)\n",
    "    dst = os.path.join(validation_h_dir, fname)\n",
    "    shutil.copyfile(src, dst)\n",
    "\n",
    "fnames = ['ho.{}.png'.format(i) for i in range(54, 59)]\n",
    "for fname in fnames:\n",
    "    src = os.path.join(original_0dataset_dir, fname)\n",
    "    dst = os.path.join(test_h_dir, fname)\n",
    "    shutil.copyfile(src, dst)"
   ]
  },
  {
   "cell_type": "code",
   "execution_count": 7,
   "metadata": {},
   "outputs": [],
   "source": [
    "#擷取yun資料集的圖片範圍\n",
    "original_0dataset_dir = 'yun'\n",
    "fnames = ['yun.{}.png'.format(i) for i in range(20)]\n",
    "for fname in fnames:\n",
    "    src = os.path.join(original_0dataset_dir, fname)\n",
    "    dst = os.path.join(train_y_dir, fname)\n",
    "    shutil.copyfile(src, dst)\n",
    "\n",
    "fnames = ['yun.{}.png'.format(i) for i in range(45, 54)]\n",
    "for fname in fnames:\n",
    "    src = os.path.join(original_0dataset_dir, fname)\n",
    "    dst = os.path.join(validation_y_dir, fname)\n",
    "    shutil.copyfile(src, dst)\n",
    "\n",
    "fnames = ['yun.{}.png'.format(i) for i in range(54, 59)]\n",
    "for fname in fnames:\n",
    "    src = os.path.join(original_0dataset_dir, fname)\n",
    "    dst = os.path.join(test_y_dir, fname)\n",
    "    shutil.copyfile(src, dst)"
   ]
  },
  {
   "cell_type": "code",
   "execution_count": 12,
   "metadata": {},
   "outputs": [
    {
     "data": {
      "text/plain": [
       "12"
      ]
     },
     "execution_count": 12,
     "metadata": {},
     "output_type": "execute_result"
    }
   ],
   "source": [
    "len(test_y_dir)"
   ]
  },
  {
   "cell_type": "code",
   "execution_count": 8,
   "metadata": {},
   "outputs": [
    {
     "name": "stderr",
     "output_type": "stream",
     "text": [
      "Using TensorFlow backend.\n"
     ]
    },
    {
     "name": "stdout",
     "output_type": "stream",
     "text": [
      "Model: \"sequential_1\"\n",
      "_________________________________________________________________\n",
      "Layer (type)                 Output Shape              Param #   \n",
      "=================================================================\n",
      "conv2d_1 (Conv2D)            (None, 98, 98, 32)        896       \n",
      "_________________________________________________________________\n",
      "max_pooling2d_1 (MaxPooling2 (None, 49, 49, 32)        0         \n",
      "_________________________________________________________________\n",
      "conv2d_2 (Conv2D)            (None, 47, 47, 64)        18496     \n",
      "_________________________________________________________________\n",
      "max_pooling2d_2 (MaxPooling2 (None, 23, 23, 64)        0         \n",
      "_________________________________________________________________\n",
      "conv2d_3 (Conv2D)            (None, 21, 21, 128)       73856     \n",
      "_________________________________________________________________\n",
      "max_pooling2d_3 (MaxPooling2 (None, 10, 10, 128)       0         \n",
      "_________________________________________________________________\n",
      "conv2d_4 (Conv2D)            (None, 8, 8, 128)         147584    \n",
      "_________________________________________________________________\n",
      "max_pooling2d_4 (MaxPooling2 (None, 4, 4, 128)         0         \n",
      "_________________________________________________________________\n",
      "flatten_1 (Flatten)          (None, 2048)              0         \n",
      "_________________________________________________________________\n",
      "dense_1 (Dense)              (None, 512)               1049088   \n",
      "_________________________________________________________________\n",
      "dense_2 (Dense)              (None, 3)                 1539      \n",
      "=================================================================\n",
      "Total params: 1,291,459\n",
      "Trainable params: 1,291,459\n",
      "Non-trainable params: 0\n",
      "_________________________________________________________________\n"
     ]
    }
   ],
   "source": [
    "#建立cnn\n",
    "from keras import layers\n",
    "from keras import models\n",
    "\n",
    "model = models.Sequential()\n",
    "model.add(layers.Conv2D(32, (3, 3), activation='relu',\n",
    "                        input_shape=(100, 100, 3)))\n",
    "model.add(layers.MaxPooling2D((2, 2)))\n",
    "model.add(layers.Conv2D(64, (3, 3), activation='relu'))\n",
    "model.add(layers.MaxPooling2D((2, 2)))\n",
    "model.add(layers.Conv2D(128, (3, 3), activation='relu'))\n",
    "model.add(layers.MaxPooling2D((2, 2)))\n",
    "model.add(layers.Conv2D(128, (3, 3), activation='relu'))\n",
    "model.add(layers.MaxPooling2D((2, 2)))\n",
    "model.add(layers.Flatten())\n",
    "model.add(layers.Dense(512, activation='relu'))\n",
    "model.add(layers.Dense(3, activation='softmax'))\n",
    "\n",
    "model.summary()"
   ]
  },
  {
   "cell_type": "code",
   "execution_count": 9,
   "metadata": {},
   "outputs": [],
   "source": [
    "#優化器\n",
    "from keras import optimizers\n",
    "\n",
    "model.compile(loss='categorical_crossentropy',\n",
    "              optimizer=optimizers.RMSprop(lr=1e-4),\n",
    "              metrics=['acc'])"
   ]
  },
  {
   "cell_type": "code",
   "execution_count": 10,
   "metadata": {},
   "outputs": [
    {
     "name": "stdout",
     "output_type": "stream",
     "text": [
      "Found 60 images belonging to 3 classes.\n",
      "Found 27 images belonging to 3 classes.\n"
     ]
    }
   ],
   "source": [
    "#ImageDataGenerator套件label圖片\n",
    "from keras.preprocessing.image import ImageDataGenerator\n",
    "import numpy as np\n",
    "train_datagen = ImageDataGenerator(rescale=1./255)\n",
    "test_datagen = ImageDataGenerator(rescale=1./255)\n",
    "\n",
    "train_generator = train_datagen.flow_from_directory(\n",
    "        train_dir,\n",
    "        target_size=(100, 100),\n",
    "        batch_size=20,\n",
    "        class_mode='categorical')\n",
    "\n",
    "validation_generator = test_datagen.flow_from_directory(\n",
    "        validation_dir,\n",
    "        target_size=(100, 100),\n",
    "        batch_size=20,\n",
    "        class_mode='categorical')"
   ]
  },
  {
   "cell_type": "code",
   "execution_count": 11,
   "metadata": {},
   "outputs": [
    {
     "name": "stdout",
     "output_type": "stream",
     "text": [
      "data batch shape: (20, 100, 100, 3)\n",
      "labels batch shape: (20, 3)\n"
     ]
    }
   ],
   "source": [
    "for data_batch, labels_batch in train_generator:\n",
    "    print('data batch shape:', data_batch.shape)\n",
    "    print('labels batch shape:', labels_batch.shape)\n",
    "    break"
   ]
  },
  {
   "cell_type": "code",
   "execution_count": 12,
   "metadata": {},
   "outputs": [
    {
     "name": "stdout",
     "output_type": "stream",
     "text": [
      "Epoch 1/30\n",
      "100/100 [==============================] - 94s 940ms/step - loss: 0.6316 - acc: 0.7760 - val_loss: 0.8940 - val_acc: 0.7778\n",
      "Epoch 2/30\n",
      "100/100 [==============================] - 93s 930ms/step - loss: 0.4135 - acc: 0.8530 - val_loss: 0.6577 - val_acc: 0.7037\n",
      "Epoch 3/30\n",
      "100/100 [==============================] - 94s 941ms/step - loss: 0.2813 - acc: 0.8860 - val_loss: 0.6228 - val_acc: 0.6296\n",
      "Epoch 4/30\n",
      "100/100 [==============================] - 93s 933ms/step - loss: 0.1676 - acc: 0.9280 - val_loss: 1.7445 - val_acc: 0.5926\n",
      "Epoch 5/30\n",
      "100/100 [==============================] - 94s 939ms/step - loss: 0.1259 - acc: 0.9370 - val_loss: 1.0945 - val_acc: 0.5926\n",
      "Epoch 6/30\n",
      "100/100 [==============================] - 94s 942ms/step - loss: 0.1062 - acc: 0.9405 - val_loss: 2.6368 - val_acc: 0.5926\n",
      "Epoch 7/30\n",
      "100/100 [==============================] - 96s 960ms/step - loss: 0.0993 - acc: 0.9390 - val_loss: 1.2031 - val_acc: 0.5926\n",
      "Epoch 8/30\n",
      "100/100 [==============================] - 95s 954ms/step - loss: 0.0951 - acc: 0.9305 - val_loss: 2.8705 - val_acc: 0.5926\n",
      "Epoch 9/30\n",
      "100/100 [==============================] - 96s 957ms/step - loss: 0.0892 - acc: 0.9385 - val_loss: 2.4154 - val_acc: 0.5926\n",
      "Epoch 10/30\n",
      "100/100 [==============================] - 97s 966ms/step - loss: 0.0860 - acc: 0.9365 - val_loss: 4.6667 - val_acc: 0.5926\n",
      "Epoch 11/30\n",
      "100/100 [==============================] - 97s 970ms/step - loss: 0.0860 - acc: 0.9365 - val_loss: 2.0964 - val_acc: 0.5926\n",
      "Epoch 12/30\n",
      "100/100 [==============================] - 97s 973ms/step - loss: 0.0844 - acc: 0.9365 - val_loss: 4.6467 - val_acc: 0.5926\n",
      "Epoch 13/30\n",
      "100/100 [==============================] - 97s 969ms/step - loss: 0.0842 - acc: 0.9365 - val_loss: 0.8492 - val_acc: 0.5926\n",
      "Epoch 14/30\n",
      "100/100 [==============================] - 97s 972ms/step - loss: 0.0811 - acc: 0.9345 - val_loss: 6.7441 - val_acc: 0.5926\n",
      "Epoch 15/30\n",
      "100/100 [==============================] - 97s 971ms/step - loss: 0.0801 - acc: 0.9380 - val_loss: 1.3565 - val_acc: 0.5926\n",
      "Epoch 16/30\n",
      "100/100 [==============================] - 97s 973ms/step - loss: 0.0775 - acc: 0.9315 - val_loss: 5.6226 - val_acc: 0.5926\n",
      "Epoch 17/30\n",
      "100/100 [==============================] - 98s 983ms/step - loss: 0.0816 - acc: 0.9315 - val_loss: 5.0703 - val_acc: 0.5926\n",
      "Epoch 18/30\n",
      "100/100 [==============================] - 98s 984ms/step - loss: 0.0746 - acc: 0.9330 - val_loss: 7.8723 - val_acc: 0.5926\n",
      "Epoch 19/30\n",
      "100/100 [==============================] - 98s 983ms/step - loss: 0.0747 - acc: 0.9360 - val_loss: 2.2070 - val_acc: 0.5926\n",
      "Epoch 20/30\n",
      "100/100 [==============================] - 98s 979ms/step - loss: 0.0756 - acc: 0.9320 - val_loss: 8.8935 - val_acc: 0.5926\n",
      "Epoch 21/30\n",
      "100/100 [==============================] - 98s 983ms/step - loss: 0.0775 - acc: 0.9350 - val_loss: 2.1388 - val_acc: 0.5926\n",
      "Epoch 22/30\n",
      "100/100 [==============================] - 98s 984ms/step - loss: 0.0734 - acc: 0.9360 - val_loss: 4.9511 - val_acc: 0.5926\n",
      "Epoch 23/30\n",
      "100/100 [==============================] - 98s 982ms/step - loss: 0.0729 - acc: 0.9335 - val_loss: 1.6979 - val_acc: 0.5926\n",
      "Epoch 24/30\n",
      "100/100 [==============================] - 99s 988ms/step - loss: 0.0718 - acc: 0.9325 - val_loss: 3.6615 - val_acc: 0.5926\n",
      "Epoch 25/30\n",
      "100/100 [==============================] - 98s 983ms/step - loss: 0.0729 - acc: 0.9375 - val_loss: 6.6448 - val_acc: 0.5926\n",
      "Epoch 26/30\n",
      "100/100 [==============================] - 98s 984ms/step - loss: 0.0721 - acc: 0.9355 - val_loss: 6.3982 - val_acc: 0.5926\n",
      "Epoch 27/30\n",
      "100/100 [==============================] - 98s 980ms/step - loss: 0.0711 - acc: 0.9340 - val_loss: 12.2808 - val_acc: 0.5926\n",
      "Epoch 28/30\n",
      "100/100 [==============================] - 98s 980ms/step - loss: 0.0721 - acc: 0.9365 - val_loss: 7.8047 - val_acc: 0.5926\n",
      "Epoch 29/30\n",
      "100/100 [==============================] - 98s 980ms/step - loss: 0.0704 - acc: 0.9310 - val_loss: 9.7293 - val_acc: 0.5926\n",
      "Epoch 30/30\n",
      "100/100 [==============================] - 98s 982ms/step - loss: 0.0737 - acc: 0.9360 - val_loss: 6.4731 - val_acc: 0.5926\n"
     ]
    }
   ],
   "source": [
    "#epoch訓練30\n",
    "history = model.fit_generator(\n",
    "      train_generator,\n",
    "      steps_per_epoch=100,\n",
    "      epochs=30,\n",
    "      validation_data=validation_generator,\n",
    "      validation_steps=50)"
   ]
  },
  {
   "cell_type": "code",
   "execution_count": 13,
   "metadata": {},
   "outputs": [],
   "source": [
    "model.save('train1.h5')"
   ]
  },
  {
   "cell_type": "code",
   "execution_count": 20,
   "metadata": {},
   "outputs": [
    {
     "data": {
      "image/png": "[encoded data removed]",
      "text/plain": [
       "<Figure size 864x288 with 2 Axes>"
      ]
     },
     "metadata": {
      "needs_background": "light"
     },
     "output_type": "display_data"
    }
   ],
   "source": [
    "#可視化結果\n",
    "f, (ax1, ax2) = plt.subplots(1, 2, figsize=(12, 4))\n",
    "t = f.suptitle('Basic CNN Performance', fontsize=12)\n",
    "f.subplots_adjust(top=0.85, wspace=0.3)\n",
    "\n",
    "epoch_list = list(range(1,31))\n",
    "ax1.plot(epoch_list, history.history['acc'], label='Train Accuracy')\n",
    "ax1.plot(epoch_list, history.history['val_acc'], label='Validation Accuracy')\n",
    "ax1.set_xticks(np.arange(0, 31, 5))\n",
    "ax1.set_ylabel('Accuracy Value')\n",
    "ax1.set_xlabel('Epoch')\n",
    "ax1.set_title('Accuracy')\n",
    "l1 = ax1.legend(loc=\"best\")\n",
    "\n",
    "ax2.plot(epoch_list, history.history['loss'], label='Train Loss')\n",
    "ax2.plot(epoch_list, history.history['val_loss'], label='Validation Loss')\n",
    "ax2.set_xticks(np.arange(0, 31, 5))\n",
    "ax2.set_ylabel('Loss Value')\n",
    "ax2.set_xlabel('Epoch')\n",
    "ax2.set_title('Loss')\n",
    "l2 = ax2.legend(loc=\"best\")"
   ]
  },
  {
   "cell_type": "code",
   "execution_count": 21,
   "metadata": {},
   "outputs": [
    {
     "name": "stdout",
     "output_type": "stream",
     "text": [
      "Model: \"sequential_2\"\n",
      "_________________________________________________________________\n",
      "Layer (type)                 Output Shape              Param #   \n",
      "=================================================================\n",
      "conv2d_5 (Conv2D)            (None, 98, 98, 32)        896       \n",
      "_________________________________________________________________\n",
      "max_pooling2d_5 (MaxPooling2 (None, 49, 49, 32)        0         \n",
      "_________________________________________________________________\n",
      "conv2d_6 (Conv2D)            (None, 47, 47, 64)        18496     \n",
      "_________________________________________________________________\n",
      "max_pooling2d_6 (MaxPooling2 (None, 23, 23, 64)        0         \n",
      "_________________________________________________________________\n",
      "conv2d_7 (Conv2D)            (None, 21, 21, 128)       73856     \n",
      "_________________________________________________________________\n",
      "max_pooling2d_7 (MaxPooling2 (None, 10, 10, 128)       0         \n",
      "_________________________________________________________________\n",
      "conv2d_8 (Conv2D)            (None, 8, 8, 128)         147584    \n",
      "_________________________________________________________________\n",
      "max_pooling2d_8 (MaxPooling2 (None, 4, 4, 128)         0         \n",
      "_________________________________________________________________\n",
      "flatten_2 (Flatten)          (None, 2048)              0         \n",
      "_________________________________________________________________\n",
      "dropout_1 (Dropout)          (None, 2048)              0         \n",
      "_________________________________________________________________\n",
      "dense_3 (Dense)              (None, 512)               1049088   \n",
      "_________________________________________________________________\n",
      "dense_4 (Dense)              (None, 3)                 1539      \n",
      "=================================================================\n",
      "Total params: 1,291,459\n",
      "Trainable params: 1,291,459\n",
      "Non-trainable params: 0\n",
      "_________________________________________________________________\n"
     ]
    }
   ],
   "source": [
    "#套入VGG16模型\n",
    "from keras.applications import VGG16\n",
    "\n",
    "\n",
    "conv_base = VGG16(weights='imagenet',\n",
    "                  include_top=False,\n",
    "                  input_shape=(100,100, 3))\n",
    "model.summary()"
   ]
  },
  {
   "cell_type": "code",
   "execution_count": 22,
   "metadata": {
    "scrolled": true
   },
   "outputs": [
    {
     "name": "stdout",
     "output_type": "stream",
     "text": [
      "Found 60 images belonging to 3 classes.\n",
      "[[1. 0. 0.]\n",
      " [1. 0. 0.]\n",
      " [1. 0. 0.]\n",
      " [0. 1. 0.]\n",
      " [0. 0. 1.]\n",
      " [0. 1. 0.]\n",
      " [0. 0. 1.]\n",
      " [1. 0. 0.]\n",
      " [0. 1. 0.]\n",
      " [1. 0. 0.]\n",
      " [1. 0. 0.]\n",
      " [1. 0. 0.]\n",
      " [0. 1. 0.]\n",
      " [1. 0. 0.]\n",
      " [0. 0. 1.]\n",
      " [0. 0. 1.]\n",
      " [0. 0. 1.]\n",
      " [1. 0. 0.]\n",
      " [0. 0. 1.]\n",
      " [0. 1. 0.]]\n",
      "[[0. 1. 0.]\n",
      " [0. 0. 1.]\n",
      " [0. 0. 1.]\n",
      " [0. 1. 0.]\n",
      " [0. 0. 1.]\n",
      " [0. 1. 0.]\n",
      " [0. 0. 1.]\n",
      " [0. 0. 1.]\n",
      " [0. 0. 1.]\n",
      " [0. 1. 0.]\n",
      " [1. 0. 0.]\n",
      " [1. 0. 0.]\n",
      " [1. 0. 0.]\n",
      " [0. 1. 0.]\n",
      " [1. 0. 0.]\n",
      " [1. 0. 0.]\n",
      " [1. 0. 0.]\n",
      " [0. 0. 1.]\n",
      " [0. 1. 0.]\n",
      " [0. 1. 0.]]\n",
      "[[0. 0. 1.]\n",
      " [0. 0. 1.]\n",
      " [0. 1. 0.]\n",
      " [0. 0. 1.]\n",
      " [0. 1. 0.]\n",
      " [0. 1. 0.]\n",
      " [0. 0. 1.]\n",
      " [0. 0. 1.]\n",
      " [0. 1. 0.]\n",
      " [0. 0. 1.]\n",
      " [0. 1. 0.]\n",
      " [0. 1. 0.]\n",
      " [0. 1. 0.]\n",
      " [1. 0. 0.]\n",
      " [0. 1. 0.]\n",
      " [1. 0. 0.]\n",
      " [1. 0. 0.]\n",
      " [1. 0. 0.]\n",
      " [1. 0. 0.]\n",
      " [0. 0. 1.]]\n",
      "Found 27 images belonging to 3 classes.\n",
      "[[0. 1. 0.]\n",
      " [0. 0. 1.]\n",
      " [0. 0. 1.]\n",
      " [0. 0. 1.]\n",
      " [1. 0. 0.]\n",
      " [0. 0. 1.]\n",
      " [0. 1. 0.]\n",
      " [1. 0. 0.]\n",
      " [0. 1. 0.]\n",
      " [0. 1. 0.]\n",
      " [0. 0. 1.]\n",
      " [1. 0. 0.]\n",
      " [0. 1. 0.]\n",
      " [0. 0. 1.]\n",
      " [0. 0. 1.]\n",
      " [0. 0. 1.]\n",
      " [1. 0. 0.]\n",
      " [1. 0. 0.]\n",
      " [1. 0. 0.]\n",
      " [0. 1. 0.]]\n",
      "Found 15 images belonging to 3 classes.\n",
      "[[0. 1. 0.]\n",
      " [1. 0. 0.]\n",
      " [1. 0. 0.]\n",
      " [0. 1. 0.]\n",
      " [1. 0. 0.]\n",
      " [0. 0. 1.]\n",
      " [0. 1. 0.]\n",
      " [0. 0. 1.]\n",
      " [0. 0. 1.]\n",
      " [0. 1. 0.]\n",
      " [1. 0. 0.]\n",
      " [0. 0. 1.]\n",
      " [0. 0. 1.]\n",
      " [0. 1. 0.]\n",
      " [1. 0. 0.]]\n"
     ]
    }
   ],
   "source": [
    "#使用conv_base的模型先抽取特徵跟label產出，將特徵提取後進行降維輸出\n",
    "import os\n",
    "import numpy as np\n",
    "from keras.preprocessing.image import ImageDataGenerator\n",
    "\n",
    "base_dir = 'Rec'\n",
    "\n",
    "train_dir = os.path.join(base_dir, 'train')\n",
    "validation_dir = os.path.join(base_dir, 'validation')\n",
    "test_dir = os.path.join(base_dir, 'test')\n",
    "\n",
    "datagen = ImageDataGenerator(rescale=1./255)\n",
    "batch_size = 20\n",
    "\n",
    "def extract_features(directory, sample_count):\n",
    "    features = np.zeros(shape=(sample_count, 3, 3, 512))\n",
    "    labels = np.zeros(shape=(sample_count,3))\n",
    "    generator = datagen.flow_from_directory(\n",
    "        directory,\n",
    "        target_size=(100, 100),\n",
    "        batch_size=batch_size,\n",
    "        class_mode='categorical'\n",
    "    )\n",
    "    i = 0\n",
    "    for inputs_batch, labels_batch in generator:\n",
    "        features_batch = conv_base.predict(inputs_batch)\n",
    "        features[i * batch_size : (i + 1) * batch_size] = features_batch\n",
    "        print(labels_batch)\n",
    "        labels[i * batch_size : (i + 1) * batch_size] = labels_batch\n",
    "        i += 1\n",
    "        if i * batch_size >= sample_count:\n",
    "           \n",
    "            break\n",
    "    return features, labels\n",
    "\n",
    "train_features, train_labels = extract_features(train_dir, 60)\n",
    "validation_features, validation_labels = extract_features(validation_dir, 20)\n",
    "test_features, test_labels = extract_features(test_dir, 15)"
   ]
  },
  {
   "cell_type": "code",
   "execution_count": 23,
   "metadata": {},
   "outputs": [],
   "source": [
    "train_features = np.resize(train_features, (60, 3 * 3 * 512))\n",
    "validation_features = np.resize(validation_features, (20, 3 * 3 * 512))\n",
    "test_features = np.resize(test_features, (15, 3 * 3 * 512))"
   ]
  },
  {
   "cell_type": "code",
   "execution_count": 24,
   "metadata": {},
   "outputs": [
    {
     "name": "stdout",
     "output_type": "stream",
     "text": [
      "Train on 60 samples, validate on 20 samples\n",
      "Epoch 1/30\n",
      "60/60 [==============================] - 1s 10ms/step - loss: 2.0313 - acc: 0.3167 - val_loss: 1.8868 - val_acc: 0.3000\n",
      "Epoch 2/30\n",
      "60/60 [==============================] - 0s 483us/step - loss: 1.8181 - acc: 0.3333 - val_loss: 1.7381 - val_acc: 0.3000\n",
      "Epoch 3/30\n",
      "60/60 [==============================] - 0s 566us/step - loss: 1.6853 - acc: 0.3000 - val_loss: 1.6217 - val_acc: 0.3000\n",
      "Epoch 4/30\n",
      "60/60 [==============================] - 0s 550us/step - loss: 1.6355 - acc: 0.3167 - val_loss: 1.5229 - val_acc: 0.3000\n",
      "Epoch 5/30\n",
      "60/60 [==============================] - 0s 483us/step - loss: 1.5393 - acc: 0.3333 - val_loss: 1.4473 - val_acc: 0.3000\n",
      "Epoch 6/30\n",
      "60/60 [==============================] - 0s 550us/step - loss: 1.5782 - acc: 0.2833 - val_loss: 1.3734 - val_acc: 0.3000\n",
      "Epoch 7/30\n",
      "60/60 [==============================] - 0s 533us/step - loss: 1.4986 - acc: 0.2833 - val_loss: 1.3062 - val_acc: 0.3000\n",
      "Epoch 8/30\n",
      "60/60 [==============================] - 0s 500us/step - loss: 1.4321 - acc: 0.3667 - val_loss: 1.2484 - val_acc: 0.3000\n",
      "Epoch 9/30\n",
      "60/60 [==============================] - 0s 583us/step - loss: 1.3253 - acc: 0.3333 - val_loss: 1.1981 - val_acc: 0.3000\n",
      "Epoch 10/30\n",
      "60/60 [==============================] - 0s 566us/step - loss: 1.2468 - acc: 0.4167 - val_loss: 1.1543 - val_acc: 0.3000\n",
      "Epoch 11/30\n",
      "60/60 [==============================] - 0s 566us/step - loss: 1.1066 - acc: 0.4500 - val_loss: 1.1124 - val_acc: 0.3000\n",
      "Epoch 12/30\n",
      "60/60 [==============================] - 0s 600us/step - loss: 1.2571 - acc: 0.3333 - val_loss: 1.0764 - val_acc: 0.3000\n",
      "Epoch 13/30\n",
      "60/60 [==============================] - 0s 566us/step - loss: 1.1691 - acc: 0.4667 - val_loss: 1.0375 - val_acc: 0.3500\n",
      "Epoch 14/30\n",
      "60/60 [==============================] - 0s 550us/step - loss: 1.1005 - acc: 0.5167 - val_loss: 1.0097 - val_acc: 0.3500\n",
      "Epoch 15/30\n",
      "60/60 [==============================] - 0s 566us/step - loss: 1.1293 - acc: 0.4167 - val_loss: 0.9818 - val_acc: 0.4000\n",
      "Epoch 16/30\n",
      "60/60 [==============================] - 0s 516us/step - loss: 1.1421 - acc: 0.4167 - val_loss: 0.9571 - val_acc: 0.4000\n",
      "Epoch 17/30\n",
      "60/60 [==============================] - 0s 533us/step - loss: 1.0784 - acc: 0.5000 - val_loss: 0.9312 - val_acc: 0.5500\n",
      "Epoch 18/30\n",
      "60/60 [==============================] - 0s 516us/step - loss: 1.0378 - acc: 0.4500 - val_loss: 0.9119 - val_acc: 0.6000\n",
      "Epoch 19/30\n",
      "60/60 [==============================] - 0s 533us/step - loss: 0.9446 - acc: 0.5000 - val_loss: 0.8883 - val_acc: 0.7500\n",
      "Epoch 20/30\n",
      "60/60 [==============================] - 0s 533us/step - loss: 0.9756 - acc: 0.5167 - val_loss: 0.8679 - val_acc: 0.7500\n",
      "Epoch 21/30\n",
      "60/60 [==============================] - 0s 633us/step - loss: 0.9451 - acc: 0.5667 - val_loss: 0.8540 - val_acc: 0.7500\n",
      "Epoch 22/30\n",
      "60/60 [==============================] - 0s 566us/step - loss: 0.7960 - acc: 0.6500 - val_loss: 0.8393 - val_acc: 0.7500\n",
      "Epoch 23/30\n",
      "60/60 [==============================] - 0s 566us/step - loss: 0.8670 - acc: 0.5833 - val_loss: 0.8223 - val_acc: 0.7500\n",
      "Epoch 24/30\n",
      "60/60 [==============================] - 0s 600us/step - loss: 0.9493 - acc: 0.6167 - val_loss: 0.8102 - val_acc: 0.7500\n",
      "Epoch 25/30\n",
      "60/60 [==============================] - 0s 566us/step - loss: 0.9749 - acc: 0.5500 - val_loss: 0.7922 - val_acc: 0.7500\n",
      "Epoch 26/30\n",
      "60/60 [==============================] - 0s 583us/step - loss: 0.9339 - acc: 0.6333 - val_loss: 0.7809 - val_acc: 0.8000\n",
      "Epoch 27/30\n",
      "60/60 [==============================] - 0s 550us/step - loss: 0.7419 - acc: 0.7000 - val_loss: 0.7721 - val_acc: 0.8000\n",
      "Epoch 28/30\n",
      "60/60 [==============================] - 0s 583us/step - loss: 0.8690 - acc: 0.6167 - val_loss: 0.7634 - val_acc: 0.8000\n",
      "Epoch 29/30\n",
      "60/60 [==============================] - 0s 583us/step - loss: 0.8348 - acc: 0.6167 - val_loss: 0.7556 - val_acc: 0.8000\n",
      "Epoch 30/30\n",
      "60/60 [==============================] - 0s 533us/step - loss: 0.7058 - acc: 0.7000 - val_loss: 0.7460 - val_acc: 0.8000\n"
     ]
    }
   ],
   "source": [
    "#建立優化防止梯度下降訓練\n",
    "from keras import models\n",
    "from keras import layers\n",
    "from keras import optimizers\n",
    "\n",
    "model = models.Sequential()\n",
    "model.add(layers.Dense(256, activation='relu', input_dim=3 * 3 * 512))\n",
    "model.add(layers.Dropout(0.5))\n",
    "model.add(layers.Dense(3, activation='softmax'))\n",
    "\n",
    "model.compile(optimizer=optimizers.RMSprop(lr=2e-5),\n",
    "              loss='categorical_crossentropy',\n",
    "              metrics=['acc'])\n",
    "\n",
    "history = model.fit(train_features, train_labels,\n",
    "                    epochs=30,\n",
    "                    batch_size=100,\n",
    "                    validation_data=(validation_features, validation_labels))"
   ]
  },
  {
   "cell_type": "code",
   "execution_count": 25,
   "metadata": {},
   "outputs": [],
   "source": [
    "model.save('train3.h5')"
   ]
  },
  {
   "cell_type": "code",
   "execution_count": 26,
   "metadata": {},
   "outputs": [
    {
     "data": {
      "image/png": "[encoded data removed]",
      "text/plain": [
       "<Figure size 864x288 with 2 Axes>"
      ]
     },
     "metadata": {
      "needs_background": "light"
     },
     "output_type": "display_data"
    }
   ],
   "source": [
    "import matplotlib.pyplot as plt\n",
    "\n",
    "f, (ax1, ax2) = plt.subplots(1, 2, figsize=(12, 4))\n",
    "t = f.suptitle('Basic CNN Performance', fontsize=12)\n",
    "f.subplots_adjust(top=0.85, wspace=0.3)\n",
    "\n",
    "epoch_list = list(range(1,31))\n",
    "ax1.plot(epoch_list, history.history['acc'], label='Train Accuracy')\n",
    "ax1.plot(epoch_list, history.history['val_acc'], label='Validation Accuracy')\n",
    "ax1.set_xticks(np.arange(0, 31, 5))\n",
    "ax1.set_ylabel('Accuracy Value')\n",
    "ax1.set_xlabel('Epoch')\n",
    "ax1.set_title('Accuracy')\n",
    "l1 = ax1.legend(loc=\"best\")\n",
    "\n",
    "ax2.plot(epoch_list, history.history['loss'], label='Train Loss')\n",
    "ax2.plot(epoch_list, history.history['val_loss'], label='Validation Loss')\n",
    "ax2.set_xticks(np.arange(0, 31, 5))\n",
    "ax2.set_ylabel('Loss Value')\n",
    "ax2.set_xlabel('Epoch')\n",
    "ax2.set_title('Loss')\n",
    "l2 = ax2.legend(loc=\"best\")\n"
   ]
  },
  {
   "cell_type": "code",
   "execution_count": 27,
   "metadata": {},
   "outputs": [
    {
     "name": "stdout",
     "output_type": "stream",
     "text": [
      "Model: \"sequential_3\"\n",
      "_________________________________________________________________\n",
      "Layer (type)                 Output Shape              Param #   \n",
      "=================================================================\n",
      "dense_5 (Dense)              (None, 256)               1179904   \n",
      "_________________________________________________________________\n",
      "dropout_2 (Dropout)          (None, 256)               0         \n",
      "_________________________________________________________________\n",
      "dense_6 (Dense)              (None, 3)                 771       \n",
      "=================================================================\n",
      "Total params: 1,180,675\n",
      "Trainable params: 1,180,675\n",
      "Non-trainable params: 0\n",
      "_________________________________________________________________\n"
     ]
    }
   ],
   "source": [
    "import keras as ks\n",
    "model = ks.models.load_model('train3.h5')\n",
    "model.summary()"
   ]
  },
  {
   "cell_type": "code",
   "execution_count": 28,
   "metadata": {},
   "outputs": [],
   "source": [
    "#訓練結果提取，建立混淆矩陣\n",
    "import pandas as pd\n",
    "import tensorflow as tf\n",
    "import sklearn\n",
    "from sklearn.metrics import confusion_matrix\n",
    "predictions = model.predict_classes(test_features)"
   ]
  },
  {
   "cell_type": "code",
   "execution_count": 29,
   "metadata": {},
   "outputs": [
    {
     "name": "stdout",
     "output_type": "stream",
     "text": [
      "[1, 0, 0, 1, 0, 2, 1, 2, 2, 1, 0, 2, 0, 0, 0]\n",
      "(15,)\n"
     ]
    }
   ],
   "source": [
    "from numpy import argmax\n",
    "from keras.utils.np_utils import to_categorical\n",
    "test_labels_change = [0]*15\n",
    "for i in range(12):\n",
    "    if(np.array_equal(test_labels[i],[0,0,1])):\n",
    "        test_labels_change[i] = 2\n",
    "    elif(np.array_equal(test_labels[i],[0,1,0])):\n",
    "        test_labels_change[i] = 1\n",
    "    elif(np.array_equal(test_labels[i],[1,0,0])):\n",
    "        test_labels_change[i] = 0\n",
    "\n",
    "print(test_labels_change)\n",
    "test_labels_change = np.asarray(test_labels_change)\n",
    "print(test_labels_change.shape)"
   ]
  },
  {
   "cell_type": "code",
   "execution_count": 30,
   "metadata": {},
   "outputs": [
    {
     "name": "stdout",
     "output_type": "stream",
     "text": [
      "(15,)\n",
      "(15,)\n"
     ]
    },
    {
     "data": {
      "text/html": [
       "<div>\n",
       "<style scoped>\n",
       "    .dataframe tbody tr th:only-of-type {\n",
       "        vertical-align: middle;\n",
       "    }\n",
       "\n",
       "    .dataframe tbody tr th {\n",
       "        vertical-align: top;\n",
       "    }\n",
       "\n",
       "    .dataframe thead th {\n",
       "        text-align: right;\n",
       "    }\n",
       "</style>\n",
       "<table border=\"1\" class=\"dataframe\">\n",
       "  <thead>\n",
       "    <tr style=\"text-align: right;\">\n",
       "      <th>預測值</th>\n",
       "      <th>0</th>\n",
       "      <th>1</th>\n",
       "      <th>2</th>\n",
       "    </tr>\n",
       "    <tr>\n",
       "      <th>實際值</th>\n",
       "      <th></th>\n",
       "      <th></th>\n",
       "      <th></th>\n",
       "    </tr>\n",
       "  </thead>\n",
       "  <tbody>\n",
       "    <tr>\n",
       "      <td>0</td>\n",
       "      <td>5</td>\n",
       "      <td>1</td>\n",
       "      <td>1</td>\n",
       "    </tr>\n",
       "    <tr>\n",
       "      <td>1</td>\n",
       "      <td>0</td>\n",
       "      <td>4</td>\n",
       "      <td>0</td>\n",
       "    </tr>\n",
       "    <tr>\n",
       "      <td>2</td>\n",
       "      <td>0</td>\n",
       "      <td>0</td>\n",
       "      <td>4</td>\n",
       "    </tr>\n",
       "  </tbody>\n",
       "</table>\n",
       "</div>"
      ],
      "text/plain": [
       "預測值  0  1  2\n",
       "實際值         \n",
       "0    5  1  1\n",
       "1    0  4  0\n",
       "2    0  0  4"
      ]
     },
     "execution_count": 30,
     "metadata": {},
     "output_type": "execute_result"
    }
   ],
   "source": [
    "print(test_labels_change.shape)\n",
    "print(predictions.shape)\n",
    "pd.crosstab(test_labels_change, predictions, rownames=['實際值'], colnames=['預測值'])"
   ]
  },
  {
   "cell_type": "code",
   "execution_count": null,
   "metadata": {},
   "outputs": [],
   "source": []
  }
 ],
 "metadata": {
  "kernelspec": {
   "display_name": "Python 3",
   "language": "python",
   "name": "python3"
  },
  "language_info": {
   "codemirror_mode": {
    "name": "ipython",
    "version": 3
   },
   "file_extension": ".py",
   "mimetype": "text/x-python",
   "name": "python",
   "nbconvert_exporter": "python",
   "pygments_lexer": "ipython3",
   "version": "3.9.5"
  }
 },
 "nbformat": 4,
 "nbformat_minor": 2
}
