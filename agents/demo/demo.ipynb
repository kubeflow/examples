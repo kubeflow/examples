{
 "cells": [
  {
   "cell_type": "markdown",
   "metadata": {},
   "source": [
    "## Agents on Kubeflow 🤓"
   ]
  },
  {
   "cell_type": "markdown",
   "metadata": {},
   "source": [
    "In this tutorial we will be training a reinforcement learning agent from the [tensorflow/agents](https://github.com/tensorflow/agents) project on Kubernetes using [Kubeflow](https://github.com/google/kubeflow)."
   ]
  },
  {
   "cell_type": "markdown",
   "metadata": {},
   "source": [
    "The task the agent will be learning to perform is to operate a Kuka Robotics arm simulated in the OpenAI Gym Bullet Physics 'KukaBulletEnv-v0' environment. Feel free to [skip to the end](http://localhost:8888/notebooks/kubeflow-rl/apps/agents_ppo/demo.ipynb#Rendering-the-model) to see what this will look like!"
   ]
  },
  {
   "cell_type": "markdown",
   "metadata": {},
   "source": [
    "### Setup"
   ]
  },
  {
   "cell_type": "markdown",
   "metadata": {},
   "source": [
    "This demo assumes you've followed the setup steps provided in the readme. Beyond that we still have a few in-notebook steps to perform.\n",
    "\n",
    "The first are to specify the bucket to which to write logs, the address of the image encapsulating our training job, and the path on the filesystem running this notebook where the root of kubeflow/examples can be found.\n",
    "\n",
    "For the latter by default the container is built with these at /home/jovyan/kubeflow-examples."
   ]
  },
  {
   "cell_type": "code",
   "execution_count": 198,
   "metadata": {},
   "outputs": [],
   "source": [
    "TRAINING_IMAGE=\"gcr.io/kubeflow-rl/agents:tf1.4.1-0214-0810-acd8\"\n",
    "BUCKET=\"kubeflow-rl\"\n",
    "#EXAMPLES_ROOT=\"/home/jovyan/kubeflow-examples\"\n",
    "EXAMPLES_ROOT=\"/Users/cb/code/current/kubeflow/examples-agents0\"\n",
    "NAMESPACE=\"rl\"\n",
    "PROJECT=\"kubeflow-rl\"\n",
    "ZONE=\"us-east1-d\"\n",
    "CLUSTER=\"kubeflow-dev\" # The name of your cluster here!\n",
    "APP_NAME=\"agents\"\n",
    "APP_ROOT=os.path.join(EXAMPLES_ROOT, \"agents\")"
   ]
  },
  {
   "cell_type": "markdown",
   "metadata": {},
   "source": [
    "#### Configuring GCP credentials"
   ]
  },
  {
   "cell_type": "markdown",
   "metadata": {},
   "source": [
    "In order to run the commands in this notebook you'll have to have activated the right Google Cloud Platform credentials. This can be done in one of two ways. The first is to obtain a service account key file from the GCP console, upload it to your JupyterHub instance via the Jupyter upload dialog as described in the readme, and activate it using the following:"
   ]
  },
  {
   "cell_type": "code",
   "execution_count": null,
   "metadata": {},
   "outputs": [],
   "source": [
    "!gcloud auth activate-service-account --key-file=[path to your service account key]"
   ]
  },
  {
   "cell_type": "markdown",
   "metadata": {},
   "source": [
    "#### Verifying bucket"
   ]
  },
  {
   "cell_type": "markdown",
   "metadata": {},
   "source": [
    "It may be confusing to debug error that result from running a training job attempting to log from a GCS bucket that doesn't exist or to which you don't have access. So let's verify that before going any further. The following will create the bucket if it doesn't already exist otherwise will fail indicating the bucket already exists. Importantly if the bucket already exists but we don't have access to it this will be stated as well."
   ]
  },
  {
   "cell_type": "code",
   "execution_count": 167,
   "metadata": {},
   "outputs": [
    {
     "name": "stdout",
     "output_type": "stream",
     "text": [
      "Creating gs://kubeflow-rl/...\n",
      "ServiceException: 409 Bucket kubeflow-rl already exists.\n"
     ]
    }
   ],
   "source": [
    "!gsutil mb gs://{BUCKET}"
   ]
  },
  {
   "cell_type": "markdown",
   "metadata": {},
   "source": [
    "#### Configuring Kubernetes credentials"
   ]
  },
  {
   "cell_type": "markdown",
   "metadata": {},
   "source": [
    "Having done so we are ready to obtain the credentials for the Kubernetes cluster on which we will be running the training tasks."
   ]
  },
  {
   "cell_type": "code",
   "execution_count": 176,
   "metadata": {},
   "outputs": [
    {
     "name": "stdout",
     "output_type": "stream",
     "text": [
      "Fetching cluster endpoint and auth data.\n",
      "kubeconfig entry generated for kubeflow-dev.\n"
     ]
    }
   ],
   "source": [
    "!gcloud container clusters --project={PROJECT} --zone={ZONE} get-credentials {CLUSTER}"
   ]
  },
  {
   "cell_type": "markdown",
   "metadata": {},
   "source": [
    "#### Configure ksonnet"
   ]
  },
  {
   "cell_type": "markdown",
   "metadata": {},
   "source": [
    "Ksonnet is a tool to simplify configuration management for Kubernetes deployments which extends to making it easier to specify and re-configure distributed TensorFlow training jobs on Kubeflow."
   ]
  },
  {
   "cell_type": "markdown",
   "metadata": {},
   "source": [
    "We can initialize a new Ksonnet workspace and populate it with the necessary dependencies by running the following:"
   ]
  },
  {
   "cell_type": "code",
   "execution_count": 147,
   "metadata": {},
   "outputs": [
    {
     "name": "stdout",
     "output_type": "stream",
     "text": [
      "\u001b[34mINFO  \u001b[0mUsing context 'gke_kubeflow-rl_us-east1-d_kubeflow-demo-1' from the kubeconfig file specified at the environment variable $KUBECONFIG\n",
      "\u001b[34mINFO  \u001b[0mCreating a new app 'app' at path '/Users/cb/code/current/kubeflow/examples-agents0/agents/app'\n",
      "\u001b[34mINFO  \u001b[0mCreating environment 'default' with namespace '', pointing at server at address 'https://35.196.93.70'\n",
      "\u001b[34mINFO  \u001b[0mGenerating environment metadata at path '/Users/cb/code/current/kubeflow/examples-agents0/agents/app/environments/default'\n",
      "\u001b[34mINFO  \u001b[0mksonnet app successfully created! Next, try creating a component with `ks generate`.\n",
      "\u001b[34mINFO  \u001b[0mRetrieved 5 files\n"
     ]
    }
   ],
   "source": [
    "os.chdir(APP_ROOT)\n",
    "!ks init app\n",
    "os.chdir(os.path.join(APP_ROOT, \"app\"))\n",
    "!ks registry add kubeflow github.com/kubeflow/kubeflow/tree/master/kubeflow\n",
    "!ks pkg install kubeflow/tf-job"
   ]
  },
  {
   "cell_type": "markdown",
   "metadata": {},
   "source": [
    "We can then stage relevant components from the config folder into place in this Ksonnet workspace as follows:"
   ]
  },
  {
   "cell_type": "code",
   "execution_count": 148,
   "metadata": {},
   "outputs": [],
   "source": [
    "!cp {APP_ROOT}/config/*sonnet {APP_ROOT}/app/components/"
   ]
  },
  {
   "cell_type": "markdown",
   "metadata": {},
   "source": [
    "If you're interesed you can see there is now a populated Ksonnet workspace directory which includes the components from our config directory:"
   ]
  },
  {
   "cell_type": "code",
   "execution_count": 149,
   "metadata": {},
   "outputs": [
    {
     "name": "stdout",
     "output_type": "stream",
     "text": [
      "app.yaml     \u001b[1m\u001b[36mcomponents\u001b[m\u001b[m   \u001b[1m\u001b[36menvironments\u001b[m\u001b[m \u001b[1m\u001b[36mlib\u001b[m\u001b[m          \u001b[1m\u001b[36mvendor\u001b[m\u001b[m\r\n"
     ]
    }
   ],
   "source": [
    "!ls {APP_ROOT}/app"
   ]
  },
  {
   "cell_type": "code",
   "execution_count": 150,
   "metadata": {},
   "outputs": [
    {
     "name": "stdout",
     "output_type": "stream",
     "text": [
      "agents.jsonnet        params.libsonnet      tensorboard.libsonnet\r\n",
      "agents_render.jsonnet tensorboard.jsonnet\r\n"
     ]
    }
   ],
   "source": [
    "!ls {APP_ROOT}/app/components"
   ]
  },
  {
   "cell_type": "markdown",
   "metadata": {},
   "source": [
    "Lastly we'll configure ksonnet to use a particular (the current) set of Kubernetes credentials by default:"
   ]
  },
  {
   "cell_type": "code",
   "execution_count": null,
   "metadata": {},
   "outputs": [],
   "source": [
    "!ks env set default"
   ]
  },
  {
   "cell_type": "markdown",
   "metadata": {},
   "source": [
    "For more information on Ksonnet check out their documentation [here](ksonnet.io)."
   ]
  },
  {
   "cell_type": "markdown",
   "metadata": {},
   "source": [
    "### Building training image"
   ]
  },
  {
   "cell_type": "markdown",
   "metadata": {},
   "source": [
    "##### Stage training code to GCS"
   ]
  },
  {
   "cell_type": "markdown",
   "metadata": {},
   "source": [
    "Create a GCS bucket through which to stage code"
   ]
  },
  {
   "cell_type": "code",
   "execution_count": 199,
   "metadata": {},
   "outputs": [
    {
     "name": "stdout",
     "output_type": "stream",
     "text": [
      "Creating gs://kubeflow-rl-builder/...\r\n"
     ]
    }
   ],
   "source": [
    "!gsutil mb gs://{PROJECT}-builder"
   ]
  },
  {
   "cell_type": "markdown",
   "metadata": {},
   "source": [
    "Package the example code"
   ]
  },
  {
   "cell_type": "code",
   "execution_count": 213,
   "metadata": {},
   "outputs": [],
   "source": [
    "!mkdir -p {APP_ROOT}/../build/ && cd {APP_ROOT}/../ && tar czf build/{APP_NAME}.tgz {APP_NAME}"
   ]
  },
  {
   "cell_type": "markdown",
   "metadata": {},
   "source": [
    "Stage to google cloud storage"
   ]
  },
  {
   "cell_type": "code",
   "execution_count": 225,
   "metadata": {},
   "outputs": [],
   "source": [
    "BUILD_ID=now.strftime(\"%m%d-%H%M\") + \"-\" + uuid.uuid4().hex[0:4]\n",
    "TRAINER_TAG=\"gcr.io/%s/%s:%s\" % (PROJECT, APP_NAME, BUILD_ID)"
   ]
  },
  {
   "cell_type": "code",
   "execution_count": 226,
   "metadata": {},
   "outputs": [
    {
     "name": "stdout",
     "output_type": "stream",
     "text": [
      "Copying file:///Users/cb/code/current/kubeflow/examples-agents0/agents/../build/agents.tgz [Content-Type=application/x-tar]...\n",
      "\\ [1 files][  2.4 MiB/  2.4 MiB]                                                \n",
      "Operation completed over 1 objects/2.4 MiB.                                      \n",
      "gs://kubeflow-rl-builder/agents/0214-0810-2cc8/agents.tgz\n"
     ]
    }
   ],
   "source": [
    "!gsutil cp {APP_ROOT}/../build/{APP_NAME}.tgz gs://{PROJECT}-builder/{APP_NAME}/{BUILD_ID}/\n",
    "!gsutil ls gs://{PROJECT}-builder/{APP_NAME}/{BUILD_ID}/"
   ]
  },
  {
   "cell_type": "markdown",
   "metadata": {},
   "source": [
    "##### Run the Argo container builder"
   ]
  },
  {
   "cell_type": "code",
   "execution_count": null,
   "metadata": {},
   "outputs": [],
   "source": [
    "os.chdir(APP_ROOT)\n",
    "!argo submit config/builder.yaml --namespace kubeflow \\\n",
    "    --parameter bundle=gs://{PROJECT}-builder/{APP_NAME}/{BUILD_ID}/{APP_NAME}.tgz \\\n",
    "    --parameter trainer-tag={TRAINER_TAG} \\\n",
    "    --parameter app-name=agents \\\n",
    "    --parameter project={PROJECT}"
   ]
  },
  {
   "cell_type": "markdown",
   "metadata": {},
   "source": [
    "You can check on the progress of your build in the Argo UI via the following URL (provided you have `kubectl proxy` running on your localhost):"
   ]
  },
  {
   "cell_type": "code",
   "execution_count": 244,
   "metadata": {},
   "outputs": [
    {
     "name": "stdout",
     "output_type": "stream",
     "text": [
      "http://127.0.0.1:8001/api/v1/proxy/namespaces/kubeflow/services/argo-ui:80/\n"
     ]
    }
   ],
   "source": [
    "PROXY_PORT=8001\n",
    "ARGO_NAMESPACE=\"kubeflow\"\n",
    "url=(\"http://127.0.0.1:{proxy_port}/api/v1/proxy/namespaces/{namespace}/services/argo-ui:80/\".format(\n",
    "    proxy_port=PROXY_PORT, namespace=ARGO_NAMESPACE))\n",
    "print(url)"
   ]
  },
  {
   "cell_type": "markdown",
   "metadata": {},
   "source": [
    "Which will look something like this as the build progresses:"
   ]
  },
  {
   "cell_type": "markdown",
   "metadata": {},
   "source": [
    "![](builder.png)"
   ]
  },
  {
   "cell_type": "markdown",
   "metadata": {},
   "source": [
    "### Training"
   ]
  },
  {
   "cell_type": "markdown",
   "metadata": {},
   "source": [
    "The objective of the training phase is to learn the parameterization of our model that confers a high level of performance on the provided task. Here we'll launch and monitor a job."
   ]
  },
  {
   "cell_type": "markdown",
   "metadata": {},
   "source": [
    "#### Launching the TFJob"
   ]
  },
  {
   "cell_type": "markdown",
   "metadata": {},
   "source": [
    "We'll use [ksonnet](https://ksonnet.io/) to parameterize and apply a TFJob configuration (i.e. run a job). Here you can change the image to be a custom job image, such as one built and deployed with build.sh, or use the one provided here if you only want to change parameters. Below we'll display the templated job YAML for reference."
   ]
  },
  {
   "cell_type": "code",
   "execution_count": null,
   "metadata": {},
   "outputs": [],
   "source": [
    "# Check your cluster and see if that matches one of the existing ksonnet environments\n",
    "# You want the kubernetes master server to be the same as the server listed for the ks environment\n",
    "!kubectl cluster-info\n",
    "!ks env list"
   ]
  },
  {
   "cell_type": "code",
   "execution_count": 182,
   "metadata": {},
   "outputs": [
    {
     "name": "stdout",
     "output_type": "stream",
     "text": [
      "gs://kubeflow-rl/studies/replicated-env-comparison-demo\n"
     ]
    }
   ],
   "source": [
    "study = {\"name\": \"replicated-env-comparison-demo\",\n",
    "         \"experiments\": [{\"name\": \"kuka\",\n",
    "                          \"image\": TRAINING_IMAGE,\n",
    "                          \"env\": \"KukaBulletEnv-v0\",\n",
    "                          \"num_replicas\": 1}]\n",
    "        }\n",
    "\n",
    "STUDY_LOGS_ROOT = \"gs://{0}/studies/{1}\".format(BUCKET, study[\"name\"])\n",
    "\n",
    "print(STUDY_LOGS_ROOT)"
   ]
  },
  {
   "cell_type": "code",
   "execution_count": 183,
   "metadata": {
    "scrolled": false
   },
   "outputs": [
    {
     "name": "stdout",
     "output_type": "stream",
     "text": [
      "Preparing study: replicated-env-comparison-demo...\n",
      "Preparing experiment: kuka\n",
      "\u001b[34mINFO  \u001b[0mParameter 'image' successfully set to '\"gcr.io/kubeflow-rl/agents:tf1.4.1-0214-0810-acd8\"' for component 'agents'\n",
      "\u001b[34mINFO  \u001b[0mParameter 'env' successfully set to '\"KukaBulletEnv-v0\"' for component 'agents'\n",
      "\u001b[34mINFO  \u001b[0mParameter 'algorithm' successfully set to '\"agents.ppo.PPOAlgorithm\"' for component 'agents'\n",
      "\u001b[34mINFO  \u001b[0mParameter 'network' successfully set to '\"agents.scripts.networks.feed_forward_gaussian\"' for component 'agents'\n",
      "\u001b[34mINFO  \u001b[0mParameter 'run_mode' successfully set to '\"train\"' for component 'agents'\n",
      "\u001b[34mINFO  \u001b[0mParameter 'num_cpu' successfully set to '30' for component 'agents'\n",
      "\u001b[34mINFO  \u001b[0mParameter 'num_agents' successfully set to '30' for component 'agents'\n",
      "\u001b[34mINFO  \u001b[0mParameter 'steps' successfully set to '15e6' for component 'agents'\n",
      "\u001b[34mINFO  \u001b[0mParameter 'update_every' successfully set to '60' for component 'agents'\n",
      "\u001b[34mINFO  \u001b[0mParameter 'eval_episodes' successfully set to '25' for component 'agents'\n",
      "\u001b[34mINFO  \u001b[0mParameter 'name' successfully set to '\"kuka-0214-0810-3596\"' for component 'agents'\n",
      "\u001b[34mINFO  \u001b[0mParameter 'log_dir' successfully set to '\"gs://kubeflow-rl/studies/replicated-env-comparison-demo/kuka-0214-0810-3596\"' for component 'agents'\n",
      "Preparing replica 1 of [{'log_dir': 'gs://kubeflow-rl/studies/replicated-env-comparison-demo/kuka-0214-0810-3596'}] for experiment kuka\n",
      "\u001b[34mINFO  \u001b[0mUpdating tfjobs rl.kuka-0214-0810-3596\n",
      "\u001b[34mINFO  \u001b[0mCreating non-existent tfjobs rl.kuka-0214-0810-3596\n"
     ]
    }
   ],
   "source": [
    "import datetime\n",
    "import uuid\n",
    "import pprint\n",
    "\n",
    "print(\"Preparing study: %s...\" % study[\"name\"])\n",
    "\n",
    "for experiment in study[\"experiments\"]:\n",
    "    \n",
    "    print(\"Preparing experiment: %s\" % experiment[\"name\"])\n",
    "    \n",
    "    # Get and set the job container image for this experiment\n",
    "    IMAGE = experiment[\"image\"]\n",
    "    !ks param set agents image {IMAGE}\n",
    "\n",
    "    # Set the gym learning environment on which to train\n",
    "    ENVIRONMENT = experiment[\"env\"]\n",
    "    !ks param set agents env {ENVIRONMENT}\n",
    "\n",
    "    # Set the algorithm and network part to use for policy and value networks\n",
    "    !ks param set agents algorithm \"agents.ppo.PPOAlgorithm\"\n",
    "    !ks param set agents network \"agents.scripts.networks.feed_forward_gaussian\"\n",
    "\n",
    "    # Run in training mode with 30 CPU and 30 agents for 20M steps\n",
    "    !ks param set agents run_mode train\n",
    "    !ks param set agents num_cpu 30\n",
    "    !ks param set agents num_agents 30\n",
    "    !ks param set agents steps 15e6\n",
    "\n",
    "    !ks param set agents update_every 60\n",
    "    !ks param set agents eval_episodes 25\n",
    "\n",
    "    for replica_id in range(experiment[\"num_replicas\"]):\n",
    "\n",
    "        # Construct a unique name for the training job based on experiment[\"name\"]\n",
    "        now=datetime.datetime.now()\n",
    "        JOB_SALT=now.strftime(\"%m%d-%H%M\") + \"-\" + uuid.uuid4().hex[0:4]\n",
    "        BASE_NAME = experiment[\"name\"]\n",
    "        TRAIN_JOB_NAME=BASE_NAME + \"-\" + JOB_SALT\n",
    "        !ks param set agents name {TRAIN_JOB_NAME}\n",
    "\n",
    "        # Construct a log dir path for this experiment\n",
    "        LOG_DIR=\"{0}/{1}\".format(STUDY_LOGS_ROOT, TRAIN_JOB_NAME)\n",
    "        !ks param set agents log_dir {LOG_DIR}\n",
    "\n",
    "        if \"replicas\" not in experiment:\n",
    "            experiment[\"replicas\"] = []\n",
    "        experiment[\"replicas\"].append({\"log_dir\": LOG_DIR})\n",
    "        \n",
    "        print(\"Preparing replica %s of %s for experiment %s\" % (replica_id + 1, experiment[\"replicas\"], experiment[\"name\"]))\n",
    "        !ks apply default -c agents"
   ]
  },
  {
   "cell_type": "code",
   "execution_count": 180,
   "metadata": {},
   "outputs": [
    {
     "data": {
      "text/plain": [
       "{'experiments': [{'env': 'KukaBulletEnv-v0',\n",
       "   'image': 'gcr.io/kubeflow-rl/agents:tf1.4.1-0213-1451-e98b',\n",
       "   'name': 'kuka',\n",
       "   'num_replicas': 4,\n",
       "   'replicas': [{'log_dir': 'gs://kubeflow-rl/studies/replicated-env-comparison-demo/kuka-0214-0808-cd2e'},\n",
       "    {'log_dir': 'gs://kubeflow-rl/studies/replicated-env-comparison-demo/kuka-0214-0808-b896'},\n",
       "    {'log_dir': 'gs://kubeflow-rl/studies/replicated-env-comparison-demo/kuka-0214-0808-fd9e'},\n",
       "    {'log_dir': 'gs://kubeflow-rl/studies/replicated-env-comparison-demo/kuka-0214-0808-e56d'}]}],\n",
       " 'name': 'replicated-env-comparison-demo'}"
      ]
     },
     "execution_count": 180,
     "metadata": {},
     "output_type": "execute_result"
    }
   ],
   "source": [
    "study"
   ]
  },
  {
   "cell_type": "markdown",
   "metadata": {},
   "source": [
    "Now we can list tfjobs and see that a job has been created."
   ]
  },
  {
   "cell_type": "code",
   "execution_count": 159,
   "metadata": {},
   "outputs": [
    {
     "name": "stdout",
     "output_type": "stream",
     "text": [
      "NAME                  AGE\r\n",
      "kuka-0213-1552-5db9   9s\r\n",
      "kuka-0213-1552-e612   12s\r\n",
      "kuka-0213-1553-1234   6s\r\n",
      "kuka-0213-1553-14b6   4s\r\n"
     ]
    }
   ],
   "source": [
    "!kubectl get tfjobs -n rl"
   ]
  },
  {
   "cell_type": "markdown",
   "metadata": {},
   "source": [
    "#### Monitoring training"
   ]
  },
  {
   "cell_type": "markdown",
   "metadata": {},
   "source": [
    "The IDs, status, and other metadata of pods involved in the training job can be displayed using the following:"
   ]
  },
  {
   "cell_type": "code",
   "execution_count": 161,
   "metadata": {},
   "outputs": [
    {
     "name": "stdout",
     "output_type": "stream",
     "text": [
      "NAME                                      READY     STATUS              RESTARTS   AGE\r\n",
      "ambassador-d96567548-6gvv5                0/2       ContainerCreating   0          48s\r\n",
      "ambassador-d96567548-hg6zj                0/2       ContainerCreating   0          48s\r\n",
      "ambassador-d96567548-nhkl2                0/2       ContainerCreating   0          48s\r\n",
      "kuka-0213-1552-5db9-master-npy7-0-cqq97   0/1       ContainerCreating   0          14s\r\n",
      "kuka-0213-1552-e612-master-kude-0-nssc8   0/1       ContainerCreating   0          17s\r\n",
      "kuka-0213-1553-1234-master-qqnr-0-grmwx   0/1       Pending             0          11s\r\n",
      "kuka-0213-1553-14b6-master-o2jk-0-mj9vj   0/1       Pending             0          9s\r\n",
      "tf-hub-0                                  0/1       ContainerCreating   0          49s\r\n",
      "tf-job-dashboard-97b55fb8c-4jvk4          1/1       Running             0          49s\r\n",
      "tf-job-operator-8679dd4fb5-cnbv6          1/1       Running             0          49s\r\n"
     ]
    }
   ],
   "source": [
    "!kubectl get pods -n rl --show-all"
   ]
  },
  {
   "cell_type": "code",
   "execution_count": 162,
   "metadata": {},
   "outputs": [
    {
     "data": {
      "text/plain": [
       "'kuka-0213-1553-14b6'"
      ]
     },
     "execution_count": 162,
     "metadata": {},
     "output_type": "execute_result"
    }
   ],
   "source": [
    "TRAIN_JOB_NAME"
   ]
  },
  {
   "cell_type": "markdown",
   "metadata": {},
   "source": [
    "Obtain the ID of the master pod and print logs"
   ]
  },
  {
   "cell_type": "code",
   "execution_count": null,
   "metadata": {
    "scrolled": false
   },
   "outputs": [],
   "source": [
    "import subprocess\n",
    "master_pod = subprocess.check_output([\"kubectl\", \"-n\", NAMESPACE, \"get\", \"pods\", \"--selector=tf_job_name=\" + TRAIN_JOB_NAME,\n",
    "                                      \"-o\", \"jsonpath='{.items[*].metadata.name}'\"]).decode(\"utf-8\")\n",
    "print(master_pod)\n",
    "!kubectl logs -n {NAMESPACE} {master_pod}"
   ]
  },
  {
   "cell_type": "markdown",
   "metadata": {},
   "source": [
    "##### Launching tensorboard"
   ]
  },
  {
   "cell_type": "markdown",
   "metadata": {},
   "source": [
    "The following will create a tensorboard deployment using the STUDY_LOGS_ROOT as the source of tensorboard logs."
   ]
  },
  {
   "cell_type": "code",
   "execution_count": 164,
   "metadata": {},
   "outputs": [
    {
     "name": "stdout",
     "output_type": "stream",
     "text": [
      "\u001b[34mINFO  \u001b[0mParameter 'name' successfully set to '\"tboard-0213-1556-a4c3\"' for component 'tensorboard'\n",
      "\u001b[34mINFO  \u001b[0mParameter 'namespace' successfully set to '\"rl\"' for component 'tensorboard'\n",
      "\u001b[34mINFO  \u001b[0mParameter 'log_dir' successfully set to '\"gs://kubeflow-rl/studies/replicated-env-comparison-demo\"' for component 'tensorboard'\n",
      "\u001b[34mINFO  \u001b[0mParameter 'secret' successfully set to '\"gcp-credentials\"' for component 'tensorboard'\n",
      "\u001b[34mINFO  \u001b[0mParameter 'secret_file_name' successfully set to '\"secret.json\"' for component 'tensorboard'\n",
      "---\n",
      "apiVersion: apps/v1beta1\n",
      "kind: Deployment\n",
      "metadata:\n",
      "  name: tboard-0213-1556-a4c3-tb\n",
      "  namespace: rl\n",
      "spec:\n",
      "  replicas: 1\n",
      "  template:\n",
      "    metadata:\n",
      "      labels:\n",
      "        app: tensorboard\n",
      "        tb-job: tboard-0213-1556-a4c3\n",
      "      name: tboard-0213-1556-a4c3\n",
      "      namespace: rl\n",
      "    spec:\n",
      "      containers:\n",
      "      - command:\n",
      "        - /usr/local/bin/tensorboard\n",
      "        - --logdir=gs://kubeflow-rl/studies/replicated-env-comparison-demo\n",
      "        - --port=80\n",
      "        env:\n",
      "        - name: GOOGLE_APPLICATION_CREDENTIALS\n",
      "          value: /secret/gcp-credentials/secret.json\n",
      "        image: gcr.io/tensorflow/tensorflow:latest\n",
      "        name: tensorboard\n",
      "        ports:\n",
      "        - containerPort: 80\n",
      "        volumeMounts:\n",
      "        - mountPath: /secret/gcp-credentials\n",
      "          name: credentials\n",
      "      volumes:\n",
      "      - name: credentials\n",
      "        secret:\n",
      "          secretName: gcp-credentials\n",
      "---\n",
      "apiVersion: v1\n",
      "kind: Service\n",
      "metadata:\n",
      "  name: tboard-0213-1556-a4c3-tb\n",
      "  namespace: rl\n",
      "spec:\n",
      "  ports:\n",
      "  - name: http\n",
      "    port: 80\n",
      "    targetPort: 80\n",
      "  selector:\n",
      "    app: tensorboard\n",
      "    tb-job: tboard-0213-1556-a4c3\n",
      "\u001b[34mINFO  \u001b[0mUpdating deployments rl.tboard-0213-1556-a4c3-tb\n",
      "\u001b[34mINFO  \u001b[0mCreating non-existent deployments rl.tboard-0213-1556-a4c3-tb\n",
      "\u001b[34mINFO  \u001b[0mUpdating services rl.tboard-0213-1556-a4c3-tb\n",
      "\u001b[34mINFO  \u001b[0mCreating non-existent services rl.tboard-0213-1556-a4c3-tb\n"
     ]
    }
   ],
   "source": [
    "HPARAM_SET=\"tboard\"\n",
    "now=datetime.datetime.now()\n",
    "JOB_SALT=now.strftime(\"%m%d-%H%M\") + \"-\" + uuid.uuid4().hex[0:4]\n",
    "TBOARD_JOB_NAME=HPARAM_SET + \"-\" + JOB_SALT\n",
    "SECRET_NAME=\"gcp-credentials\"\n",
    "SECRET_FILE_NAME=\"secret.json\"\n",
    "NAMESPACE=\"rl\"\n",
    "\n",
    "!ks param set tensorboard name {TBOARD_JOB_NAME}\n",
    "!ks param set tensorboard namespace {NAMESPACE}\n",
    "!ks param set tensorboard log_dir {STUDY_LOGS_ROOT}\n",
    "!ks param set tensorboard secret {SECRET_NAME}\n",
    "!ks param set tensorboard secret_file_name {SECRET_FILE_NAME}\n",
    "!ks show default -c tensorboard\n",
    "\n",
    "!ks apply default -c tensorboard"
   ]
  },
  {
   "cell_type": "markdown",
   "metadata": {},
   "source": [
    "##### Connecting to Tensorboard"
   ]
  },
  {
   "cell_type": "markdown",
   "metadata": {},
   "source": [
    "To connect to TensorBoard from a browser running on your local machine start the kubernetes proxy with `kubectl proxy` then access TensorBoard via the url given by evaluating the next cell"
   ]
  },
  {
   "cell_type": "code",
   "execution_count": 165,
   "metadata": {
    "scrolled": true
   },
   "outputs": [
    {
     "name": "stdout",
     "output_type": "stream",
     "text": [
      "http://127.0.0.1:8001/api/v1/proxy/namespaces/rl/services/tboard-0213-1556-a4c3-tb:80/\n"
     ]
    }
   ],
   "source": [
    "PROXY_PORT=8001\n",
    "# url=(\"http://127.0.0.1:{proxy_port}/api/v1/proxy/namespaces/{namespace}/services/{service_name}:80/\".format(\n",
    "#     proxy_port=PROXY_PORT, namespace=NAMESPACE, service_name=TRAIN_JOB_NAME + \"-tb\"))\n",
    "url=(\"http://127.0.0.1:{proxy_port}/api/v1/proxy/namespaces/{namespace}/services/{service_name}:80/\".format(\n",
    "    proxy_port=PROXY_PORT, namespace=NAMESPACE, service_name=TBOARD_JOB_NAME + \"-tb\"))\n",
    "print(url)"
   ]
  },
  {
   "cell_type": "markdown",
   "metadata": {},
   "source": [
    "Below is a screen grab from Tensorboard of the mean_score for four identically parameterized workers training on the Kuka environment:"
   ]
  },
  {
   "cell_type": "markdown",
   "metadata": {},
   "source": [
    "![](tboard_mean_score.png)"
   ]
  },
  {
   "cell_type": "markdown",
   "metadata": {},
   "source": [
    "As you can see there is variability both between and within workers but some still seem to reach stably high performance."
   ]
  },
  {
   "cell_type": "markdown",
   "metadata": {},
   "source": [
    "## Rendering!"
   ]
  },
  {
   "cell_type": "markdown",
   "metadata": {},
   "source": [
    "Let's take a look at the trained model performing the task!!"
   ]
  },
  {
   "cell_type": "markdown",
   "metadata": {},
   "source": [
    "#### Initiating render jobs\n",
    "\n",
    "Here we'll create a render job for each of the experiments in our study. This will generate multiple MP4 videos of the agent performing the task for each replica run with renders landing in ${LOG_DIR}/render/[some_unique_subdir_name]."
   ]
  },
  {
   "cell_type": "code",
   "execution_count": null,
   "metadata": {
    "scrolled": false
   },
   "outputs": [],
   "source": [
    "import datetime\n",
    "import uuid\n",
    "import os\n",
    "\n",
    "os.chdir(os.path.join(APP_ROOT, \"app\"))\n",
    "\n",
    "for experiment in study[\"experiments\"]:\n",
    "    for replica in experiment[\"replicas\"]:\n",
    "        \n",
    "        LOG_DIR = replica[\"log_dir\"]\n",
    "        IMAGE = experiment[\"image\"]\n",
    "        \n",
    "        now=datetime.datetime.now()\n",
    "\n",
    "        JOB_SALT=now.strftime(\"%m%d-%H%M\") + \"-\" + uuid.uuid4().hex[0:4]\n",
    "        RENDER_JOB_NAME=\"render-\" + JOB_SALT\n",
    "        !ks param set agents_render name {RENDER_JOB_NAME}\n",
    "\n",
    "        !ks param set agents_render log_dir {LOG_DIR}\n",
    "        !ks param set agents_render image {IMAGE}\n",
    "        \n",
    "        !ks apply default -c agents_render"
   ]
  },
  {
   "cell_type": "markdown",
   "metadata": {},
   "source": [
    "It will take about 15min for each render to run. We can see whether the renders are complete by checking the third column in the following:"
   ]
  },
  {
   "cell_type": "code",
   "execution_count": null,
   "metadata": {},
   "outputs": [],
   "source": [
    "!kubectl get jobs -n rl --show-all"
   ]
  },
  {
   "cell_type": "markdown",
   "metadata": {},
   "source": [
    "First let's get the GCS path of the directory containing renders for an experiment of interest. For a reminder, here's the structure of our study:"
   ]
  },
  {
   "cell_type": "code",
   "execution_count": null,
   "metadata": {},
   "outputs": [],
   "source": [
    "study"
   ]
  },
  {
   "cell_type": "markdown",
   "metadata": {},
   "source": [
    "Let's take a look at the renders for the first replica of the first experiment. First let's take a look at the log dir and render/ subdir of that experiment:"
   ]
  },
  {
   "cell_type": "code",
   "execution_count": null,
   "metadata": {},
   "outputs": [],
   "source": [
    "kuka_experiment_logdir = study[\"experiments\"][0][\"replicas\"][0][\"log_dir\"]\n",
    "!gsutil ls {kuka_experiment_logdir}\n",
    "!gsutil ls {kuka_experiment_logdir}/render"
   ]
  },
  {
   "cell_type": "markdown",
   "metadata": {},
   "source": [
    "Now let's specify exactly which render directory from which to pull a render for inspection. In my case above the render dir would be \"gs://kubeflow-rl-kf/studies/replicated-env-comparison/kuka-0208-1010-4f3a/render/0208-2228-7d1d/\":"
   ]
  },
  {
   "cell_type": "code",
   "execution_count": 170,
   "metadata": {},
   "outputs": [],
   "source": [
    "RENDER_DIR=\"gs://[your bucket]/studies/[study name]/[job name]/render/[render id]\""
   ]
  },
  {
   "cell_type": "markdown",
   "metadata": {},
   "source": [
    "Now let's take a look at one of those renders:"
   ]
  },
  {
   "cell_type": "code",
   "execution_count": null,
   "metadata": {},
   "outputs": [],
   "source": [
    "!mkdir -p /tmp/agents-render\n",
    "!gsutil cp `gsutil ls {RENDER_DIR} | grep mp4 | head -n1` /tmp/agents-render/render.mp4"
   ]
  },
  {
   "cell_type": "markdown",
   "metadata": {},
   "source": [
    "#### Inspecting the result"
   ]
  },
  {
   "cell_type": "markdown",
   "metadata": {},
   "source": [
    "When the job is complete there will be a subdirectory of the log dir named \"render\" with a number of short videos of episodes of the agent performing the grasping task. Here's an example of what one of those looks like in a well-trained model."
   ]
  },
  {
   "cell_type": "code",
   "execution_count": null,
   "metadata": {},
   "outputs": [],
   "source": [
    "import io\n",
    "import base64\n",
    "from IPython.display import HTML\n",
    "\n",
    "mp4_path = '/tmp/agents-render/render.mp4'\n",
    "\n",
    "video = io.open(mp4_path, 'r+b').read()\n",
    "encoded = base64.b64encode(video)\n",
    "HTML(data='''<video alt=\"test\" controls>\n",
    "                <source src=\"data:video/mp4;base64,{0}\" type=\"video/mp4\" />\n",
    "             </video>'''.format(encoded.decode('ascii')))"
   ]
  },
  {
   "cell_type": "markdown",
   "metadata": {},
   "source": [
    "### Great job! 🎉🎉🎉"
   ]
  },
  {
   "cell_type": "markdown",
   "metadata": {},
   "source": [
    "If this is your first time working with these technologies you might be interested in some suggestions of good next steps. Here are some ideas:\n",
    "- Try training with some other learning environments (from the ID fields [here](https://github.com/bulletphysics/bullet3/blob/master/examples/pybullet/gym/pybullet_envs/__init__.py)) and tweet your results! E.g.\n",
    "    - RacecarBulletEnv-v0\n",
    "    - MinitaurBulletDuckEnv-v0\n",
    "    - HalfCheetahBulletEnv-v0\n",
    "- Take a shot at implementing your own gym learning environment and repeat the above."
   ]
  }
 ],
 "metadata": {
  "kernelspec": {
   "display_name": "Python 2",
   "language": "python",
   "name": "python2"
  },
  "language_info": {
   "codemirror_mode": {
    "name": "ipython",
    "version": 2
   },
   "file_extension": ".py",
   "mimetype": "text/x-python",
   "name": "python",
   "nbconvert_exporter": "python",
   "pygments_lexer": "ipython2",
   "version": "2.7.14"
  }
 },
 "nbformat": 4,
 "nbformat_minor": 2
}
