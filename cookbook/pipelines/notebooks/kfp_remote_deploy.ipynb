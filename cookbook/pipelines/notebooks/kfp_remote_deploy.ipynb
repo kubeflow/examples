{
 "cells": [
  {
   "cell_type": "markdown",
   "metadata": {},
   "source": [
    "# Deploy and run a Kubeflow Pipeline from outside the Kubeflow cluster: IAP version\n",
    "\n",
    "This notebook shows how to deploy and run a Kubeflow Pipeline from outside the Kubeflow cluster.  The example requires a Google Cloud Platform (GCP) [project](https://cloud.google.com/free/), and an [IAP](https://cloud.google.com/iap/)-enabled cluster running on [Kubernetes Engine](https://cloud.google.com/kubernetes-engine/) (GKE).\n",
    "\n",
    "The notebook walks through how to create a GCP service account with the necessary permissons, how to add the account as an 'IAP-secured Web App User', and how to create a Pipelines SDK client that can communicate with the cluster."
   ]
  },
  {
   "cell_type": "markdown",
   "metadata": {},
   "source": [
    "## Setup and configuration\n",
    "\n",
    "\n",
    "### Deploy a Kubeflow cluster on GKE using IAP\n",
    "\n",
    "Deploy an IAP-enabled Kubeflow cluster on GKE.  The [launcher web app](https://deploy.kubeflow.cloud/#/deploy) is recommended. Follow [the instructions](https://www.kubeflow.org/docs/started/getting-started-gke/#create-oauth-client-credentials) to create an Oauth client ID and secret. \n",
    "\n",
    "Note the client ID, which you'll need later in the notebook to create a Pipelines SDK client.\n"
   ]
  },
  {
   "cell_type": "markdown",
   "metadata": {},
   "source": [
    "### Create a service account to use for the deployment\n",
    "\n",
    "Next, create a service account to use, by visiting\n",
    "[https://console.cloud.google.com/iam-admin/serviceaccounts](https://console.cloud.google.com/iam-admin/serviceaccounts).\n",
    "\n",
    "![create a service account](https://storage.googleapis.com/amy-jo/images/kfp-deploy/Screenshot_2019-03-09_11_07_06.png)\n",
    "\n",
    "Give the account project Editor permissions (or more restrictive configuration if desired), and also— this is required— **service account token creator** permissions.\n",
    "\n",
    "![give the service account Editor permissions](https://storage.googleapis.com/amy-jo/images/kfp-deploy/Screenshot_2019-03-09_11_07_24.png)\n",
    "\n",
    "\n",
    "![give the service account service account token creator permissions](https://storage.googleapis.com/amy-jo/images/kfp-deploy/Screenshot_2019-03-09_11_07_42.png)\n",
    "\n",
    "If you would like to run this notebook locally, create and download a JSON key file for your service account.\n",
    "Then, in your local environment, set the `GOOGLE_APPLICATION_CREDENTIALS` environment variable to point to the key file:\n",
    "\n",
    "```\n",
    "export GOOGLE_APPLICATION_CREDENTIALS=<your_key_file_path>\n",
    "```\n"
   ]
  },
  {
   "cell_type": "markdown",
   "metadata": {},
   "source": [
    "### Add the new service account as an IAP-secured web app user\n",
    "\n",
    "Next, add the new service account as an IAP-secured Web App User.  Visit [https://console.cloud.google.com/security/iap](https://console.cloud.google.com/security/iap). \n",
    "Click on 'kubeflow/envoy', then click on **ADD MEMBER**\n",
    "\n",
    "![](https://storage.googleapis.com/amy-jo/images/kfp-deploy/Screenshot_2019-03-09_11_29_14.png)\n",
    "\n",
    "Add the new service account as an IAP-secured Web App User.\n",
    "\n",
    "![](https://storage.googleapis.com/amy-jo/images/kfp-deploy/Screenshot_2019-03-09_11_30_24.png)\n"
   ]
  },
  {
   "cell_type": "markdown",
   "metadata": {},
   "source": [
    "## Running the notebook example\n",
    "\n",
    "### ML Engine Notebook\n",
    "\n",
    "Create a ML Engine notebook instance, and then **configure it to use the new service account**.  This is a two-stage process: you'll first create the notebook VM, then modify the VM's associated service account. \n",
    "\n",
    "First visit [https://console.cloud.google.com/mlengine/notebooks/instances](https://console.cloud.google.com/mlengine/notebooks/instances) and create a **NEW INSTANCE** (or you can use an existing instance if you prefer).  Then, find the new instance in the list of GCE VMs and *update its service account information to use the new service account* as described [here](https://cloud.google.com/compute/docs/access/create-enable-service-accounts-for-instances#changeserviceaccountandscopes).\n",
    "\n",
    "### Local Jupyter installation\n",
    "\n",
    "To run the notebook locally, you'll need Jupyter and Python 3 installed.  Ensure that you've set the `GOOGLE_APPLICATION_CREDENTIALS` environment var to point to your service account credentials:\n",
    "\n",
    "```\n",
    "export GOOGLE_APPLICATION_CREDENTIALS=<your_key_file_path>\n",
    "```\n"
   ]
  },
  {
   "cell_type": "markdown",
   "metadata": {},
   "source": [
    "### Finally, the code\n",
    "\n",
    "Now we're ready to run the example code.\n",
    "\n",
    "First, install the Kubeflow Pipelines SDK. **You may need to restart your notebook kernel after you do the installation**.    \n",
    "Make sure you're using Python 3. \n",
    "If you're running this notebook locally within a Conda environment, you may need to change `pip3` to `pip`."
   ]
  },
  {
   "cell_type": "code",
   "execution_count": null,
   "metadata": {},
   "outputs": [],
   "source": [
    "!pip3 install https://storage.googleapis.com/ml-pipeline/release/0.1.12/kfp.tar.gz --upgrade"
   ]
  },
  {
   "cell_type": "markdown",
   "metadata": {},
   "source": [
    "Next, do some imports:"
   ]
  },
  {
   "cell_type": "code",
   "execution_count": null,
   "metadata": {},
   "outputs": [],
   "source": [
    "import datetime\n",
    "\n",
    "import kfp\n",
    "import kfp.compiler as compiler\n",
    "import kfp.dsl as dsl\n",
    "\n",
    "from google.cloud import storage"
   ]
  },
  {
   "cell_type": "markdown",
   "metadata": {},
   "source": [
    "Define a (very) simple example pipeline to run:"
   ]
  },
  {
   "cell_type": "code",
   "execution_count": 10,
   "metadata": {},
   "outputs": [],
   "source": [
    "@dsl.pipeline(\n",
    "  name='Sequential',\n",
    "  description='A pipeline with two sequential steps.'\n",
    ")\n",
    "def sequential_pipeline(filename='gs://ml-pipeline-playground/shakespeare1.txt'):\n",
    "  \"\"\"A pipeline with two sequential steps.\"\"\"\n",
    "\n",
    "  op1 = dsl.ContainerOp(\n",
    "     name='getfilename',\n",
    "     image='library/bash:4.4.23',\n",
    "     command=['sh', '-c'],\n",
    "     arguments=['echo \"%s\" > /tmp/results.txt' % filename],\n",
    "     file_outputs={'newfile': '/tmp/results.txt'})\n",
    "  op2 = dsl.ContainerOp(\n",
    "     name='echo',\n",
    "     image='library/bash:4.4.23',\n",
    "     command=['sh', '-c'],\n",
    "     arguments=['echo \"%s\"' % op1.outputs['newfile']]\n",
    "     )"
   ]
  },
  {
   "cell_type": "markdown",
   "metadata": {},
   "source": [
    "Next we'll create an instance of the Kubeflow Pipelines client. Edit the following code to use your Kubeflow cluster's IAP endpoint, and the client ID for the oauth credential you created during IAP setup. You can find this ID, which should look like: `<id-string>.apps.googleusercontent.com`, displayed in the list of OAuth 2.0 client IDs on the APIs credentials page here: https://console.cloud.google.com/apis/credentials"
   ]
  },
  {
   "cell_type": "code",
   "execution_count": null,
   "metadata": {},
   "outputs": [],
   "source": [
    "ts = int(datetime.datetime.utcnow().timestamp() * 100000)\n",
    "client = kfp.Client(host='https://<your-deployment>.endpoints.<your-project>.cloud.goog/pipeline', \n",
    "                    client_id='<your-client-id>')\n"
   ]
  },
  {
   "cell_type": "markdown",
   "metadata": {},
   "source": [
    "Compile the pipeline, and create a Pipelines `Experiment`:"
   ]
  },
  {
   "cell_type": "code",
   "execution_count": null,
   "metadata": {},
   "outputs": [],
   "source": [
    "compiler.Compiler().compile(sequential_pipeline, '/tmp/sequential.tar.gz')\n",
    "exp = client.create_experiment(name='sequential')"
   ]
  },
  {
   "cell_type": "markdown",
   "metadata": {},
   "source": [
    "Finally, run the pipeline:"
   ]
  },
  {
   "cell_type": "code",
   "execution_count": null,
   "metadata": {},
   "outputs": [],
   "source": [
    "res =  client.run_pipeline(exp.id, 'sequential_' + str(ts), \n",
    "                           '/tmp/sequential.tar.gz',\n",
    "                          )\n",
    "print(res)"
   ]
  },
  {
   "cell_type": "markdown",
   "metadata": {},
   "source": [
    "------------------------------------\n",
    "Copyright 2019, Google, LLC.\n",
    "Licensed under the Apache License, Version 2.0 (the \"License\");\n",
    "you may not use this file except in compliance with the License.\n",
    "You may obtain a copy of the License at\n",
    "\n",
    "   http://www.apache.org/licenses/LICENSE-2.0\n",
    "\n",
    "Unless required by applicable law or agreed to in writing, software\n",
    "distributed under the License is distributed on an \"AS IS\" BASIS,\n",
    "WITHOUT WARRANTIES OR CONDITIONS OF ANY KIND, either express or implied.\n",
    "See the License for the specific language governing permissions and\n",
    "limitations under the License."
   ]
  }
 ],
 "metadata": {
  "kernelspec": {
   "display_name": "Python 3",
   "language": "python",
   "name": "python3"
  },
  "language_info": {
   "codemirror_mode": {
    "name": "ipython",
    "version": 3
   },
   "file_extension": ".py",
   "mimetype": "text/x-python",
   "name": "python",
   "nbconvert_exporter": "python",
   "pygments_lexer": "ipython3",
   "version": "3.5.3"
  }
 },
 "nbformat": 4,
 "nbformat_minor": 2
}
