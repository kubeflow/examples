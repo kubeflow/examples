{
 "cells": [
  {
   "cell_type": "markdown",
   "metadata": {},
   "source": [
    "# Deploy and run a Kubeflow Pipeline from outside the Kubeflow cluster: non-IAP version\n",
    "\n",
    "This notebook shows how to deploy and run a [Kubeflow](https://kubeflow.org) Pipeline from outside the Kubeflow cluster.  \n",
    "\n",
    "In contrast to the [`kfp_remote_deploy.ipynb`](kfp_remote_deploy.ipynb) notebook, this example does not require that the cluster has been set up to use Google Cloud Platform's [Identity-Aware Proxy (IAP)](https://cloud.google.com/iap/). \n",
    "For simplicity of example we do assume a cluster running on [Kubernetes Engine](https://cloud.google.com/kubernetes-engine/) (GKE). However, this basic approach should work for Kubeflow installed on non-GKE  Kubernetes-conformant clusters as well."
   ]
  },
  {
   "cell_type": "markdown",
   "metadata": {},
   "source": [
    "## Setup and configuration\n",
    "\n",
    "\n",
    "### Deploy a Kubeflow cluster on GKE using IAP\n",
    "\n",
    "Deploy a [Kubeflow](https://kubeflow.org) cluster on GKE.  The [launcher web app](https://deploy.kubeflow.cloud/#/deploy) is recommended.\n",
    "\n",
    "Once the GKE cluster is up and running, visit https://console.cloud.google.com/kubernetes/list and click on the **Connect** button to the right of your Kubeflow cluster. Copy the given command-line access snippet, which should look like:\n",
    "\n",
    "```\n",
    "gcloud container clusters get-credentials <your-cluster-name> --zone <your-zone> --project <your-project>\n",
    "```\n",
    "You'll need this for the next step.\n"
   ]
  },
  {
   "cell_type": "markdown",
   "metadata": {},
   "source": [
    "## Running the notebook example\n",
    "\n",
    "### Run the example in the ML Engine Notebook\n",
    "\n",
    "\n",
    "Visit [https://console.cloud.google.com/mlengine/notebooks/instances](https://console.cloud.google.com/mlengine/notebooks/instances) and create a **NEW INSTANCE** (or you can use an existing instance if you prefer).\n",
    "\n",
    "Once the instance is up and running, click on **OPEN JUPYTERLAB**, and upload this notebook.\n",
    "\n",
    "Under **File** > **New**, start up a new **Terminal** tab.  In the terminal window, run the `gcloud container clusters get-credentials ...` command described above.\n",
    "This will auth `kubectl` to connect to your Kubeflow cluster. \n",
    "\n",
    "Then, port-forward to the Kubeflow dashboard by running this command in the terminal window:\n",
    "\n",
    "```\n",
    "kubectl port-forward --namespace kubeflow $(kubectl get pod --namespace kubeflow --selector=\"service=ambassador\" \\\n",
    "  --output jsonpath='{.items[0].metadata.name}') 8889:80\n",
    "```\n",
    "\n",
    "(Often the convention is to use port 8080, but in the ML Engine notebook environment that port is already taken, so we're using another, `8889`.)\n",
    "\n",
    "### Run the example in a local Jupyter installation\n",
    "\n",
    "To run this notebook locally, you'll need Jupyter and Python 3 installed.  \n",
    "\n",
    "Then, in your local environment, run the `gcloud container clusters get-credentials ...` command described above.\n",
    "This will auth `kubectl` to connect to your Kubeflow cluster. \n",
    "\n",
    "Then, port-forward to the Kubeflow dashboard by running:\n",
    "\n",
    "```\n",
    "kubectl port-forward --namespace kubeflow $(kubectl get pod --namespace kubeflow --selector=\"service=ambassador\" \\\n",
    "  --output jsonpath='{.items[0].metadata.name}') 8889:80\n",
    "```\n"
   ]
  },
  {
   "cell_type": "markdown",
   "metadata": {},
   "source": [
    "### The code\n",
    "\n",
    "Now we're ready to run the example code.\n",
    "\n",
    "First, install the Kubeflow Pipelines SDK. If you get import errors, **you may need to restart your notebook kernel after you do the installation**.    \n",
    "Make sure you're using Python 3. \n",
    "If you're running this notebook locally within a Conda environment, you may need to change `pip3` to `pip`."
   ]
  },
  {
   "cell_type": "code",
   "execution_count": null,
   "metadata": {},
   "outputs": [],
   "source": [
    "!pip3 install https://storage.googleapis.com/ml-pipeline/release/0.1.12/kfp.tar.gz --upgrade"
   ]
  },
  {
   "cell_type": "markdown",
   "metadata": {},
   "source": [
    "Next, do some imports:"
   ]
  },
  {
   "cell_type": "code",
   "execution_count": null,
   "metadata": {},
   "outputs": [],
   "source": [
    "import datetime\n",
    "\n",
    "import kfp\n",
    "import kfp.compiler as compiler\n",
    "import kfp.dsl as dsl\n",
    "\n",
    "from google.cloud import storage"
   ]
  },
  {
   "cell_type": "markdown",
   "metadata": {},
   "source": [
    "Define a (very) simple example pipeline to run:"
   ]
  },
  {
   "cell_type": "code",
   "execution_count": null,
   "metadata": {},
   "outputs": [],
   "source": [
    "@dsl.pipeline(\n",
    "  name='Sequential',\n",
    "  description='A pipeline with two sequential steps.'\n",
    ")\n",
    "def sequential_pipeline(filename='gs://ml-pipeline-playground/shakespeare1.txt'):\n",
    "  \"\"\"A pipeline with two sequential steps.\"\"\"\n",
    "\n",
    "  op1 = dsl.ContainerOp(\n",
    "     name='getfilename',\n",
    "     image='library/bash:4.4.23',\n",
    "     command=['sh', '-c'],\n",
    "     arguments=['echo \"%s\" > /tmp/results.txt' % filename],\n",
    "     file_outputs={'newfile': '/tmp/results.txt'})\n",
    "  op2 = dsl.ContainerOp(\n",
    "     name='echo',\n",
    "     image='library/bash:4.4.23',\n",
    "     command=['sh', '-c'],\n",
    "     arguments=['echo \"%s\"' % op1.outputs['newfile']]\n",
    "     )"
   ]
  },
  {
   "cell_type": "markdown",
   "metadata": {},
   "source": [
    "Next we'll create an instance of the Kubeflow Pipelines client. It will connect via the port-forward connection you set up."
   ]
  },
  {
   "cell_type": "code",
   "execution_count": null,
   "metadata": {},
   "outputs": [],
   "source": [
    "ts = int(datetime.datetime.utcnow().timestamp() * 100000)\n",
    "client = kfp.Client(host='localhost:8889/pipeline')"
   ]
  },
  {
   "cell_type": "markdown",
   "metadata": {},
   "source": [
    "Compile the pipeline, and create a Pipelines `Experiment`. (If you're running in an ML Engine notebook, the generated 'experiment' link will not work)."
   ]
  },
  {
   "cell_type": "code",
   "execution_count": null,
   "metadata": {},
   "outputs": [],
   "source": [
    "compiler.Compiler().compile(sequential_pipeline, '/tmp/sequential.tar.gz')\n",
    "exp = client.create_experiment(name='sequential')"
   ]
  },
  {
   "cell_type": "markdown",
   "metadata": {},
   "source": [
    "Finally, run the pipeline.\n",
    "If you're running this example an ML engine notebook, the generated 'run' link will not work. Instead, to view the Kubeflow and Kubeflow Pipelines dashboards, you can set up an additional port-forward from your local machine (a bit more info is [here](https://www.kubeflow.org/docs/other-guides/accessing-uis/)), or from the GCP [cloud shell](https://cloud.google.com/shell/docs/using-web-preview) using its 'Web Preview' feature."
   ]
  },
  {
   "cell_type": "code",
   "execution_count": null,
   "metadata": {},
   "outputs": [],
   "source": [
    "res =  client.run_pipeline(exp.id, 'sequential_' + str(ts), \n",
    "                           '/tmp/sequential.tar.gz',\n",
    "                          )\n",
    "print(res)"
   ]
  },
  {
   "cell_type": "markdown",
   "metadata": {},
   "source": [
    "Copyright 2019, Google, LLC.\n",
    "Licensed under the Apache License, Version 2.0 (the \"License\");\n",
    "you may not use this file except in compliance with the License.\n",
    "You may obtain a copy of the License at\n",
    "\n",
    "   http://www.apache.org/licenses/LICENSE-2.0\n",
    "\n",
    "Unless required by applicable law or agreed to in writing, software\n",
    "distributed under the License is distributed on an \"AS IS\" BASIS,\n",
    "WITHOUT WARRANTIES OR CONDITIONS OF ANY KIND, either express or implied.\n",
    "See the License for the specific language governing permissions and\n",
    "limitations under the License."
   ]
  }
 ],
 "metadata": {
  "kernelspec": {
   "display_name": "Python 3",
   "language": "python",
   "name": "python3"
  },
  "language_info": {
   "codemirror_mode": {
    "name": "ipython",
    "version": 3
   },
   "file_extension": ".py",
   "mimetype": "text/x-python",
   "name": "python",
   "nbconvert_exporter": "python",
   "pygments_lexer": "ipython3",
   "version": "3.5.3"
  }
 },
 "nbformat": 4,
 "nbformat_minor": 2
}
