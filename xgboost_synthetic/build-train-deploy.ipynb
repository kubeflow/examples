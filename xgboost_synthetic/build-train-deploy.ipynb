{
 "cells": [
  {
   "cell_type": "markdown",
   "metadata": {},
   "source": [
    "# Train and deploy on Kubeflow from Notebooks\n",
    "\n",
    "This notebook shows you how to use Kubeflow to build, train, and deploy models on Kubernetes.\n",
    "This notebook walks you through the following\n",
    " \n",
    "* Building an XGBoost model inside a notebook\n",
    "* Training the model inside the notebook\n",
    "* Performing inference using the model inside the notebook\n",
    "* Using Kubeflow Fairing to launch training jobs on Kubernetes\n",
    "* Using Kubeflow Fairing to build and deploy a model using [Seldon Core](https://www.seldon.io/)\n",
    "* Using [Kubeflow metadata](https://github.com/kubeflow/metadata) to record metadata about your models\n",
    "* Using [Kubeflow Pipelines](https://www.kubeflow.org/docs/pipelines/) to build a pipeline to train your model\n",
    "\n",
    "## Prerequisites \n",
    "\n",
    "* This notebook assumes you are running inside 0.6 Kubeflow deployed on GKE following the [GKE instructions](https://www.kubeflow.org/docs/gke/deploy/)\n",
    "* If you are running somewhere other than GKE you will need to modify the notebook to use a different docker registry or else configure Kubeflow to work with GCR."
   ]
  },
  {
   "cell_type": "markdown",
   "metadata": {},
   "source": [
    "### Verify we have a GCP account\n",
    "\n",
    "* The cell below checks that this notebook was spawned with credentials to access GCP"
   ]
  },
  {
   "cell_type": "code",
   "execution_count": 1,
   "metadata": {},
   "outputs": [],
   "source": [
    "import os\n",
    "from oauth2client.client import GoogleCredentials\n",
    "credentials = GoogleCredentials.get_application_default()"
   ]
  },
  {
   "cell_type": "markdown",
   "metadata": {},
   "source": [
    "## Install Required Libraries\n",
    "\n",
    "Import the libraries required to train this model."
   ]
  },
  {
   "cell_type": "code",
   "execution_count": 2,
   "metadata": {},
   "outputs": [
    {
     "name": "stderr",
     "output_type": "stream",
     "text": [
      "pip installing requirements.txt\n",
      "pip installing KFP https://storage.googleapis.com/ml-pipeline/release/0.1.32/kfp.tar.gz\n",
      "pip installing fairing git+git://github.com/kubeflow/fairing.git@9b0d4ed4796ba349ac6067bbd802ff1d6454d015\n",
      "Configure docker credentials\n"
     ]
    }
   ],
   "source": [
    "import notebook_setup\n",
    "notebook_setup.notebook_setup()"
   ]
  },
  {
   "cell_type": "markdown",
   "metadata": {},
   "source": [
    "* Import the python libraries we will use\n",
    "* We add a comment \"fairing:include-cell\" to tell the kubefow fairing preprocessor to keep this cell when converting to python code later"
   ]
  },
  {
   "cell_type": "code",
   "execution_count": 3,
   "metadata": {},
   "outputs": [],
   "source": [
    "# fairing:include-cell\n",
    "import fire\n",
    "import joblib\n",
    "import logging\n",
    "import nbconvert\n",
    "import os\n",
    "import pathlib\n",
    "import sys\n",
    "from pathlib import Path\n",
    "import pandas as pd\n",
    "import pprint\n",
    "from sklearn.metrics import mean_absolute_error\n",
    "from sklearn.model_selection import train_test_split\n",
    "from sklearn.impute import SimpleImputer\n",
    "from xgboost import XGBRegressor\n",
    "from importlib import reload\n",
    "from sklearn.datasets import make_regression\n",
    "from kubeflow.metadata import metadata\n",
    "from kubeflow.metadata import openapi_client\n",
    "from kubeflow.metadata.openapi_client import Configuration, ApiClient, MetadataServiceApi\n",
    "from datetime import datetime\n",
    "import retrying\n",
    "import urllib3"
   ]
  },
  {
   "cell_type": "code",
   "execution_count": 4,
   "metadata": {},
   "outputs": [],
   "source": [
    "# Imports not to be included in the built docker image\n",
    "import util\n",
    "import kfp\n",
    "import kfp.components as comp\n",
    "import kfp.gcp as gcp\n",
    "import kfp.dsl as dsl\n",
    "import kfp.compiler as compiler\n",
    "from kubernetes import client as k8s_client\n",
    "from kubeflow import fairing   \n",
    "from kubeflow.fairing.builders import append\n",
    "from kubeflow.fairing.deployers import job\n",
    "from kubeflow.fairing.preprocessors.converted_notebook import ConvertNotebookPreprocessorWithFire\n"
   ]
  },
  {
   "cell_type": "markdown",
   "metadata": {},
   "source": [
    "## Code to train and predict \n",
    "\n",
    "* In the cells below we define some functions to generate data and train a model\n",
    "* These functions could just as easily be defined in a separate python module"
   ]
  },
  {
   "cell_type": "code",
   "execution_count": 5,
   "metadata": {},
   "outputs": [],
   "source": [
    "# fairing:include-cell\n",
    "def read_synthetic_input(test_size=0.25):\n",
    "    \"\"\"generate synthetic data and split it into train and test.\"\"\"\n",
    "    # generate regression dataset\n",
    "    X, y = make_regression(n_samples=200, n_features=5, noise=0.1)\n",
    "    train_X, test_X, train_y, test_y = train_test_split(X,\n",
    "                                                      y,\n",
    "                                                      test_size=test_size,\n",
    "                                                      shuffle=False)\n",
    "\n",
    "    imputer = SimpleImputer()\n",
    "    train_X = imputer.fit_transform(train_X)\n",
    "    test_X = imputer.transform(test_X)\n",
    "\n",
    "    return (train_X, train_y), (test_X, test_y)\n"
   ]
  },
  {
   "cell_type": "code",
   "execution_count": 6,
   "metadata": {},
   "outputs": [],
   "source": [
    "# fairing:include-cell\n",
    "def train_model(train_X,\n",
    "                train_y,\n",
    "                test_X,\n",
    "                test_y,\n",
    "                n_estimators,\n",
    "                learning_rate):\n",
    "    \"\"\"Train the model using XGBRegressor.\"\"\"\n",
    "    model = XGBRegressor(n_estimators=n_estimators, learning_rate=learning_rate)\n",
    "\n",
    "    model.fit(train_X,\n",
    "            train_y,\n",
    "            early_stopping_rounds=40,\n",
    "            eval_set=[(test_X, test_y)])\n",
    "\n",
    "    print(\"Best RMSE on eval: %.2f with %d rounds\",\n",
    "               model.best_score,\n",
    "               model.best_iteration+1)\n",
    "    return model\n",
    "\n",
    "def eval_model(model, test_X, test_y):\n",
    "    \"\"\"Evaluate the model performance.\"\"\"\n",
    "    predictions = model.predict(test_X)\n",
    "    mae=mean_absolute_error(predictions, test_y)\n",
    "    logging.info(\"mean_absolute_error=%.2f\", mae)\n",
    "    return mae\n",
    "\n",
    "def save_model(model, model_file):\n",
    "    \"\"\"Save XGBoost model for serving.\"\"\"\n",
    "    joblib.dump(model, model_file)\n",
    "    logging.info(\"Model export success: %s\", model_file)\n",
    "\n",
    "@retrying.retry(stop_max_delay=180000)\n",
    "def wait_for_istio(address=\"metadata-service.kubeflow.svc.cluster.local:8080\"):\n",
    "    \"\"\"Wait until we can connect to the metadata service.\n",
    "    \n",
    "    When we launch a K8s pod we may not be able to connect to the metadata service immediately\n",
    "    because the ISTIO side car hasn't started.\n",
    "    \n",
    "    This function allows us to wait for a time specified up to stop_max_delay to see if the service\n",
    "    is ready.    \n",
    "    \"\"\"\n",
    "    config = Configuration()\n",
    "    config.host = address\n",
    "    api_client = ApiClient(config)\n",
    "    client = MetadataServiceApi(api_client)\n",
    "\n",
    "    client.list_artifacts2()\n",
    "    \n",
    "def create_workspace():\n",
    "    return metadata.Workspace(\n",
    "        # Connect to metadata-service in namesapce kubeflow in k8s cluster.\n",
    "        backend_url_prefix=\"metadata-service.kubeflow.svc.cluster.local:8080\",\n",
    "        name=\"xgboost-synthetic\",\n",
    "        description=\"workspace for xgboost-synthetic artifacts and executions\")"
   ]
  },
  {
   "cell_type": "markdown",
   "metadata": {},
   "source": [
    "## Wrap Training and Prediction in a class\n",
    "\n",
    "* In the cell below we wrap training and prediction in a class\n",
    "* A class provides the structure we will need to eventually use kubeflow fairing to launch separate training jobs and/or deploy the model on Kubernetes"
   ]
  },
  {
   "cell_type": "code",
   "execution_count": 7,
   "metadata": {},
   "outputs": [],
   "source": [
    "# fairing:include-cell\n",
    "class ModelServe(object):    \n",
    "    def __init__(self, model_file=None):\n",
    "        self.n_estimators = 50\n",
    "        self.learning_rate = 0.1\n",
    "        if not model_file:\n",
    "            if \"MODEL_FILE\" in os.environ:\n",
    "                print(\"model_file not supplied; checking environment variable\")\n",
    "                model_file = os.getenv(\"MODEL_FILE\")\n",
    "            else:\n",
    "                print(\"model_file not supplied; using the default\")\n",
    "                model_file = \"mockup-model.dat\"\n",
    "        \n",
    "        self.model_file = model_file\n",
    "        print(\"model_file={0}\".format(self.model_file))\n",
    "        \n",
    "        self.model = None\n",
    "        self._workspace = None\n",
    "        self.exec = self.create_execution()\n",
    "\n",
    "    def train(self):\n",
    "        (train_X, train_y), (test_X, test_y) = read_synthetic_input()\n",
    "        \n",
    "        # Here we use Kubeflow's metadata library to record information\n",
    "        # about the training run to Kubeflow's metadata store.\n",
    "        self.exec.log_input(metadata.DataSet(\n",
    "            description=\"xgboost synthetic data\",\n",
    "            name=\"synthetic-data\",\n",
    "            owner=\"someone@kubeflow.org\",\n",
    "            uri=\"file://path/to/dataset\",\n",
    "            version=\"v1.0.0\"))\n",
    "        \n",
    "        model = train_model(train_X,\n",
    "                          train_y,\n",
    "                          test_X,\n",
    "                          test_y,\n",
    "                          self.n_estimators,\n",
    "                          self.learning_rate)\n",
    "\n",
    "        mae = eval_model(model, test_X, test_y)\n",
    "        \n",
    "        # Here we log metrics about the model to Kubeflow's metadata store.\n",
    "        self.exec.log_output(metadata.Metrics(\n",
    "            name=\"xgboost-synthetic-traing-eval\",\n",
    "            owner=\"someone@kubeflow.org\",\n",
    "            description=\"training evaluation for xgboost synthetic\",\n",
    "            uri=\"gcs://path/to/metrics\",\n",
    "            metrics_type=metadata.Metrics.VALIDATION,\n",
    "            values={\"mean_absolute_error\": mae}))\n",
    "        \n",
    "        save_model(model, self.model_file)\n",
    "        self.exec.log_output(metadata.Model(\n",
    "            name=\"housing-price-model\",\n",
    "            description=\"housing price prediction model using synthetic data\",\n",
    "            owner=\"someone@kubeflow.org\",\n",
    "            uri=self.model_file,\n",
    "            model_type=\"linear_regression\",\n",
    "            training_framework={\n",
    "                \"name\": \"xgboost\",\n",
    "                \"version\": \"0.9.0\"\n",
    "            },\n",
    "            hyperparameters={\n",
    "                \"learning_rate\": self.learning_rate,\n",
    "                \"n_estimators\": self.n_estimators\n",
    "            },\n",
    "            version=datetime.utcnow().isoformat(\"T\")))\n",
    "        \n",
    "    def predict(self, X, feature_names):\n",
    "        \"\"\"Predict using the model for given ndarray.\n",
    "        \n",
    "        The predict signature should match the syntax expected by Seldon Core\n",
    "        https://github.com/SeldonIO/seldon-core so that we can use\n",
    "        Seldon h to wrap it a model server and deploy it on Kubernetes\n",
    "        \"\"\"\n",
    "        if not self.model:\n",
    "            self.model = joblib.load(self.model_file)\n",
    "        # Do any preprocessing\n",
    "        prediction = self.model.predict(data=X)\n",
    "        # Do any postprocessing\n",
    "        return [[prediction.item(0), prediction.item(1)]]\n",
    "\n",
    "    @property\n",
    "    def workspace(self):\n",
    "        if not self._workspace:\n",
    "            wait_for_istio()\n",
    "            self._workspace = create_workspace()\n",
    "        return self._workspace\n",
    "    \n",
    "    def create_execution(self):                \n",
    "        r = metadata.Run(\n",
    "            workspace=self.workspace,\n",
    "            name=\"xgboost-synthetic-faring-run\" + datetime.utcnow().isoformat(\"T\"),\n",
    "            description=\"a notebook run\")\n",
    "\n",
    "        return metadata.Execution(\n",
    "            name = \"execution\" + datetime.utcnow().isoformat(\"T\"),\n",
    "            workspace=self.workspace,\n",
    "            run=r,\n",
    "            description=\"execution for training xgboost-synthetic\")"
   ]
  },
  {
   "cell_type": "markdown",
   "metadata": {},
   "source": [
    "## Train your Model Locally\n",
    "\n",
    "* Train your model locally inside your notebook\n",
    "* To train locally we just instatiante the ModelServe class and then call train"
   ]
  },
  {
   "cell_type": "code",
   "execution_count": 8,
   "metadata": {},
   "outputs": [
    {
     "name": "stdout",
     "output_type": "stream",
     "text": [
      "model_file=mockup-model.dat\n",
      "[01:59:24] WARNING: /workspace/src/objective/regression_obj.cu:152: reg:linear is now deprecated in favor of reg:squarederror.\n",
      "[0]\tvalidation_0-rmse:126.454\n",
      "Will train until validation_0-rmse hasn't improved in 40 rounds.\n",
      "[1]\tvalidation_0-rmse:118.586\n",
      "[2]\tvalidation_0-rmse:113.631\n",
      "[3]\tvalidation_0-rmse:107.715\n",
      "[4]\tvalidation_0-rmse:102.901\n",
      "[5]\tvalidation_0-rmse:97.6595\n",
      "[6]\tvalidation_0-rmse:93.6508\n",
      "[7]\tvalidation_0-rmse:90.489\n",
      "[8]\tvalidation_0-rmse:87.2985\n",
      "[9]\tvalidation_0-rmse:83.3983\n",
      "[10]\tvalidation_0-rmse:81.0857\n",
      "[11]\tvalidation_0-rmse:77.6108\n",
      "[12]\tvalidation_0-rmse:74.9634\n",
      "[13]\tvalidation_0-rmse:72.8967\n",
      "[14]\tvalidation_0-rmse:71.6856\n",
      "[15]\tvalidation_0-rmse:69.5757\n",
      "[16]\tvalidation_0-rmse:68.1697\n",
      "[17]\tvalidation_0-rmse:66.5379\n",
      "[18]\tvalidation_0-rmse:64.8437\n",
      "[19]\tvalidation_0-rmse:63.5118\n",
      "[20]\tvalidation_0-rmse:61.8464\n",
      "[21]\tvalidation_0-rmse:60.9832\n",
      "[22]\tvalidation_0-rmse:59.2487\n",
      "[23]\tvalidation_0-rmse:58.5487\n",
      "[24]\tvalidation_0-rmse:57.3747\n",
      "[25]\tvalidation_0-rmse:56.1671\n",
      "[26]\tvalidation_0-rmse:55.5532\n",
      "[27]\tvalidation_0-rmse:54.689\n",
      "[28]\tvalidation_0-rmse:53.799\n",
      "[29]\tvalidation_0-rmse:52.7957\n",
      "[30]\tvalidation_0-rmse:51.9971\n",
      "[31]\tvalidation_0-rmse:51.4438\n",
      "[32]\tvalidation_0-rmse:50.4111\n",
      "[33]\tvalidation_0-rmse:49.9279\n",
      "[34]\tvalidation_0-rmse:49.0742\n",
      "[35]\tvalidation_0-rmse:48.6634\n",
      "[36]\tvalidation_0-rmse:48.0462\n",
      "[37]\tvalidation_0-rmse:47.6838\n",
      "[38]\tvalidation_0-rmse:47.4017\n",
      "[39]\tvalidation_0-rmse:46.6633\n",
      "[40]\tvalidation_0-rmse:46.147\n",
      "[41]\tvalidation_0-rmse:45.3871\n",
      "[42]\tvalidation_0-rmse:44.7644\n",
      "[43]\tvalidation_0-rmse:44.2482\n",
      "[44]\tvalidation_0-rmse:43.9772\n",
      "[45]\tvalidation_0-rmse:43.4322\n",
      "[46]\tvalidation_0-rmse:43.0199\n",
      "[47]\tvalidation_0-rmse:42.6914\n",
      "[48]\tvalidation_0-rmse:42.3258\n",
      "[49]\tvalidation_0-rmse:42.1521\n"
     ]
    },
    {
     "name": "stderr",
     "output_type": "stream",
     "text": [
      "mean_absolute_error=31.69\n",
      "Model export success: mockup-model.dat\n"
     ]
    },
    {
     "name": "stdout",
     "output_type": "stream",
     "text": [
      "Best RMSE on eval: %.2f with %d rounds 42.152107 50\n"
     ]
    }
   ],
   "source": [
    "model = ModelServe(model_file=\"mockup-model.dat\")\n",
    "model.train()"
   ]
  },
  {
   "cell_type": "markdown",
   "metadata": {},
   "source": [
    "## Predict locally\n",
    "\n",
    "* Run prediction inside the notebook using the newly created model\n",
    "* To run prediction we just invoke redict"
   ]
  },
  {
   "cell_type": "code",
   "execution_count": 9,
   "metadata": {},
   "outputs": [
    {
     "name": "stdout",
     "output_type": "stream",
     "text": [
      "model_file not supplied; using the default\n",
      "model_file=mockup-model.dat\n",
      "[01:59:24] WARNING: /workspace/src/objective/regression_obj.cu:152: reg:linear is now deprecated in favor of reg:squarederror.\n"
     ]
    },
    {
     "data": {
      "text/plain": [
       "[[187.37405395507812, 209.07009887695312]]"
      ]
     },
     "execution_count": 9,
     "metadata": {},
     "output_type": "execute_result"
    }
   ],
   "source": [
    "(train_X, train_y), (test_X, test_y) =read_synthetic_input()\n",
    "\n",
    "ModelServe().predict(test_X, None)"
   ]
  },
  {
   "cell_type": "markdown",
   "metadata": {},
   "source": [
    "## Use Kubeflow Fairing to Launch a K8s Job to train your model\n",
    "\n",
    "* Now that we have trained a model locally we can use Kubeflow fairing to\n",
    "  1. Launch a Kubernetes job to train the model\n",
    "  1. Deploy the model on Kubernetes\n",
    "* Launching a separate Kubernetes job to train the model has the following advantages\n",
    "\n",
    "  * You can leverage Kubernetes to run multiple training jobs in parallel \n",
    "  * You can run long running jobs without blocking your kernel"
   ]
  },
  {
   "cell_type": "markdown",
   "metadata": {},
   "source": [
    "### Configure The Docker Registry For Kubeflow Fairing\n",
    "\n",
    "* In order to build docker images from your notebook we need a docker registry where the images will be stored\n",
    "* Below you set some variables specifying a [GCR container registry](https://cloud.google.com/container-registry/docs/)\n",
    "* Kubeflow Fairing provides a utility function to guess the name of your GCP project"
   ]
  },
  {
   "cell_type": "code",
   "execution_count": 10,
   "metadata": {},
   "outputs": [],
   "source": [
    "# Setting up google container repositories (GCR) for storing output containers\n",
    "# You can use any docker container registry istead of GCR\n",
    "GCP_PROJECT = fairing.cloud.gcp.guess_project_name()\n",
    "DOCKER_REGISTRY = 'gcr.io/{}/fairing-job'.format(GCP_PROJECT)"
   ]
  },
  {
   "cell_type": "markdown",
   "metadata": {},
   "source": [
    "## Use Kubeflow fairing to build the docker image\n",
    "\n",
    "* First you will use kubeflow fairing's kaniko builder to build a docker image that includes all your dependencies\n",
    "  * You use kaniko because you want to be able to run `pip` to install dependencies\n",
    "  * Kaniko gives you the flexibility to build images from Dockerfiles\n",
    "* kaniko, however, can be slow\n",
    "* so you will build a base image using Kaniko and then every time your code changes you will just build an image\n",
    "  starting from your base image and adding your code to it\n",
    "* you use the kubeflow fairing build to enable these fast rebuilds"
   ]
  },
  {
   "cell_type": "code",
   "execution_count": 36,
   "metadata": {},
   "outputs": [],
   "source": [
    "# TODO(https://github.com/kubeflow/fairing/issues/426): We should get rid of this once the default \n",
    "# Kaniko image is updated to a newer image than 0.7.0.\n",
    "from kubeflow.fairing import constants\n",
    "constants.constants.KANIKO_IMAGE = \"gcr.io/kaniko-project/executor:v0.14.0\""
   ]
  },
  {
   "cell_type": "code",
   "execution_count": 37,
   "metadata": {},
   "outputs": [
    {
     "name": "stderr",
     "output_type": "stream",
     "text": [
      "Converting build-train-deploy.ipynb to build-train-deploy.py\n",
      "Creating entry point for the class name ModelServe\n"
     ]
    },
    {
     "data": {
      "text/plain": [
       "[PosixPath('build-train-deploy.py'), 'xgboost_util.py', 'mockup-model.dat']"
      ]
     },
     "execution_count": 37,
     "metadata": {},
     "output_type": "execute_result"
    }
   ],
   "source": [
    "from kubeflow.fairing.builders import cluster\n",
    "\n",
    "# output_map is a map of extra files to add to the notebook.\n",
    "# It is a map from source location to the location inside the context.\n",
    "output_map =  {\n",
    "    \"Dockerfile\": \"Dockerfile\",\n",
    "    \"requirements.txt\": \"requirements.txt\",\n",
    "}\n",
    "\n",
    "\n",
    "preprocessor = ConvertNotebookPreprocessorWithFire(class_name='ModelServe', notebook_file='build-train-deploy.ipynb',\n",
    "                                                   output_map=output_map)\n",
    "\n",
    "if not preprocessor.input_files:\n",
    "    preprocessor.input_files = set()\n",
    "input_files=[\"xgboost_util.py\", \"mockup-model.dat\"]\n",
    "preprocessor.input_files =  set([os.path.normpath(f) for f in input_files])\n",
    "preprocessor.preprocess()"
   ]
  },
  {
   "cell_type": "markdown",
   "metadata": {},
   "source": [
    "### Build the base image\n",
    "\n",
    "* You use cluster_builder to build the base image\n",
    "* You only need to perform this again if we change our Docker image or the dependencies we need to install\n",
    "* ClusterBuilder takes as input the DockerImage to use as a base image\n",
    "* You should use the same Jupyter image that you are using for your notebook server so that your environment will be\n",
    "  the same when you launch Kubernetes jobs"
   ]
  },
  {
   "cell_type": "code",
   "execution_count": 39,
   "metadata": {
    "scrolled": true
   },
   "outputs": [
    {
     "name": "stderr",
     "output_type": "stream",
     "text": [
      "Building image using cluster builder.\n",
      "Creating docker context: /tmp/fairing_context_wftfwzxl\n",
      "Converting build-train-deploy.ipynb to build-train-deploy.py\n",
      "Creating entry point for the class name ModelServe\n",
      "build-train-deploy.py already exists in Fairing context, skipping...\n",
      "Waiting for fairing-builder-cv87w-2spns to start...\n",
      "Waiting for fairing-builder-cv87w-2spns to start...\n",
      "Waiting for fairing-builder-cv87w-2spns to start...\n",
      "Pod started running True\n"
     ]
    },
    {
     "name": "stdout",
     "output_type": "stream",
     "text": [
      "ERROR: logging before flag.Parse: E1123 02:59:34.511477       1 metadata.go:241] Failed to unmarshal scopes: invalid character 'h' looking for beginning of value\n",
      "\u001b[36mINFO\u001b[0m[0001] Resolved base name gcr.io/kubeflow-images-public/tensorflow-1.14.0-notebook-cpu:v0.7.0 to gcr.io/kubeflow-images-public/tensorflow-1.14.0-notebook-cpu:v0.7.0\n",
      "\u001b[36mINFO\u001b[0m[0001] Resolved base name gcr.io/kubeflow-images-public/tensorflow-1.14.0-notebook-cpu:v0.7.0 to gcr.io/kubeflow-images-public/tensorflow-1.14.0-notebook-cpu:v0.7.0\n",
      "\u001b[36mINFO\u001b[0m[0001] Downloading base image gcr.io/kubeflow-images-public/tensorflow-1.14.0-notebook-cpu:v0.7.0\n",
      "\u001b[36mINFO\u001b[0m[0001] Error while retrieving image from cache: getting file info: stat /cache/sha256:fe174faf7c477bc3dae796b067d98ac3f0d31e8075007a1146f86d13f2c98e13: no such file or directory\n",
      "\u001b[36mINFO\u001b[0m[0001] Downloading base image gcr.io/kubeflow-images-public/tensorflow-1.14.0-notebook-cpu:v0.7.0\n",
      "\u001b[36mINFO\u001b[0m[0001] Built cross stage deps: map[]\n",
      "\u001b[36mINFO\u001b[0m[0001] Downloading base image gcr.io/kubeflow-images-public/tensorflow-1.14.0-notebook-cpu:v0.7.0\n",
      "\u001b[36mINFO\u001b[0m[0002] Error while retrieving image from cache: getting file info: stat /cache/sha256:fe174faf7c477bc3dae796b067d98ac3f0d31e8075007a1146f86d13f2c98e13: no such file or directory\n",
      "\u001b[36mINFO\u001b[0m[0002] Downloading base image gcr.io/kubeflow-images-public/tensorflow-1.14.0-notebook-cpu:v0.7.0\n",
      "\u001b[36mINFO\u001b[0m[0002] Using files from context: [/kaniko/buildcontext/requirements.txt]\n",
      "\u001b[36mINFO\u001b[0m[0002] Checking for cached layer gcr.io/jlewi-dev/fairing-job/fairing-job/cache:1e93fb3c6e9fb31f759df8ad76e18f56b8fae0254e0fe5cf11321e51f9b030ee...\n",
      "\u001b[36mINFO\u001b[0m[0002] Using caching version of cmd: COPY requirements.txt .\n",
      "\u001b[36mINFO\u001b[0m[0002] cmd: USER\n",
      "\u001b[36mINFO\u001b[0m[0002] Checking for cached layer gcr.io/jlewi-dev/fairing-job/fairing-job/cache:c26e11919b866ba3ac64422b83344dfb96719a5932c2525ef30e4d9f6390f094...\n",
      "\u001b[36mINFO\u001b[0m[0002] No cached layer found for cmd RUN pip3 --no-cache-dir install -r requirements.txt\n",
      "\u001b[36mINFO\u001b[0m[0002] Unpacking rootfs as cmd RUN pip3 --no-cache-dir install -r requirements.txt requires it.\n",
      "\u001b[36mINFO\u001b[0m[0055] Taking snapshot of full filesystem...\n",
      "\u001b[36mINFO\u001b[0m[0082] COPY requirements.txt .\n",
      "\u001b[36mINFO\u001b[0m[0082] Found cached layer, extracting to filesystem\n",
      "\u001b[36mINFO\u001b[0m[0082] extractedFiles: [/tf/requirements.txt / /tf]\n",
      "\u001b[36mINFO\u001b[0m[0082] Taking snapshot of files...\n",
      "\u001b[36mINFO\u001b[0m[0082] USER root\n",
      "\u001b[36mINFO\u001b[0m[0082] cmd: USER\n",
      "\u001b[36mINFO\u001b[0m[0082] No files changed in this command, skipping snapshotting.\n",
      "\u001b[36mINFO\u001b[0m[0082] RUN pip3 --no-cache-dir install -r requirements.txt\n",
      "\u001b[36mINFO\u001b[0m[0082] cmd: /bin/bash\n",
      "\u001b[36mINFO\u001b[0m[0082] args: [-c pip3 --no-cache-dir install -r requirements.txt]\n",
      "Collecting fire (from -r requirements.txt (line 1))\n",
      "  Downloading https://files.pythonhosted.org/packages/d9/69/faeaae8687f4de0f5973694d02e9d6c3eb827636a009157352d98de1129e/fire-0.2.1.tar.gz (76kB)\n",
      "Collecting gitpython (from -r requirements.txt (line 2))\n",
      "  Downloading https://files.pythonhosted.org/packages/20/8c/4543981439d23c4ff65b2e62dddd767ebc84a8e664a9b67e840d1e2730d3/GitPython-3.0.5-py3-none-any.whl (455kB)\n",
      "Requirement already satisfied: google-cloud-storage in /usr/local/lib/python3.6/dist-packages (from -r requirements.txt (line 3)) (1.20.0)\n",
      "Collecting joblib (from -r requirements.txt (line 4))\n",
      "  Downloading https://files.pythonhosted.org/packages/8f/42/155696f85f344c066e17af287359c9786b436b1bf86029bb3411283274f3/joblib-0.14.0-py2.py3-none-any.whl (294kB)\n",
      "Collecting kubeflow-metadata (from -r requirements.txt (line 5))\n",
      "  Downloading https://files.pythonhosted.org/packages/43/b4/3fa3c1a88b8c52695b33acd09189dda8c84ea582acbfd07a1d46f085828c/kubeflow_metadata-0.2.0-py3-none-any.whl (69kB)\n",
      "Requirement already satisfied: numpy in /usr/local/lib/python3.6/dist-packages (from -r requirements.txt (line 6)) (1.16.4)\n",
      "Collecting pandas (from -r requirements.txt (line 7))\n",
      "  Downloading https://files.pythonhosted.org/packages/52/3f/f6a428599e0d4497e1595030965b5ba455fd8ade6e977e3c819973c4b41d/pandas-0.25.3-cp36-cp36m-manylinux1_x86_64.whl (10.4MB)\n",
      "Collecting retrying (from -r requirements.txt (line 8))\n",
      "  Downloading https://files.pythonhosted.org/packages/44/ef/beae4b4ef80902f22e3af073397f079c96969c69b2c7d52a57ea9ae61c9d/retrying-1.3.3.tar.gz\n",
      "Collecting seldon-core (from -r requirements.txt (line 9))\n",
      "  Downloading https://files.pythonhosted.org/packages/a7/5e/a55ff47468cc11aac0136b84af92a15133947d4dba75774ce439078d60d9/seldon_core-0.5.1-py3-none-any.whl (60kB)\n",
      "Collecting sklearn (from -r requirements.txt (line 10))\n",
      "  Downloading https://files.pythonhosted.org/packages/1e/7a/dbb3be0ce9bd5c8b7e3d87328e79063f8b263b2b1bfa4774cb1147bfcd3f/sklearn-0.0.tar.gz\n",
      "Requirement already satisfied: xgboost in /usr/local/lib/python3.6/dist-packages (from -r requirements.txt (line 11)) (0.90)\n",
      "Collecting tornado>=6.0.3 (from -r requirements.txt (line 12))\n",
      "  Downloading https://files.pythonhosted.org/packages/30/78/2d2823598496127b21423baffaa186b668f73cd91887fcef78b6eade136b/tornado-6.0.3.tar.gz (482kB)\n",
      "Requirement already satisfied: six in /usr/lib/python3/dist-packages (from fire->-r requirements.txt (line 1)) (1.11.0)\n",
      "Requirement already satisfied: termcolor in /usr/local/lib/python3.6/dist-packages (from fire->-r requirements.txt (line 1)) (1.1.0)\n",
      "Collecting gitdb2>=2.0.0 (from gitpython->-r requirements.txt (line 2))\n",
      "  Downloading https://files.pythonhosted.org/packages/03/6c/99296f89bad2ef85626e1df9f677acbee8885bb043ad82ad3ed4746d2325/gitdb2-2.0.6-py2.py3-none-any.whl (63kB)\n",
      "Requirement already satisfied: google-cloud-core<2.0dev,>=1.0.3 in /usr/local/lib/python3.6/dist-packages (from google-cloud-storage->-r requirements.txt (line 3)) (1.0.3)\n",
      "Requirement already satisfied: google-auth>=1.2.0 in /usr/local/lib/python3.6/dist-packages (from google-cloud-storage->-r requirements.txt (line 3)) (1.6.3)\n",
      "Requirement already satisfied: google-resumable-media!=0.4.0,<0.5dev,>=0.3.1 in /usr/local/lib/python3.6/dist-packages (from google-cloud-storage->-r requirements.txt (line 3)) (0.4.1)\n",
      "Requirement already satisfied: pytz>=2017.2 in /usr/local/lib/python3.6/dist-packages (from pandas->-r requirements.txt (line 7)) (2019.2)\n",
      "Requirement already satisfied: python-dateutil>=2.6.1 in /usr/local/lib/python3.6/dist-packages (from pandas->-r requirements.txt (line 7)) (2.8.0)\n",
      "Collecting jaeger-client<4.2.0,>=4.1.0 (from seldon-core->-r requirements.txt (line 9))\n",
      "  Downloading https://files.pythonhosted.org/packages/f1/da/569a4f1bc3d0c412c7f903053f09ef62fa10949374ca90bc852b22dd3860/jaeger-client-4.1.0.tar.gz (80kB)\n",
      "Collecting pyaml<20.0.0 (from seldon-core->-r requirements.txt (line 9))\n",
      "  Downloading https://files.pythonhosted.org/packages/33/1a/936074f3492156693fc9e471269fc5747fa3b7d9d7f8a33af054f6b24066/pyaml-19.4.1-py2.py3-none-any.whl\n",
      "Collecting flatbuffers<2.0.0 (from seldon-core->-r requirements.txt (line 9))\n",
      "  Downloading https://files.pythonhosted.org/packages/c9/84/adf5837f96c39990bc55afdfddf460b38b4562f50341359afa32e4a98de7/flatbuffers-1.11-py2.py3-none-any.whl\n",
      "Collecting Flask<2.0.0 (from seldon-core->-r requirements.txt (line 9))\n",
      "  Downloading https://files.pythonhosted.org/packages/9b/93/628509b8d5dc749656a9641f4caf13540e2cdec85276964ff8f43bbb1d3b/Flask-1.1.1-py2.py3-none-any.whl (94kB)\n",
      "Collecting Flask-cors<4.0.0 (from seldon-core->-r requirements.txt (line 9))\n",
      "  Downloading https://files.pythonhosted.org/packages/78/38/e68b11daa5d613e3a91e4bf3da76c94ac9ee0d9cd515af9c1ab80d36f709/Flask_Cors-3.0.8-py2.py3-none-any.whl\n",
      "Collecting opentracing<2.3.0,>=2.2.0 (from seldon-core->-r requirements.txt (line 9))\n",
      "  Downloading https://files.pythonhosted.org/packages/94/9f/289424136addf621fb4c75624ef9a3a80e8575da3993a87950c57e93217e/opentracing-2.2.0.tar.gz (47kB)\n",
      "Requirement already satisfied: grpcio<2.0.0 in /usr/local/lib/python3.6/dist-packages (from seldon-core->-r requirements.txt (line 9)) (1.21.1)\n",
      "Collecting azure-storage-blob<3.0.0,>=2.0.1 (from seldon-core->-r requirements.txt (line 9))\n",
      "  Downloading https://files.pythonhosted.org/packages/3e/84/610f379b46d7d3c2d48eadeed6a12b6d46a43100fea70534f5992d0ac996/azure_storage_blob-2.1.0-py2.py3-none-any.whl (88kB)\n",
      "Requirement already satisfied: protobuf<4.0.0 in /usr/local/lib/python3.6/dist-packages (from seldon-core->-r requirements.txt (line 9)) (3.8.0)\n",
      "Requirement already satisfied: setuptools>=41.0.0 in /usr/local/lib/python3.6/dist-packages (from seldon-core->-r requirements.txt (line 9)) (41.0.1)\n",
      "Requirement already satisfied: requests<3.0.0 in /usr/local/lib/python3.6/dist-packages (from seldon-core->-r requirements.txt (line 9)) (2.22.0)\n",
      "Collecting grpcio-opentracing<1.2.0,>=1.1.4 (from seldon-core->-r requirements.txt (line 9))\n",
      "  Downloading https://files.pythonhosted.org/packages/db/82/2fcad380697c3dab25de76ee590bcab3eb9bbfb4add916044d7e83ec2b10/grpcio_opentracing-1.1.4-py3-none-any.whl\n",
      "Collecting minio<6.0.0,>=4.0.9 (from seldon-core->-r requirements.txt (line 9))\n",
      "  Downloading https://files.pythonhosted.org/packages/14/46/60bff78df1b112cc50f95c5ffb2e14aaf9aa279a5219845b55c56f214383/minio-5.0.5-py2.py3-none-any.whl (62kB)\n",
      "Collecting gunicorn<20.1.0,>=19.9.0 (from seldon-core->-r requirements.txt (line 9))\n",
      "  Downloading https://files.pythonhosted.org/packages/60/0d/3dbda0324f5bf007f3274e5ea09f0f3bcbf0ca01a75b80ff4f1ff9f8ecfd/gunicorn-20.0.0-py2.py3-none-any.whl (77kB)\n",
      "Collecting Flask-OpenTracing<1.2.0,>=1.1.0 (from seldon-core->-r requirements.txt (line 9))\n",
      "  Downloading https://files.pythonhosted.org/packages/58/6c/6417701ba5ecc8854670c6db3207bcc3e5fbc96289a7cb18d5516d99a1c6/Flask-OpenTracing-1.1.0.tar.gz\n",
      "Collecting redis<4.0.0 (from seldon-core->-r requirements.txt (line 9))\n",
      "  Downloading https://files.pythonhosted.org/packages/32/ae/28613a62eea0d53d3db3147f8715f90da07667e99baeedf1010eb400f8c0/redis-3.3.11-py2.py3-none-any.whl (66kB)\n",
      "Collecting scikit-learn (from sklearn->-r requirements.txt (line 10))\n",
      "  Downloading https://files.pythonhosted.org/packages/a0/c5/d2238762d780dde84a20b8c761f563fe882b88c5a5fb03c056547c442a19/scikit_learn-0.21.3-cp36-cp36m-manylinux1_x86_64.whl (6.7MB)\n",
      "Requirement already satisfied: scipy in /usr/local/lib/python3.6/dist-packages (from xgboost->-r requirements.txt (line 11)) (1.3.1)\n",
      "Collecting smmap2>=2.0.0 (from gitdb2>=2.0.0->gitpython->-r requirements.txt (line 2))\n",
      "  Downloading https://files.pythonhosted.org/packages/55/d2/866d45e3a121ee15a1dc013824d58072fd5c7799c9c34d01378eb262ca8f/smmap2-2.0.5-py2.py3-none-any.whl\n",
      "Requirement already satisfied: google-api-core<2.0.0dev,>=1.14.0 in /usr/local/lib/python3.6/dist-packages (from google-cloud-core<2.0dev,>=1.0.3->google-cloud-storage->-r requirements.txt (line 3)) (1.14.2)\n",
      "Requirement already satisfied: cachetools>=2.0.0 in /usr/local/lib/python3.6/dist-packages (from google-auth>=1.2.0->google-cloud-storage->-r requirements.txt (line 3)) (3.1.1)\n",
      "Requirement already satisfied: pyasn1-modules>=0.2.1 in /usr/local/lib/python3.6/dist-packages (from google-auth>=1.2.0->google-cloud-storage->-r requirements.txt (line 3)) (0.2.6)\n",
      "Requirement already satisfied: rsa>=3.1.4 in /usr/local/lib/python3.6/dist-packages (from google-auth>=1.2.0->google-cloud-storage->-r requirements.txt (line 3)) (4.0)\n",
      "Collecting threadloop<2,>=1 (from jaeger-client<4.2.0,>=4.1.0->seldon-core->-r requirements.txt (line 9))\n",
      "  Downloading https://files.pythonhosted.org/packages/d3/1d/8398c1645b97dc008d3c658e04beda01ede3d90943d40c8d56863cf891bd/threadloop-1.0.2.tar.gz\n",
      "Collecting thrift (from jaeger-client<4.2.0,>=4.1.0->seldon-core->-r requirements.txt (line 9))\n",
      "  Downloading https://files.pythonhosted.org/packages/97/1e/3284d19d7be99305eda145b8aa46b0c33244e4a496ec66440dac19f8274d/thrift-0.13.0.tar.gz (59kB)\n",
      "Requirement already satisfied: PyYAML in /usr/local/lib/python3.6/dist-packages (from pyaml<20.0.0->seldon-core->-r requirements.txt (line 9)) (5.1.2)\n",
      "Collecting itsdangerous>=0.24 (from Flask<2.0.0->seldon-core->-r requirements.txt (line 9))\n",
      "  Downloading https://files.pythonhosted.org/packages/76/ae/44b03b253d6fade317f32c24d100b3b35c2239807046a4c953c7b89fa49e/itsdangerous-1.1.0-py2.py3-none-any.whl\n",
      "Requirement already satisfied: click>=5.1 in /usr/local/lib/python3.6/dist-packages (from Flask<2.0.0->seldon-core->-r requirements.txt (line 9)) (7.0)\n",
      "Requirement already satisfied: Werkzeug>=0.15 in /usr/local/lib/python3.6/dist-packages (from Flask<2.0.0->seldon-core->-r requirements.txt (line 9)) (0.15.4)\n",
      "Requirement already satisfied: Jinja2>=2.10.1 in /usr/local/lib/python3.6/dist-packages (from Flask<2.0.0->seldon-core->-r requirements.txt (line 9)) (2.10.1)\n",
      "Collecting azure-storage-common~=2.1 (from azure-storage-blob<3.0.0,>=2.0.1->seldon-core->-r requirements.txt (line 9))\n",
      "  Downloading https://files.pythonhosted.org/packages/6b/a0/6794b318ce0118d1a4053bdf0149a60807407db9b710354f2b203c2f5975/azure_storage_common-2.1.0-py2.py3-none-any.whl (47kB)\n",
      "Collecting azure-common>=1.1.5 (from azure-storage-blob<3.0.0,>=2.0.1->seldon-core->-r requirements.txt (line 9))\n",
      "  Downloading https://files.pythonhosted.org/packages/00/55/a703923c12cd3172d5c007beda0c1a34342a17a6a72779f8a7c269af0cd6/azure_common-1.1.23-py2.py3-none-any.whl\n",
      "Requirement already satisfied: certifi>=2017.4.17 in /usr/local/lib/python3.6/dist-packages (from requests<3.0.0->seldon-core->-r requirements.txt (line 9)) (2019.9.11)\n",
      "Requirement already satisfied: idna<2.9,>=2.5 in /usr/lib/python3/dist-packages (from requests<3.0.0->seldon-core->-r requirements.txt (line 9)) (2.6)\n",
      "Requirement already satisfied: urllib3!=1.25.0,!=1.25.1,<1.26,>=1.21.1 in /usr/local/lib/python3.6/dist-packages (from requests<3.0.0->seldon-core->-r requirements.txt (line 9)) (1.24.3)\n",
      "Requirement already satisfied: chardet<3.1.0,>=3.0.2 in /usr/local/lib/python3.6/dist-packages (from requests<3.0.0->seldon-core->-r requirements.txt (line 9)) (3.0.4)\n",
      "Requirement already satisfied: googleapis-common-protos<2.0dev,>=1.6.0 in /usr/local/lib/python3.6/dist-packages (from google-api-core<2.0.0dev,>=1.14.0->google-cloud-core<2.0dev,>=1.0.3->google-cloud-storage->-r requirements.txt (line 3)) (1.6.0)\n",
      "Requirement already satisfied: pyasn1<0.5.0,>=0.4.6 in /usr/local/lib/python3.6/dist-packages (from pyasn1-modules>=0.2.1->google-auth>=1.2.0->google-cloud-storage->-r requirements.txt (line 3)) (0.4.7)\n",
      "Requirement already satisfied: MarkupSafe>=0.23 in /usr/local/lib/python3.6/dist-packages (from Jinja2>=2.10.1->Flask<2.0.0->seldon-core->-r requirements.txt (line 9)) (1.1.1)\n",
      "Requirement already satisfied: cryptography in /usr/local/lib/python3.6/dist-packages (from azure-storage-common~=2.1->azure-storage-blob<3.0.0,>=2.0.1->seldon-core->-r requirements.txt (line 9)) (2.7)\n",
      "Requirement already satisfied: asn1crypto>=0.21.0 in /usr/lib/python3/dist-packages (from cryptography->azure-storage-common~=2.1->azure-storage-blob<3.0.0,>=2.0.1->seldon-core->-r requirements.txt (line 9)) (0.24.0)\n",
      "Requirement already satisfied: cffi!=1.11.3,>=1.8 in /usr/local/lib/python3.6/dist-packages (from cryptography->azure-storage-common~=2.1->azure-storage-blob<3.0.0,>=2.0.1->seldon-core->-r requirements.txt (line 9)) (1.12.3)\n",
      "Requirement already satisfied: pycparser in /usr/local/lib/python3.6/dist-packages (from cffi!=1.11.3,>=1.8->cryptography->azure-storage-common~=2.1->azure-storage-blob<3.0.0,>=2.0.1->seldon-core->-r requirements.txt (line 9)) (2.19)\n",
      "Building wheels for collected packages: fire, retrying, sklearn, tornado, jaeger-client, opentracing, Flask-OpenTracing, threadloop, thrift\n",
      "  Building wheel for fire (setup.py): started\n",
      "  Building wheel for fire (setup.py): finished with status 'done'\n",
      "  Stored in directory: /tmp/pip-ephem-wheel-cache-ptzf3v40/wheels/31/9c/c0/07b6dc7faf1844bb4688f46b569efe6cafaa2179c95db821da\n",
      "  Building wheel for retrying (setup.py): started\n",
      "  Building wheel for retrying (setup.py): finished with status 'done'\n",
      "  Stored in directory: /tmp/pip-ephem-wheel-cache-ptzf3v40/wheels/d7/a9/33/acc7b709e2a35caa7d4cae442f6fe6fbf2c43f80823d46460c\n",
      "  Building wheel for sklearn (setup.py): started\n",
      "  Building wheel for sklearn (setup.py): finished with status 'done'\n",
      "  Stored in directory: /tmp/pip-ephem-wheel-cache-ptzf3v40/wheels/76/03/bb/589d421d27431bcd2c6da284d5f2286c8e3b2ea3cf1594c074\n",
      "  Building wheel for tornado (setup.py): started\n",
      "  Building wheel for tornado (setup.py): finished with status 'done'\n",
      "  Stored in directory: /tmp/pip-ephem-wheel-cache-ptzf3v40/wheels/84/bf/40/2f6ef700f48401ca40e5e3dd7d0e3c0a90e064897b7fe5fc08\n",
      "  Building wheel for jaeger-client (setup.py): started\n",
      "  Building wheel for jaeger-client (setup.py): finished with status 'done'\n",
      "  Stored in directory: /tmp/pip-ephem-wheel-cache-ptzf3v40/wheels/f2/84/7f/e89da3ee8ce35598d6382b6389fa2ada5d66acca2422537994\n",
      "  Building wheel for opentracing (setup.py): started\n",
      "  Building wheel for opentracing (setup.py): finished with status 'done'\n",
      "  Stored in directory: /tmp/pip-ephem-wheel-cache-ptzf3v40/wheels/93/e9/b5/1cdc3544f99a54caca13832b5afa26fd98701fe709dc049576\n",
      "  Building wheel for Flask-OpenTracing (setup.py): started\n",
      "  Building wheel for Flask-OpenTracing (setup.py): finished with status 'done'\n",
      "  Stored in directory: /tmp/pip-ephem-wheel-cache-ptzf3v40/wheels/7b/dc/25/3cf0b35c129232ee596c413f13d1d1f5a8e38c427266276dfd\n",
      "  Building wheel for threadloop (setup.py): started\n",
      "  Building wheel for threadloop (setup.py): finished with status 'done'\n",
      "  Stored in directory: /tmp/pip-ephem-wheel-cache-ptzf3v40/wheels/d7/7a/30/d212623a4cd34f6cce400f8122b1b7af740d3440c68023d51f\n",
      "  Building wheel for thrift (setup.py): started\n",
      "  Building wheel for thrift (setup.py): finished with status 'done'\n",
      "  Stored in directory: /tmp/pip-ephem-wheel-cache-ptzf3v40/wheels/02/a2/46/689ccfcf40155c23edc7cdbd9de488611c8fdf49ff34b1706e\n",
      "Successfully built fire retrying sklearn tornado jaeger-client opentracing Flask-OpenTracing threadloop thrift\n",
      "ERROR: fairing 0.5 has requirement tornado<6.0.0,>=5.1.1, but you'll have tornado 6.0.3 which is incompatible.\n",
      "ERROR: jaeger-client 4.1.0 has requirement tornado<6,>=4.3, but you'll have tornado 6.0.3 which is incompatible.\n",
      "Installing collected packages: fire, smmap2, gitdb2, gitpython, joblib, kubeflow-metadata, pandas, retrying, tornado, threadloop, thrift, opentracing, jaeger-client, pyaml, flatbuffers, itsdangerous, Flask, Flask-cors, azure-common, azure-storage-common, azure-storage-blob, grpcio-opentracing, minio, gunicorn, Flask-OpenTracing, redis, seldon-core, scikit-learn, sklearn\n",
      "  Found existing installation: tornado 5.1.1\n",
      "    Uninstalling tornado-5.1.1:\n",
      "      Successfully uninstalled tornado-5.1.1\n",
      "Successfully installed Flask-1.1.1 Flask-OpenTracing-1.1.0 Flask-cors-3.0.8 azure-common-1.1.23 azure-storage-blob-2.1.0 azure-storage-common-2.1.0 fire-0.2.1 flatbuffers-1.11 gitdb2-2.0.6 gitpython-3.0.5 grpcio-opentracing-1.1.4 gunicorn-20.0.0 itsdangerous-1.1.0 jaeger-client-4.1.0 joblib-0.14.0 kubeflow-metadata-0.2.0 minio-5.0.5 opentracing-2.2.0 pandas-0.25.3 pyaml-19.4.1 redis-3.3.11 retrying-1.3.3 scikit-learn-0.21.3 seldon-core-0.5.1 sklearn-0.0 smmap2-2.0.5 threadloop-1.0.2 thrift-0.13.0 tornado-6.0.3\n",
      "WARNING: You are using pip version 19.1.1, however version 19.3.1 is available.\n",
      "You should consider upgrading via the 'pip install --upgrade pip' command.\n",
      "\u001b[36mINFO\u001b[0m[0106] Taking snapshot of full filesystem...\n",
      "\u001b[36mINFO\u001b[0m[0108] Adding whiteout for /usr/local/lib/python3.6/dist-packages/tornado/platform/epoll.py\n",
      "\u001b[36mINFO\u001b[0m[0108] Adding whiteout for /usr/local/lib/python3.6/dist-packages/tornado/platform/__pycache__/common.cpython-36.pyc\n",
      "\u001b[36mINFO\u001b[0m[0108] Adding whiteout for /usr/local/lib/python3.6/dist-packages/tornado/platform/__pycache__/epoll.cpython-36.pyc\n",
      "\u001b[36mINFO\u001b[0m[0108] Adding whiteout for /usr/local/lib/python3.6/dist-packages/tornado/test/stack_context_test.py\n",
      "\u001b[36mINFO\u001b[0m[0108] Adding whiteout for /usr/local/lib/python3.6/dist-packages/tornado/platform/common.py\n",
      "\u001b[36mINFO\u001b[0m[0108] Adding whiteout for /usr/local/lib/python3.6/dist-packages/tornado/stack_context.py\n",
      "\u001b[36mINFO\u001b[0m[0108] Adding whiteout for /usr/local/lib/python3.6/dist-packages/tornado/platform/__pycache__/kqueue.cpython-36.pyc\n",
      "\u001b[36mINFO\u001b[0m[0108] Adding whiteout for /usr/local/lib/python3.6/dist-packages/tornado-5.1.1.dist-info\n",
      "\u001b[36mINFO\u001b[0m[0108] Adding whiteout for /usr/local/lib/python3.6/dist-packages/tornado/platform/__pycache__/select.cpython-36.pyc\n",
      "\u001b[36mINFO\u001b[0m[0108] Adding whiteout for /usr/local/lib/python3.6/dist-packages/tornado/platform/select.py\n",
      "\u001b[36mINFO\u001b[0m[0108] Adding whiteout for /usr/local/lib/python3.6/dist-packages/tornado/test/__pycache__/stack_context_test.cpython-36.pyc\n",
      "\u001b[36mINFO\u001b[0m[0108] Adding whiteout for /usr/local/lib/python3.6/dist-packages/tornado/platform/kqueue.py\n",
      "\u001b[36mINFO\u001b[0m[0108] Adding whiteout for /usr/local/lib/python3.6/dist-packages/tornado/__pycache__/stack_context.cpython-36.pyc\n",
      "\u001b[36mINFO\u001b[0m[0117] Pushing layer gcr.io/jlewi-dev/fairing-job/fairing-job/cache:077aa692317a04aa37855cdc9ba46a53aadf7cc2b87b05cf52ac67544de25f28 to cache now\n",
      "\u001b[36mINFO\u001b[0m[0117] USER jovyan\n",
      "\u001b[36mINFO\u001b[0m[0117] cmd: USER\n",
      "\u001b[36mINFO\u001b[0m[0117] No files changed in this command, skipping snapshotting.\n"
     ]
    }
   ],
   "source": [
    "# Use a stock jupyter image as our base image\n",
    "# TODO(jlewi): Should we try to use the downward API to default to the image we are running in?\n",
    "base_image = \"gcr.io/kubeflow-images-public/tensorflow-1.14.0-notebook-cpu:v0.7.0\"\n",
    "# We use a custom Dockerfile \n",
    "cluster_builder = cluster.cluster.ClusterBuilder(registry=DOCKER_REGISTRY,\n",
    "                                                 base_image=base_image,\n",
    "                                                 preprocessor=preprocessor,\n",
    "                                                 dockerfile_path=\"Dockerfile\",\n",
    "                                                 pod_spec_mutators=[fairing.cloud.gcp.add_gcp_credentials_if_exists],\n",
    "                                                 context_source=cluster.gcs_context.GCSContextSource())\n",
    "cluster_builder.build()"
   ]
  },
  {
   "cell_type": "markdown",
   "metadata": {},
   "source": [
    "### Build the actual image\n",
    "\n",
    "Here you use the append builder to add your code to the base image\n",
    "\n",
    "* Calling preprocessor.preprocess() converts your notebook file to a python file\n",
    "\n",
    "  * You are using the [ConvertNotebookPreprocessorWithFire](https://github.com/kubeflow/fairing/blob/master/fairing/preprocessors/converted_notebook.py#L85) \n",
    "  * This preprocessor converts ipynb files to py files by doing the following\n",
    "    1. Removing all cells which don't have a comment `# fairing:include-cell`\n",
    "    1. Using [python-fire](https://github.com/google/python-fire) to add entry points for the class specified in the constructor \n",
    "    \n",
    "  * Call preprocess() will create the file build-train-deploy.py\n",
    "  \n",
    "* You use the AppendBuilder to rapidly build a new docker image by quickly adding some files to an existing docker image\n",
    "  * The AppendBuilder is super fast so its very convenient for rebuilding your images as you iterate on your code\n",
    "  * The AppendBuilder will add the converted notebook, build-train-deploy.py, along with any files specified in `preprocessor.input_files` to `/app` in the newly created image"
   ]
  },
  {
   "cell_type": "code",
   "execution_count": 40,
   "metadata": {
    "scrolled": true
   },
   "outputs": [
    {
     "name": "stderr",
     "output_type": "stream",
     "text": [
      "Converting build-train-deploy.ipynb to build-train-deploy.py\n",
      "Creating entry point for the class name ModelServe\n",
      "Building image using Append builder...\n",
      "Creating docker context: /tmp/fairing_context_3vpqgynl\n",
      "Converting build-train-deploy.ipynb to build-train-deploy.py\n",
      "Creating entry point for the class name ModelServe\n",
      "build-train-deploy.py already exists in Fairing context, skipping...\n",
      "build-train-deploy.py already exists in Fairing context, skipping...\n",
      "Loading Docker credentials for repository 'gcr.io/jlewi-dev/fairing-job/fairing-job:2E30A0C2'\n",
      "Invoking 'docker-credential-gcloud' to obtain Docker credentials.\n",
      "Successfully obtained Docker credentials.\n",
      "Image successfully built in 2.7950974798295647s.\n",
      "Pushing image gcr.io/jlewi-dev/fairing-job/fairing-job:7B2BFEB2...\n",
      "Loading Docker credentials for repository 'gcr.io/jlewi-dev/fairing-job/fairing-job:7B2BFEB2'\n",
      "Invoking 'docker-credential-gcloud' to obtain Docker credentials.\n",
      "Successfully obtained Docker credentials.\n",
      "Uploading gcr.io/jlewi-dev/fairing-job/fairing-job:7B2BFEB2\n",
      "Layer sha256:b054a26005b7f3b032577f811421fab5ec3b42ce45a4012dfa00cf6ed6191b0f exists, skipping\n",
      "Layer sha256:5bac0c144f6e0b7082e3691da95d3f057ee0be0735e9efca76096da59cfd1786 exists, skipping\n",
      "Layer sha256:8832e37735788665026956430021c6d1919980288c66c4526502965aeb5ac006 exists, skipping\n",
      "Layer sha256:5bd2e6f0de430cd3936eec59afb6cf466b052344fe4348ac33a48ac903b661e2 exists, skipping\n",
      "Layer sha256:91cdc88789ec02229ec02d2db06aa63f2822b14a99dcac7347f6371cc0eb42a8 exists, skipping\n",
      "Layer sha256:21a7832aeb8625dc8228ceb115a28222f87e0fbce61b2588c42a2cce7a3a63d6 exists, skipping\n",
      "Layer sha256:5b7339215d1d5f8e68622d584a224f60339f5bef41dbd74330d081e912f0cddd exists, skipping\n",
      "Layer sha256:107cba84ef3d72ed995c76c7a4f60ba5613f58b029ab7e42ac20ece99bec88b1 exists, skipping\n",
      "Layer sha256:2b940936f9933b7737cf407f2149dd7393998d7a0bee5acf1c4a57b0487cef79 exists, skipping\n",
      "Layer sha256:5bd1cb59702536c10e96bb14e54846922c9b257580d4e2c733076a922525240b exists, skipping\n",
      "Layer sha256:777cec03b3e23c21f8cf78f07812cc83dd7f352719226f27f361c5b706f6a93f exists, skipping\n",
      "Layer sha256:92d24c89f5bc70958385728755b042a5a45bddf2f997de80e84d1161f43ba316 exists, skipping\n",
      "Layer sha256:76d749fc66f5ba383a84ff991793a748273d262be3abdb5f2d196d94f2d6800b exists, skipping\n",
      "Layer sha256:4b9d9f2fa2a2b168f0a49fcd3074c885ab1ca2c507848f7b2e3cee8104f1f7c3 exists, skipping\n",
      "Layer sha256:35daced67e5901b8de4a92bca9fdc67c8593d400aae483591987442f54c87d0a exists, skipping\n",
      "Layer sha256:f44c204b040238da05a21af1fd8543ea95f1e9249fac34b3b65217e38815568d exists, skipping\n",
      "Layer sha256:a31c3b1caad473a474d574283741f880e37c708cc06ee620d3e93fa602125ee0 exists, skipping\n",
      "Layer sha256:9269cef1ab8b202433fe1dfbfbdf4649926d70d7a8b94f0324421bda79b917fa exists, skipping\n",
      "Layer sha256:016724bbd2c9643f24eff7c1e86d9202d7c04caddd7fdd4375a77e3998ce8203 exists, skipping\n",
      "Layer sha256:e3ab47ad84d9e11c5fad45791ce00ec5b5f3b7f1ae61a5fab17eb44c399d910f exists, skipping\n",
      "Layer sha256:21640f54008ccbfc0d100246633f8e6f18f918a0566561f61aebbda785321e56 exists, skipping\n",
      "Layer sha256:96685dce34a0d24bf69741972441398cffbed89aed4f40e3c063176c59a3c81c exists, skipping\n",
      "Layer sha256:daa5c419d33d51d1730ea530f4f7335640f5bb42856f319c63a1a521aee368c1 exists, skipping\n",
      "Layer sha256:14ca88e9f6723ce82bc14b241cda8634f6d19677184691d086662641ab96fe68 exists, skipping\n",
      "Layer sha256:68543864d6442a851eaff0500161b92e4a151051cf7ed2649b3790a3f876bada exists, skipping\n",
      "Layer sha256:5e671b828b2af02924968841e5d12084fa78e8722e9510402aaee80dc5d7a6db exists, skipping\n",
      "Layer sha256:7babe47a4c402afbe26f10dffceb85be7bfd2072a96b816814503f41ce9c5273 exists, skipping\n",
      "Layer sha256:b4ecb6928817c974946ba93ffc5ce60de886457eb57955dae9d7bc8facfb690a exists, skipping\n",
      "Layer sha256:d684674aa1a4d080be26286fd9356f573b80d2448599392e3dcf3c61ce98a0f0 exists, skipping\n",
      "Layer sha256:b5494e32d0131350be270a54399cee65934e90d3c2df87a83757903e627813b2 exists, skipping\n",
      "Layer sha256:01ad04a655b291ed8502f23f5b8c73d94475763e9b3cdbf6d1107f7879aadac6 exists, skipping\n",
      "Layer sha256:330a9002e0b4aa1e27d3628dd3f02ff9a39d25745b8f2f219b06e3725153ffc0 exists, skipping\n",
      "Layer sha256:4e8a6b90828e0d339f646d723df8720ffa17c0ffb905f8f009faf1be320ab5d9 exists, skipping\n",
      "Layer sha256:dc2840b4417186d66a29d64a039ac164be95929211d808294d36acae9301fc6b exists, skipping\n",
      "Layer sha256:823f4685c03b26a545ca41dcdca1e782ad5e52cf85bac03113edaa6aebdca1b3 exists, skipping\n",
      "Layer sha256:7562167c5dcdb43737bd3357d5c5a52e001391347b03925a6402598914fcffdb pushed.\n",
      "Layer sha256:a5c335d464c4daa25a1c86a561f4866a4e96486e6e3b78e9de5140d97f78c354 pushed.\n",
      "Finished upload of: gcr.io/jlewi-dev/fairing-job/fairing-job:7B2BFEB2\n",
      "Pushed image gcr.io/jlewi-dev/fairing-job/fairing-job:7B2BFEB2 in 3.3867790100630373s.\n"
     ]
    }
   ],
   "source": [
    "preprocessor.preprocess()\n",
    "\n",
    "builder = append.append.AppendBuilder(registry=DOCKER_REGISTRY,\n",
    "                                      base_image=cluster_builder.image_tag, preprocessor=preprocessor)\n",
    "builder.build()\n"
   ]
  },
  {
   "cell_type": "markdown",
   "metadata": {},
   "source": [
    "## Launch the K8s Job\n",
    "\n",
    "* You can use kubeflow fairing to easily launch a [Kubernetes job](https://kubernetes.io/docs/concepts/workloads/controllers/jobs-run-to-completion/) to invoke code\n",
    "* You use fairings Kubernetes job library to build a Kubernetes job\n",
    "  * You use pod mutators to attach GCP credentials to the pod\n",
    "  * You can also use pod mutators to attch PVCs\n",
    "* Since the [ConvertNotebookPreprocessorWithFire](https://github.com/kubeflow/fairing/blob/master/fairing/preprocessors/converted_notebook.py#L85) is using [python-fire](https://github.com/google/python-fire) you can easily invoke any method inside the ModelServe class just by configuring the command invoked by the Kubernetes job\n",
    "   * In the cell below you extend the command to include `train` as an argument because you want to invoke the train\n",
    "     function\n",
    "     \n",
    "**Note** When you invoke train_deployer.deploy; kubeflow fairing will stream the logs from the Kubernetes job. The job will initially show some connection errors because the job will try to connect to the metadataserver. You can ignore these errors; the job will retry until its able to connect and then continue"
   ]
  },
  {
   "cell_type": "code",
   "execution_count": null,
   "metadata": {},
   "outputs": [],
   "source": [
    "pod_spec = builder.generate_pod_spec()\n",
    "train_deployer = job.job.Job(cleanup=False,\n",
    "                             pod_spec_mutators=[\n",
    "                             fairing.cloud.gcp.add_gcp_credentials_if_exists])\n",
    "\n",
    "# Add command line arguments\n",
    "pod_spec.containers[0].command.extend([\"train\"])\n",
    "result = train_deployer.deploy(pod_spec)"
   ]
  },
  {
   "cell_type": "markdown",
   "metadata": {},
   "source": [
    "* You can use kubectl to inspect the job that fairing created"
   ]
  },
  {
   "cell_type": "code",
   "execution_count": null,
   "metadata": {},
   "outputs": [],
   "source": [
    "!kubectl get jobs -l fairing-id={train_deployer.job_id} -o yaml"
   ]
  },
  {
   "cell_type": "markdown",
   "metadata": {},
   "source": [
    "## Deploy the trained model to Kubeflow for predictions"
   ]
  },
  {
   "cell_type": "markdown",
   "metadata": {},
   "source": [
    "* Now that you have trained a model you can use kubeflow fairing to deploy it on Kubernetes\n",
    "* When you call deployer.deploy fairing will create a [Kubernetes Deployment](https://kubernetes.io/docs/concepts/workloads/controllers/deployment/) to serve your model\n",
    "* Kubeflow fairing uses the docker image you created earlier\n",
    "* The docker image you created contains your code and [Seldon core](https://www.seldon.io/)\n",
    "* Kubeflow fairing uses Seldon to wrap your prediction code, ModelServe.predict, in a REST and gRPC server"
   ]
  },
  {
   "cell_type": "code",
   "execution_count": 53,
   "metadata": {},
   "outputs": [
    {
     "name": "stderr",
     "output_type": "stream",
     "text": [
      "Cluster endpoint: http://fairing-service-snswp.kubeflow-jlewi.svc.cluster.local:5000/predict\n"
     ]
    }
   ],
   "source": [
    "from kubeflow.fairing.deployers import serving\n",
    "pod_spec = builder.generate_pod_spec()\n",
    "\n",
    "module_name = os.path.splitext(preprocessor.executable.name)[0]\n",
    "deployer = serving.serving.Serving(module_name + \".ModelServe\",\n",
    "                                   service_type=\"ClusterIP\",\n",
    "                                   labels={\"app\": \"mockup\"})\n",
    "    \n",
    "url = deployer.deploy(pod_spec)"
   ]
  },
  {
   "cell_type": "markdown",
   "metadata": {},
   "source": [
    "* You can use kubectl to inspect the deployment that fairing created"
   ]
  },
  {
   "cell_type": "code",
   "execution_count": null,
   "metadata": {},
   "outputs": [],
   "source": [
    "!kubectl get deploy -o yaml {deployer.deployment.metadata.name}"
   ]
  },
  {
   "cell_type": "markdown",
   "metadata": {},
   "source": [
    "## Send an inference request to the prediction server\n",
    "\n",
    "* Now that you have deployed the model into your Kubernetes cluster, you can send a REST request to \n",
    "  preform inference\n",
    "* The code below reads some data, sends, a prediction request and then prints out the response"
   ]
  },
  {
   "cell_type": "code",
   "execution_count": 42,
   "metadata": {},
   "outputs": [],
   "source": [
    "(train_X, train_y), (test_X, test_y) = read_synthetic_input()\n"
   ]
  },
  {
   "cell_type": "code",
   "execution_count": 56,
   "metadata": {},
   "outputs": [
    {
     "name": "stdout",
     "output_type": "stream",
     "text": [
      "(b'{\"data\":{\"names\":[\"t:0\",\"t:1\"],\"tensor\":{\"shape\":[1,2],\"values\":[-55.4250373'\n",
      " b'840332,160.33970642089844]}},\"meta\":{}}\\n')\n"
     ]
    }
   ],
   "source": [
    "result = util.predict_nparray(url, test_X)\n",
    "pprint.pprint(result.content)"
   ]
  },
  {
   "cell_type": "markdown",
   "metadata": {},
   "source": [
    "## Clean up the prediction endpoint\n",
    "\n",
    "* You can use kubectl to delete the Kubernetes resources for your model\n",
    "* If you want to delete the resources uncomment the following lines and run them"
   ]
  },
  {
   "cell_type": "code",
   "execution_count": null,
   "metadata": {},
   "outputs": [],
   "source": [
    "# !kubectl delete service -l app=ames\n",
    "# !kubectl delete deploy -l app=ames"
   ]
  },
  {
   "cell_type": "markdown",
   "metadata": {},
   "source": [
    "## Track Models and Artifacts\n",
    "\n",
    "* Using Kubeflow's metadata server you can track models and artifacts\n",
    "* The ModelServe code was instrumented to log executions and outputs\n",
    "* You can access Kubeflow's metadata UI by selecting **Artifact Store** from the central dashboard\n",
    "  * See [here](https://www.kubeflow.org/docs/other-guides/accessing-uis/) for instructions on connecting to Kubeflow's UIs\n",
    "* You can also use the python SDK to read and write entries\n",
    "* This [notebook](https://github.com/kubeflow/metadata/blob/master/sdk/python/demo.ipynb) illustrates a bunch of metadata functionality"
   ]
  },
  {
   "cell_type": "markdown",
   "metadata": {},
   "source": [
    "### Create a workspace\n",
    "\n",
    "* Kubeflow metadata uses workspaces as a logical grouping for artifacts, executions, and datasets that belong together\n",
    "* Earlier in the notebook we defined the function `create_workspace` to create a workspace for this example\n",
    "* You can use that function to return a workspace object and then call list to see all the artifacts in that workspace"
   ]
  },
  {
   "cell_type": "code",
   "execution_count": null,
   "metadata": {},
   "outputs": [],
   "source": [
    "ws = create_workspace()\n",
    "ws.list()"
   ]
  },
  {
   "cell_type": "markdown",
   "metadata": {},
   "source": [
    "## Create a pipeline to train your model\n",
    "\n",
    "* [Kubeflow pipelines](https://www.kubeflow.org/docs/pipelines/) makes it easy to define complex workflows to build and deploy models\n",
    "* Below you will define and run a simple one step pipeline to train your model\n",
    "* Kubeflow pipelines uses experiments to group different runs of a pipeline together\n",
    "* So you start by defining a name for your experiement"
   ]
  },
  {
   "cell_type": "markdown",
   "metadata": {},
   "source": [
    "#### Define the pipeline\n",
    "\n",
    "* To create a pipeline you create a function and decorate it with the `@dsl.pipeline` decorator\n",
    "  * You use the decorator to give the pipeline a name and description\n",
    "  \n",
    "* Inside the function, each step in the function is defined by a ContainerOp that specifies\n",
    "  a container to invoke\n",
    " \n",
    "* You will use the container image that you built earlier using Kubeflow Fairing\n",
    "* Since the Kubeflow Fairing preprocessor added a main function using [python-fire](https://github.com/google/python-fire), a step in your pipeline can invocation any function in the ModelServe class just by setting the command for the container op\n",
    "* See the pipelines [SDK reference](https://kubeflow-pipelines.readthedocs.io/en/latest/) for more information"
   ]
  },
  {
   "cell_type": "code",
   "execution_count": null,
   "metadata": {},
   "outputs": [],
   "source": [
    "@dsl.pipeline(\n",
    "   name='Training pipeline',\n",
    "   description='A pipeline that trains an xgboost model for the Ames dataset.'\n",
    ")\n",
    "def train_pipeline(\n",
    "   ):      \n",
    "    command=[\"python\", preprocessor.executable.name, \"train\"]\n",
    "    train_op = dsl.ContainerOp(\n",
    "            name=\"train\", \n",
    "            image=builder.image_tag,        \n",
    "            command=command,\n",
    "            ).apply(\n",
    "                gcp.use_gcp_secret('user-gcp-sa'),\n",
    "            )\n",
    "    train_op.container.working_dir = \"/app\""
   ]
  },
  {
   "cell_type": "markdown",
   "metadata": {},
   "source": [
    "#### Compile the pipeline"
   ]
  },
  {
   "cell_type": "markdown",
   "metadata": {},
   "source": [
    "* Pipelines need to be compiled"
   ]
  },
  {
   "cell_type": "code",
   "execution_count": null,
   "metadata": {},
   "outputs": [],
   "source": [
    "pipeline_func = train_pipeline\n",
    "pipeline_filename = pipeline_func.__name__ + '.pipeline.zip'\n",
    "compiler.Compiler().compile(pipeline_func, pipeline_filename)"
   ]
  },
  {
   "cell_type": "markdown",
   "metadata": {},
   "source": [
    "#### Submit the pipeline for execution"
   ]
  },
  {
   "cell_type": "markdown",
   "metadata": {},
   "source": [
    "* Pipelines groups runs using experiments\n",
    "* So before you submit a pipeline you need to create an experiment or pick an existing experiment\n",
    "* Once you have compiled a pipeline, you can use the pipelines SDK to submit that pipeline\n"
   ]
  },
  {
   "cell_type": "code",
   "execution_count": null,
   "metadata": {},
   "outputs": [],
   "source": [
    "EXPERIMENT_NAME = 'MockupModel'\n",
    "\n",
    "#Specify pipeline argument values\n",
    "arguments = {}\n",
    "\n",
    "# Get or create an experiment and submit a pipeline run\n",
    "client = kfp.Client()\n",
    "experiment = client.create_experiment(EXPERIMENT_NAME)\n",
    "\n",
    "#Submit a pipeline run\n",
    "run_name = pipeline_func.__name__ + ' run'\n",
    "run_result = client.run_pipeline(experiment.id, run_name, pipeline_filename, arguments)\n",
    "\n",
    "#vvvvvvvvv This link leads to the run information page. (Note: There is a bug in JupyterLab that modifies the URL and makes the link stop working)"
   ]
  }
 ],
 "metadata": {
  "kernelspec": {
   "display_name": "Python 3",
   "language": "python",
   "name": "python3"
  },
  "language_info": {
   "codemirror_mode": {
    "name": "ipython",
    "version": 3
   },
   "file_extension": ".py",
   "mimetype": "text/x-python",
   "name": "python",
   "nbconvert_exporter": "python",
   "pygments_lexer": "ipython3",
   "version": "3.7.5rc1"
  }
 },
 "nbformat": 4,
 "nbformat_minor": 4
}
