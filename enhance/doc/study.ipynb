{
 "cells": [
  {
   "cell_type": "markdown",
   "metadata": {},
   "source": [
    "## [WIP] Run a collection of TFJobs as Experiments in a Study"
   ]
  },
  {
   "cell_type": "code",
   "execution_count": 2,
   "metadata": {},
   "outputs": [],
   "source": [
    "import os\n",
    "APP_ROOT=\"/home/jovyan/work/examples-enhance/enhance\"\n",
    "LAUNCHER_PATH = os.path.join(APP_ROOT, \"py\", \"launcher.py\")"
   ]
  },
  {
   "cell_type": "markdown",
   "metadata": {},
   "source": [
    "### Create a new study"
   ]
  },
  {
   "cell_type": "code",
   "execution_count": null,
   "metadata": {},
   "outputs": [],
   "source": [
    "# TODO"
   ]
  },
  {
   "cell_type": "code",
   "execution_count": 5,
   "metadata": {},
   "outputs": [],
   "source": [
    "study_id = \"foo1234\""
   ]
  },
  {
   "cell_type": "markdown",
   "metadata": {},
   "source": [
    "### Run the study in batch"
   ]
  },
  {
   "cell_type": "code",
   "execution_count": 10,
   "metadata": {},
   "outputs": [],
   "source": [
    "# Not implemented, for now just verifying the launcher interface"
   ]
  },
  {
   "cell_type": "code",
   "execution_count": 8,
   "metadata": {},
   "outputs": [
    {
     "name": "stdout",
     "output_type": "stream",
     "text": [
      "INFO:root:Parsed args: {'gcp_project': None, 'app_root': '/home/jovyan/work/examples-enhance/enhance', 'use_image': 'gcr.io/kubeflow-rl/common-base:0.0.1', 'batch': True, 'rebuild_base': False, 'volume_claim_id': 'nfs-1', 'namespace': 'kubeflow', 'mode': 'study_runner', 'study_id': 'foo1234'}\n",
      "INFO:root:Staged app workdir to /mnt/nfs-1/studies/dev/enhance-download-0326-2330-e1b1/staging\n",
      "{'_batch': True,\n",
      " '_command': ['python',\n",
      "              '/mnt/nfs-1/studies/dev/enhance-download-0326-2330-e1b1/staging/py/study.py',\n",
      "              '--study_id',\n",
      "              'foo1234'],\n",
      " 'apiVersion': 'batch/v1',\n",
      " 'kind': 'Job',\n",
      " 'metadata': {'name': 'enhance-download-0326-2330-e1b1',\n",
      "              'namespace': 'kubeflow'},\n",
      " 'spec': {'backoffLimit': 4,\n",
      "          'template': {'spec': {'containers': [{'args': ['python',\n",
      "                                                         '/mnt/nfs-1/studies/dev/enhance-download-0326-2330-e1b1/staging/py/study.py',\n",
      "                                                         '--study_id',\n",
      "                                                         'foo1234'],\n",
      "                                                'image': 'gcr.io/kubeflow-rl/common-base:0.0.1',\n",
      "                                                'name': 'container',\n",
      "                                                'volumeMounts': [{'mountPath': '/mnt/nfs-1',\n",
      "                                                                  'name': 'nfs-1'}]}],\n",
      "                                'restartPolicy': 'Never',\n",
      "                                'volumes': [{'name': 'nfs-1',\n",
      "                                             'persistentVolumeClaim': {'claimName': 'nfs-1'}}]}}}}\n",
      "{'api_version': 'batch/v1',\n",
      " 'kind': 'Job',\n",
      " 'metadata': {'annotations': None,\n",
      "              'cluster_name': None,\n",
      "              'creation_timestamp': datetime.datetime(2018, 3, 26, 23, 30, 34, tzinfo=tzlocal()),\n",
      "              'deletion_grace_period_seconds': None,\n",
      "              'deletion_timestamp': None,\n",
      "              'finalizers': None,\n",
      "              'generate_name': None,\n",
      "              'generation': None,\n",
      "              'initializers': None,\n",
      "              'labels': {'controller-uid': 'ae985a54-314d-11e8-a1bd-42010a8e00f0',\n",
      "                         'job-name': 'enhance-download-0326-2330-e1b1'},\n",
      "              'name': 'enhance-download-0326-2330-e1b1',\n",
      "              'namespace': 'kubeflow',\n",
      "              'owner_references': None,\n",
      "              'resource_version': '4004599',\n",
      "              'self_link': '/apis/batch/v1/namespaces/kubeflow/jobs/enhance-download-0326-2330-e1b1',\n",
      "              'uid': 'ae985a54-314d-11e8-a1bd-42010a8e00f0'},\n",
      " 'spec': {'active_deadline_seconds': None,\n",
      "          'backoff_limit': 4,\n",
      "          'completions': 1,\n",
      "          'manual_selector': None,\n",
      "          'parallelism': 1,\n",
      "          'selector': {'match_expressions': None,\n",
      "                       'match_labels': {'controller-uid': 'ae985a54-314d-11e8-a1bd-42010a8e00f0'}},\n",
      "          'template': {'metadata': {'annotations': None,\n",
      "                                    'cluster_name': None,\n",
      "                                    'creation_timestamp': None,\n",
      "                                    'deletion_grace_period_seconds': None,\n",
      "                                    'deletion_timestamp': None,\n",
      "                                    'finalizers': None,\n",
      "                                    'generate_name': None,\n",
      "                                    'generation': None,\n",
      "                                    'initializers': None,\n",
      "                                    'labels': {'controller-uid': 'ae985a54-314d-11e8-a1bd-42010a8e00f0',\n",
      "                                               'job-name': 'enhance-download-0326-2330-e1b1'},\n",
      "                                    'name': None,\n",
      "                                    'namespace': None,\n",
      "                                    'owner_references': None,\n",
      "                                    'resource_version': None,\n",
      "                                    'self_link': None,\n",
      "                                    'uid': None},\n",
      "                       'spec': {'active_deadline_seconds': None,\n",
      "                                'affinity': None,\n",
      "                                'automount_service_account_token': None,\n",
      "                                'containers': [{'args': ['python',\n",
      "                                                         '/mnt/nfs-1/studies/dev/enhance-download-0326-2330-e1b1/staging/py/study.py',\n",
      "                                                         '--study_id',\n",
      "                                                         'foo1234'],\n",
      "                                                'command': None,\n",
      "                                                'env': None,\n",
      "                                                'env_from': None,\n",
      "                                                'image': 'gcr.io/kubeflow-rl/common-base:0.0.1',\n",
      "                                                'image_pull_policy': 'IfNotPresent',\n",
      "                                                'lifecycle': None,\n",
      "                                                'liveness_probe': None,\n",
      "                                                'name': 'container',\n",
      "                                                'ports': None,\n",
      "                                                'readiness_probe': None,\n",
      "                                                'resources': {'limits': None,\n",
      "                                                              'requests': None},\n",
      "                                                'security_context': None,\n",
      "                                                'stdin': None,\n",
      "                                                'stdin_once': None,\n",
      "                                                'termination_message_path': '/dev/termination-log',\n",
      "                                                'termination_message_policy': 'File',\n",
      "                                                'tty': None,\n",
      "                                                'volume_devices': None,\n",
      "                                                'volume_mounts': [{'mount_path': '/mnt/nfs-1',\n",
      "                                                                   'mount_propagation': None,\n",
      "                                                                   'name': 'nfs-1',\n",
      "                                                                   'read_only': None,\n",
      "                                                                   'sub_path': None}],\n",
      "                                                'working_dir': None}],\n",
      "                                'dns_config': None,\n",
      "                                'dns_policy': 'ClusterFirst',\n",
      "                                'host_aliases': None,\n",
      "                                'host_ipc': None,\n",
      "                                'host_network': None,\n",
      "                                'host_pid': None,\n",
      "                                'hostname': None,\n",
      "                                'image_pull_secrets': None,\n",
      "                                'init_containers': None,\n",
      "                                'node_name': None,\n",
      "                                'node_selector': None,\n",
      "                                'priority': None,\n",
      "                                'priority_class_name': None,\n",
      "                                'restart_policy': 'Never',\n",
      "                                'scheduler_name': 'default-scheduler',\n",
      "                                'security_context': {'fs_group': None,\n",
      "                                                     'run_as_non_root': None,\n",
      "                                                     'run_as_user': None,\n",
      "                                                     'se_linux_options': None,\n",
      "                                                     'supplemental_groups': None},\n",
      "                                'service_account': None,\n",
      "                                'service_account_name': None,\n",
      "                                'subdomain': None,\n",
      "                                'termination_grace_period_seconds': 30,\n",
      "                                'tolerations': None,\n",
      "                                'volumes': [{'aws_elastic_block_store': None,\n",
      "                                             'azure_disk': None,\n",
      "                                             'azure_file': None,\n",
      "                                             'cephfs': None,\n",
      "                                             'cinder': None,\n",
      "                                             'config_map': None,\n",
      "                                             'downward_api': None,\n",
      "                                             'empty_dir': None,\n",
      "                                             'fc': None,\n",
      "                                             'flex_volume': None,\n",
      "                                             'flocker': None,\n",
      "                                             'gce_persistent_disk': None,\n",
      "                                             'git_repo': None,\n",
      "                                             'glusterfs': None,\n",
      "                                             'host_path': None,\n",
      "                                             'iscsi': None,\n",
      "                                             'name': 'nfs-1',\n",
      "                                             'nfs': None,\n",
      "                                             'persistent_volume_claim': {'claim_name': 'nfs-1',\n",
      "                                                                         'read_only': None},\n",
      "                                             'photon_persistent_disk': None,\n",
      "                                             'portworx_volume': None,\n",
      "                                             'projected': None,\n",
      "                                             'quobyte': None,\n",
      "                                             'rbd': None,\n",
      "                                             'scale_io': None,\n",
      "                                             'secret': None,\n",
      "                                             'storageos': None,\n",
      "                                             'vsphere_volume': None}]}}},\n",
      " 'status': {'active': None,\n",
      "            'completion_time': None,\n",
      "            'conditions': None,\n",
      "            'failed': None,\n",
      "            'start_time': None,\n",
      "            'succeeded': None}}\n",
      "INFO:root:Job enhance-download-0326-2330-e1b1 in namespace kubeflow; uid=ae985a54-314d-11e8-a1bd-42010a8e00f0; succeeded=None\n",
      "INFO:root:Job enhance-download-0326-2330-e1b1 in namespace kubeflow; uid=ae985a54-314d-11e8-a1bd-42010a8e00f0; succeeded=None\n",
      "INFO:root:Job enhance-download-0326-2330-e1b1 in namespace kubeflow; uid=ae985a54-314d-11e8-a1bd-42010a8e00f0; succeeded=1\n"
     ]
    }
   ],
   "source": [
    "!python {LAUNCHER_PATH} --app_root {APP_ROOT} --mode study_runner --batch --study_id {study_id}"
   ]
  },
  {
   "cell_type": "code",
   "execution_count": null,
   "metadata": {},
   "outputs": [],
   "source": []
  }
 ],
 "metadata": {
  "kernelspec": {
   "display_name": "Python 3",
   "language": "python",
   "name": "python3"
  },
  "language_info": {
   "codemirror_mode": {
    "name": "ipython",
    "version": 3
   },
   "file_extension": ".py",
   "mimetype": "text/x-python",
   "name": "python",
   "nbconvert_exporter": "python",
   "pygments_lexer": "ipython3",
   "version": "3.6.3"
  }
 },
 "nbformat": 4,
 "nbformat_minor": 2
}
